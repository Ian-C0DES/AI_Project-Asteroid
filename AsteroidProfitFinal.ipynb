{
 "cells": [
  {
   "cell_type": "code",
   "execution_count": 1,
   "id": "b04bea92",
   "metadata": {},
   "outputs": [],
   "source": [
    "import pandas as pd\n",
    "import numpy as np\n",
    "import requests \n",
    "from sklearn.ensemble import RandomForestClassifier\n",
    "import matplotlib.pyplot as plt\n",
    "from sklearn.model_selection import validation_curve\n",
    "from sklearn.model_selection import GridSearchCV\n",
    "import time\n",
    "from sklearn.model_selection import RandomizedSearchCV\n",
    "from scipy.stats import uniform\n",
    "from sklearn.model_selection import learning_curve"
   ]
  },
  {
   "cell_type": "code",
   "execution_count": 2,
   "id": "f1c34004",
   "metadata": {},
   "outputs": [],
   "source": [
    "#call asteranks api to grab data\n",
    "url = \"http://asterank.com/api/asterank?query=\" \n",
    "response = requests.get(url + '{\"price\":{\"ㅤ$lt\":1, \"ㅤ$gt\":0}}&limit=1000').json()\n",
    "# put that data into dataframes\n",
    "df = pd.DataFrame(response)\n",
    "df = df.sort_values(by = 'price' , ascending = False)\n",
    "response2 = requests.get(url + '{\"price\":{\"$gt\":1}}&limit=1000').json()\n",
    "df2 = pd.DataFrame(response2)\n"
   ]
  },
  {
   "cell_type": "code",
   "execution_count": 3,
   "id": "813e5f3a",
   "metadata": {},
   "outputs": [
    {
     "data": {
      "text/html": [
       "<div>\n",
       "<style scoped>\n",
       "    .dataframe tbody tr th:only-of-type {\n",
       "        vertical-align: middle;\n",
       "    }\n",
       "\n",
       "    .dataframe tbody tr th {\n",
       "        vertical-align: top;\n",
       "    }\n",
       "\n",
       "    .dataframe thead th {\n",
       "        text-align: right;\n",
       "    }\n",
       "</style>\n",
       "<table border=\"1\" class=\"dataframe\">\n",
       "  <thead>\n",
       "    <tr style=\"text-align: right;\">\n",
       "      <th></th>\n",
       "      <th>sigma_tp</th>\n",
       "      <th>diameter</th>\n",
       "      <th>sigma_q</th>\n",
       "      <th>epoch_mjd</th>\n",
       "      <th>ad</th>\n",
       "      <th>producer</th>\n",
       "      <th>rms</th>\n",
       "      <th>H_sigma</th>\n",
       "      <th>closeness</th>\n",
       "      <th>spec_B</th>\n",
       "      <th>...</th>\n",
       "      <th>spec</th>\n",
       "      <th>q</th>\n",
       "      <th>w</th>\n",
       "      <th>moid_jup</th>\n",
       "      <th>n</th>\n",
       "      <th>sigma_ma</th>\n",
       "      <th>first_obs</th>\n",
       "      <th>n_del_obs_used</th>\n",
       "      <th>spkid</th>\n",
       "      <th>n_dop_obs_used</th>\n",
       "    </tr>\n",
       "  </thead>\n",
       "  <tbody>\n",
       "    <tr>\n",
       "      <th>797</th>\n",
       "      <td>0.000054</td>\n",
       "      <td>167.791</td>\n",
       "      <td>7.607400e-08</td>\n",
       "      <td>58600.0</td>\n",
       "      <td>3.258720</td>\n",
       "      <td>Otto Matic</td>\n",
       "      <td>0.43625</td>\n",
       "      <td></td>\n",
       "      <td>2642.423039</td>\n",
       "      <td>S</td>\n",
       "      <td>...</td>\n",
       "      <td>S</td>\n",
       "      <td>2.286373</td>\n",
       "      <td>76.303672</td>\n",
       "      <td>1.966530</td>\n",
       "      <td>0.213494</td>\n",
       "      <td>0.000011</td>\n",
       "      <td>1904-04-20</td>\n",
       "      <td></td>\n",
       "      <td>2000532.0</td>\n",
       "      <td></td>\n",
       "    </tr>\n",
       "    <tr>\n",
       "      <th>796</th>\n",
       "      <td>0.000074</td>\n",
       "      <td>148.97</td>\n",
       "      <td>5.943200e-08</td>\n",
       "      <td>58600.0</td>\n",
       "      <td>3.117824</td>\n",
       "      <td>Otto Matic</td>\n",
       "      <td>0.56529</td>\n",
       "      <td></td>\n",
       "      <td>2640.136754</td>\n",
       "      <td>Sl</td>\n",
       "      <td>...</td>\n",
       "      <td>Sl</td>\n",
       "      <td>2.479441</td>\n",
       "      <td>5.562661</td>\n",
       "      <td>1.906030</td>\n",
       "      <td>0.210516</td>\n",
       "      <td>0.000016</td>\n",
       "      <td>1893-02-06</td>\n",
       "      <td></td>\n",
       "      <td>2000354.0</td>\n",
       "      <td></td>\n",
       "    </tr>\n",
       "    <tr>\n",
       "      <th>795</th>\n",
       "      <td>0.000059</td>\n",
       "      <td>148.128</td>\n",
       "      <td>9.015200e-08</td>\n",
       "      <td>58600.0</td>\n",
       "      <td>3.555410</td>\n",
       "      <td>Otto Matic</td>\n",
       "      <td>0.45046</td>\n",
       "      <td></td>\n",
       "      <td>2641.611806</td>\n",
       "      <td>S</td>\n",
       "      <td>...</td>\n",
       "      <td>S</td>\n",
       "      <td>2.232245</td>\n",
       "      <td>315.136183</td>\n",
       "      <td>1.922010</td>\n",
       "      <td>0.200214</td>\n",
       "      <td>0.000012</td>\n",
       "      <td>1901-05-19</td>\n",
       "      <td></td>\n",
       "      <td>2000471.0</td>\n",
       "      <td></td>\n",
       "    </tr>\n",
       "    <tr>\n",
       "      <th>794</th>\n",
       "      <td>0.000114</td>\n",
       "      <td>139.77</td>\n",
       "      <td>9.789500e-08</td>\n",
       "      <td>58600.0</td>\n",
       "      <td>3.190289</td>\n",
       "      <td>Otto Matic</td>\n",
       "      <td>0.55520</td>\n",
       "      <td></td>\n",
       "      <td>2639.205561</td>\n",
       "      <td>R</td>\n",
       "      <td>...</td>\n",
       "      <td>R</td>\n",
       "      <td>2.654931</td>\n",
       "      <td>345.758604</td>\n",
       "      <td>2.264850</td>\n",
       "      <td>0.197264</td>\n",
       "      <td>0.000023</td>\n",
       "      <td>1892-12-11</td>\n",
       "      <td></td>\n",
       "      <td>2000349.0</td>\n",
       "      <td></td>\n",
       "    </tr>\n",
       "    <tr>\n",
       "      <th>793</th>\n",
       "      <td>0.000123</td>\n",
       "      <td>111.251</td>\n",
       "      <td>6.904900e-08</td>\n",
       "      <td>58600.0</td>\n",
       "      <td>2.373855</td>\n",
       "      <td>Otto Matic</td>\n",
       "      <td>0.42036</td>\n",
       "      <td></td>\n",
       "      <td>2652.158471</td>\n",
       "      <td>S</td>\n",
       "      <td>...</td>\n",
       "      <td>S</td>\n",
       "      <td>2.160638</td>\n",
       "      <td>269.731621</td>\n",
       "      <td>2.797620</td>\n",
       "      <td>0.288706</td>\n",
       "      <td>0.000036</td>\n",
       "      <td>1864-09-27</td>\n",
       "      <td></td>\n",
       "      <td>2000040.0</td>\n",
       "      <td></td>\n",
       "    </tr>\n",
       "    <tr>\n",
       "      <th>...</th>\n",
       "      <td>...</td>\n",
       "      <td>...</td>\n",
       "      <td>...</td>\n",
       "      <td>...</td>\n",
       "      <td>...</td>\n",
       "      <td>...</td>\n",
       "      <td>...</td>\n",
       "      <td>...</td>\n",
       "      <td>...</td>\n",
       "      <td>...</td>\n",
       "      <td>...</td>\n",
       "      <td>...</td>\n",
       "      <td>...</td>\n",
       "      <td>...</td>\n",
       "      <td>...</td>\n",
       "      <td>...</td>\n",
       "      <td>...</td>\n",
       "      <td>...</td>\n",
       "      <td>...</td>\n",
       "      <td>...</td>\n",
       "      <td>...</td>\n",
       "    </tr>\n",
       "    <tr>\n",
       "      <th>4</th>\n",
       "      <td>0.658840</td>\n",
       "      <td></td>\n",
       "      <td>7.835800e-06</td>\n",
       "      <td>58600.0</td>\n",
       "      <td>1.741019</td>\n",
       "      <td>Otto Matic</td>\n",
       "      <td>0.65906</td>\n",
       "      <td></td>\n",
       "      <td>5423.686243</td>\n",
       "      <td>Sq</td>\n",
       "      <td>...</td>\n",
       "      <td>Sq</td>\n",
       "      <td>1.033664</td>\n",
       "      <td>160.274947</td>\n",
       "      <td>3.278320</td>\n",
       "      <td>0.603155</td>\n",
       "      <td>0.381260</td>\n",
       "      <td>2002-02-22</td>\n",
       "      <td></td>\n",
       "      <td>3114077.0</td>\n",
       "      <td></td>\n",
       "    </tr>\n",
       "    <tr>\n",
       "      <th>3</th>\n",
       "      <td>0.000015</td>\n",
       "      <td>0.33</td>\n",
       "      <td>3.568100e-09</td>\n",
       "      <td>58600.0</td>\n",
       "      <td>1.695095</td>\n",
       "      <td>Otto Matic</td>\n",
       "      <td>0.45430</td>\n",
       "      <td></td>\n",
       "      <td>5849.051380</td>\n",
       "      <td>S(IV)</td>\n",
       "      <td>...</td>\n",
       "      <td>S(IV)</td>\n",
       "      <td>0.953191</td>\n",
       "      <td>162.824302</td>\n",
       "      <td>3.297030</td>\n",
       "      <td>0.646848</td>\n",
       "      <td>0.000010</td>\n",
       "      <td>1998-09-19</td>\n",
       "      <td>19.0</td>\n",
       "      <td>2025143.0</td>\n",
       "      <td>18.0</td>\n",
       "    </tr>\n",
       "    <tr>\n",
       "      <th>2</th>\n",
       "      <td>11.031000</td>\n",
       "      <td></td>\n",
       "      <td>1.093200e-04</td>\n",
       "      <td>58600.0</td>\n",
       "      <td>3.996086</td>\n",
       "      <td>Otto Matic</td>\n",
       "      <td>0.43177</td>\n",
       "      <td></td>\n",
       "      <td>3091.235120</td>\n",
       "      <td>S</td>\n",
       "      <td>...</td>\n",
       "      <td>S</td>\n",
       "      <td>0.949212</td>\n",
       "      <td>96.984016</td>\n",
       "      <td>0.963207</td>\n",
       "      <td>0.253490</td>\n",
       "      <td>2.728600</td>\n",
       "      <td>2000-02-28</td>\n",
       "      <td></td>\n",
       "      <td>3031814.0</td>\n",
       "      <td></td>\n",
       "    </tr>\n",
       "    <tr>\n",
       "      <th>1</th>\n",
       "      <td>0.020730</td>\n",
       "      <td></td>\n",
       "      <td>7.349300e-08</td>\n",
       "      <td>58600.0</td>\n",
       "      <td>1.494963</td>\n",
       "      <td>Otto Matic</td>\n",
       "      <td>0.18908</td>\n",
       "      <td></td>\n",
       "      <td>3456.677374</td>\n",
       "      <td>S</td>\n",
       "      <td>...</td>\n",
       "      <td>S</td>\n",
       "      <td>0.986680</td>\n",
       "      <td>13.924689</td>\n",
       "      <td>3.470550</td>\n",
       "      <td>0.713083</td>\n",
       "      <td>0.015453</td>\n",
       "      <td>2009-02-27</td>\n",
       "      <td></td>\n",
       "      <td>3448992.0</td>\n",
       "      <td></td>\n",
       "    </tr>\n",
       "    <tr>\n",
       "      <th>0</th>\n",
       "      <td>25.327000</td>\n",
       "      <td></td>\n",
       "      <td>6.537400e-04</td>\n",
       "      <td>58600.0</td>\n",
       "      <td>3.926279</td>\n",
       "      <td>Otto Matic</td>\n",
       "      <td>0.97644</td>\n",
       "      <td></td>\n",
       "      <td>3173.897043</td>\n",
       "      <td>Sq</td>\n",
       "      <td>...</td>\n",
       "      <td>Sq</td>\n",
       "      <td>0.986189</td>\n",
       "      <td>353.337623</td>\n",
       "      <td>1.205270</td>\n",
       "      <td>0.256035</td>\n",
       "      <td>6.013000</td>\n",
       "      <td>1998-01-24</td>\n",
       "      <td></td>\n",
       "      <td>3007925.0</td>\n",
       "      <td></td>\n",
       "    </tr>\n",
       "  </tbody>\n",
       "</table>\n",
       "<p>798 rows × 84 columns</p>\n",
       "</div>"
      ],
      "text/plain": [
       "      sigma_tp diameter       sigma_q  epoch_mjd        ad    producer  \\\n",
       "797   0.000054  167.791  7.607400e-08    58600.0  3.258720  Otto Matic   \n",
       "796   0.000074   148.97  5.943200e-08    58600.0  3.117824  Otto Matic   \n",
       "795   0.000059  148.128  9.015200e-08    58600.0  3.555410  Otto Matic   \n",
       "794   0.000114   139.77  9.789500e-08    58600.0  3.190289  Otto Matic   \n",
       "793   0.000123  111.251  6.904900e-08    58600.0  2.373855  Otto Matic   \n",
       "..         ...      ...           ...        ...       ...         ...   \n",
       "4     0.658840           7.835800e-06    58600.0  1.741019  Otto Matic   \n",
       "3     0.000015     0.33  3.568100e-09    58600.0  1.695095  Otto Matic   \n",
       "2    11.031000           1.093200e-04    58600.0  3.996086  Otto Matic   \n",
       "1     0.020730           7.349300e-08    58600.0  1.494963  Otto Matic   \n",
       "0    25.327000           6.537400e-04    58600.0  3.926279  Otto Matic   \n",
       "\n",
       "         rms H_sigma    closeness spec_B  ...   spec         q           w  \\\n",
       "797  0.43625          2642.423039      S  ...      S  2.286373   76.303672   \n",
       "796  0.56529          2640.136754     Sl  ...     Sl  2.479441    5.562661   \n",
       "795  0.45046          2641.611806      S  ...      S  2.232245  315.136183   \n",
       "794  0.55520          2639.205561      R  ...      R  2.654931  345.758604   \n",
       "793  0.42036          2652.158471      S  ...      S  2.160638  269.731621   \n",
       "..       ...     ...          ...    ...  ...    ...       ...         ...   \n",
       "4    0.65906          5423.686243     Sq  ...     Sq  1.033664  160.274947   \n",
       "3    0.45430          5849.051380  S(IV)  ...  S(IV)  0.953191  162.824302   \n",
       "2    0.43177          3091.235120      S  ...      S  0.949212   96.984016   \n",
       "1    0.18908          3456.677374      S  ...      S  0.986680   13.924689   \n",
       "0    0.97644          3173.897043     Sq  ...     Sq  0.986189  353.337623   \n",
       "\n",
       "     moid_jup         n  sigma_ma   first_obs n_del_obs_used      spkid  \\\n",
       "797  1.966530  0.213494  0.000011  1904-04-20                 2000532.0   \n",
       "796  1.906030  0.210516  0.000016  1893-02-06                 2000354.0   \n",
       "795  1.922010  0.200214  0.000012  1901-05-19                 2000471.0   \n",
       "794  2.264850  0.197264  0.000023  1892-12-11                 2000349.0   \n",
       "793  2.797620  0.288706  0.000036  1864-09-27                 2000040.0   \n",
       "..        ...       ...       ...         ...            ...        ...   \n",
       "4    3.278320  0.603155  0.381260  2002-02-22                 3114077.0   \n",
       "3    3.297030  0.646848  0.000010  1998-09-19           19.0  2025143.0   \n",
       "2    0.963207  0.253490  2.728600  2000-02-28                 3031814.0   \n",
       "1    3.470550  0.713083  0.015453  2009-02-27                 3448992.0   \n",
       "0    1.205270  0.256035  6.013000  1998-01-24                 3007925.0   \n",
       "\n",
       "    n_dop_obs_used  \n",
       "797                 \n",
       "796                 \n",
       "795                 \n",
       "794                 \n",
       "793                 \n",
       "..             ...  \n",
       "4                   \n",
       "3             18.0  \n",
       "2                   \n",
       "1                   \n",
       "0                   \n",
       "\n",
       "[798 rows x 84 columns]"
      ]
     },
     "execution_count": 3,
     "metadata": {},
     "output_type": "execute_result"
    }
   ],
   "source": [
    "df"
   ]
  },
  {
   "cell_type": "code",
   "execution_count": 4,
   "id": "8d78dc03",
   "metadata": {},
   "outputs": [
    {
     "data": {
      "text/html": [
       "<div>\n",
       "<style scoped>\n",
       "    .dataframe tbody tr th:only-of-type {\n",
       "        vertical-align: middle;\n",
       "    }\n",
       "\n",
       "    .dataframe tbody tr th {\n",
       "        vertical-align: top;\n",
       "    }\n",
       "\n",
       "    .dataframe thead th {\n",
       "        text-align: right;\n",
       "    }\n",
       "</style>\n",
       "<table border=\"1\" class=\"dataframe\">\n",
       "  <thead>\n",
       "    <tr style=\"text-align: right;\">\n",
       "      <th></th>\n",
       "      <th>full_name</th>\n",
       "      <th>spec</th>\n",
       "      <th>class</th>\n",
       "      <th>ad</th>\n",
       "      <th>q</th>\n",
       "      <th>a</th>\n",
       "      <th>e</th>\n",
       "      <th>dv</th>\n",
       "      <th>per</th>\n",
       "      <th>price</th>\n",
       "      <th>profit</th>\n",
       "      <th>moid</th>\n",
       "      <th>diameter</th>\n",
       "    </tr>\n",
       "  </thead>\n",
       "  <tbody>\n",
       "    <tr>\n",
       "      <th>797</th>\n",
       "      <td>532 Herculina (1904 NY)</td>\n",
       "      <td>S</td>\n",
       "      <td>MBA</td>\n",
       "      <td>3.258720</td>\n",
       "      <td>2.286373</td>\n",
       "      <td>2.772546</td>\n",
       "      <td>0.175353</td>\n",
       "      <td>10.733275</td>\n",
       "      <td>1686.229234</td>\n",
       "      <td>8.378840e-37</td>\n",
       "      <td>6.035861e-38</td>\n",
       "      <td>1.354400</td>\n",
       "      <td>167.791</td>\n",
       "    </tr>\n",
       "    <tr>\n",
       "      <th>796</th>\n",
       "      <td>354 Eleonora (1893 A)</td>\n",
       "      <td>Sl</td>\n",
       "      <td>MBA</td>\n",
       "      <td>3.117824</td>\n",
       "      <td>2.479441</td>\n",
       "      <td>2.798633</td>\n",
       "      <td>0.114053</td>\n",
       "      <td>11.416972</td>\n",
       "      <td>1710.083231</td>\n",
       "      <td>5.863736e-37</td>\n",
       "      <td>3.967666e-38</td>\n",
       "      <td>1.492900</td>\n",
       "      <td>148.97</td>\n",
       "    </tr>\n",
       "    <tr>\n",
       "      <th>795</th>\n",
       "      <td>471 Papagena (1901 GN)</td>\n",
       "      <td>S</td>\n",
       "      <td>MBA</td>\n",
       "      <td>3.555410</td>\n",
       "      <td>2.232245</td>\n",
       "      <td>2.893827</td>\n",
       "      <td>0.228619</td>\n",
       "      <td>10.449882</td>\n",
       "      <td>1798.072857</td>\n",
       "      <td>5.764868e-37</td>\n",
       "      <td>4.264148e-38</td>\n",
       "      <td>1.267260</td>\n",
       "      <td>148.128</td>\n",
       "    </tr>\n",
       "    <tr>\n",
       "      <th>794</th>\n",
       "      <td>349 Dembowska (1892 T)</td>\n",
       "      <td>R</td>\n",
       "      <td>MBA</td>\n",
       "      <td>3.190289</td>\n",
       "      <td>2.654931</td>\n",
       "      <td>2.922610</td>\n",
       "      <td>0.091589</td>\n",
       "      <td>10.493194</td>\n",
       "      <td>1824.965628</td>\n",
       "      <td>4.843060e-37</td>\n",
       "      <td>3.564270e-38</td>\n",
       "      <td>1.657380</td>\n",
       "      <td>139.77</td>\n",
       "    </tr>\n",
       "    <tr>\n",
       "      <th>793</th>\n",
       "      <td>40 Harmonia</td>\n",
       "      <td>S</td>\n",
       "      <td>MBA</td>\n",
       "      <td>2.373855</td>\n",
       "      <td>2.160638</td>\n",
       "      <td>2.267247</td>\n",
       "      <td>0.047021</td>\n",
       "      <td>NaN</td>\n",
       "      <td>1246.942831</td>\n",
       "      <td>2.442248e-37</td>\n",
       "      <td>1.579404e-38</td>\n",
       "      <td>1.161590</td>\n",
       "      <td>111.251</td>\n",
       "    </tr>\n",
       "    <tr>\n",
       "      <th>...</th>\n",
       "      <td>...</td>\n",
       "      <td>...</td>\n",
       "      <td>...</td>\n",
       "      <td>...</td>\n",
       "      <td>...</td>\n",
       "      <td>...</td>\n",
       "      <td>...</td>\n",
       "      <td>...</td>\n",
       "      <td>...</td>\n",
       "      <td>...</td>\n",
       "      <td>...</td>\n",
       "      <td>...</td>\n",
       "      <td>...</td>\n",
       "    </tr>\n",
       "    <tr>\n",
       "      <th>4</th>\n",
       "      <td>(2002 DQ3)</td>\n",
       "      <td>Sq</td>\n",
       "      <td>AMO</td>\n",
       "      <td>1.741019</td>\n",
       "      <td>1.033664</td>\n",
       "      <td>1.387342</td>\n",
       "      <td>0.254932</td>\n",
       "      <td>4.810807</td>\n",
       "      <td>596.861457</td>\n",
       "      <td>3.761110e-47</td>\n",
       "      <td>1.240732e-47</td>\n",
       "      <td>0.050832</td>\n",
       "      <td></td>\n",
       "    </tr>\n",
       "    <tr>\n",
       "      <th>3</th>\n",
       "      <td>25143 Itokawa (1998 SF36)</td>\n",
       "      <td>S(IV)</td>\n",
       "      <td>APO</td>\n",
       "      <td>1.695095</td>\n",
       "      <td>0.953191</td>\n",
       "      <td>1.324143</td>\n",
       "      <td>0.280145</td>\n",
       "      <td>4.637086</td>\n",
       "      <td>556.545394</td>\n",
       "      <td>3.147010e-47</td>\n",
       "      <td>1.161512e-47</td>\n",
       "      <td>0.013095</td>\n",
       "      <td>0.33</td>\n",
       "    </tr>\n",
       "    <tr>\n",
       "      <th>2</th>\n",
       "      <td>(2000 DO8)</td>\n",
       "      <td>S</td>\n",
       "      <td>APO</td>\n",
       "      <td>3.996086</td>\n",
       "      <td>0.949212</td>\n",
       "      <td>2.472649</td>\n",
       "      <td>0.616115</td>\n",
       "      <td>6.488635</td>\n",
       "      <td>1420.176061</td>\n",
       "      <td>9.447480e-48</td>\n",
       "      <td>1.316982e-48</td>\n",
       "      <td>0.003857</td>\n",
       "      <td></td>\n",
       "    </tr>\n",
       "    <tr>\n",
       "      <th>1</th>\n",
       "      <td>(2009 DD45)</td>\n",
       "      <td>S</td>\n",
       "      <td>APO</td>\n",
       "      <td>1.494963</td>\n",
       "      <td>0.986680</td>\n",
       "      <td>1.240821</td>\n",
       "      <td>0.204817</td>\n",
       "      <td>6.020556</td>\n",
       "      <td>504.850024</td>\n",
       "      <td>2.373100e-48</td>\n",
       "      <td>3.986791e-49</td>\n",
       "      <td>0.000744</td>\n",
       "      <td></td>\n",
       "    </tr>\n",
       "    <tr>\n",
       "      <th>0</th>\n",
       "      <td>(1998 BT13)</td>\n",
       "      <td>Sq</td>\n",
       "      <td>APO</td>\n",
       "      <td>3.926279</td>\n",
       "      <td>0.986189</td>\n",
       "      <td>2.456234</td>\n",
       "      <td>0.598495</td>\n",
       "      <td>6.345949</td>\n",
       "      <td>1406.057351</td>\n",
       "      <td>9.022273e-49</td>\n",
       "      <td>1.320376e-49</td>\n",
       "      <td>0.003416</td>\n",
       "      <td></td>\n",
       "    </tr>\n",
       "  </tbody>\n",
       "</table>\n",
       "<p>798 rows × 13 columns</p>\n",
       "</div>"
      ],
      "text/plain": [
       "                     full_name   spec class        ad         q         a  \\\n",
       "797    532 Herculina (1904 NY)      S   MBA  3.258720  2.286373  2.772546   \n",
       "796      354 Eleonora (1893 A)     Sl   MBA  3.117824  2.479441  2.798633   \n",
       "795     471 Papagena (1901 GN)      S   MBA  3.555410  2.232245  2.893827   \n",
       "794     349 Dembowska (1892 T)      R   MBA  3.190289  2.654931  2.922610   \n",
       "793                40 Harmonia      S   MBA  2.373855  2.160638  2.267247   \n",
       "..                         ...    ...   ...       ...       ...       ...   \n",
       "4                   (2002 DQ3)     Sq   AMO  1.741019  1.033664  1.387342   \n",
       "3    25143 Itokawa (1998 SF36)  S(IV)   APO  1.695095  0.953191  1.324143   \n",
       "2                   (2000 DO8)      S   APO  3.996086  0.949212  2.472649   \n",
       "1                  (2009 DD45)      S   APO  1.494963  0.986680  1.240821   \n",
       "0                  (1998 BT13)     Sq   APO  3.926279  0.986189  2.456234   \n",
       "\n",
       "            e         dv          per         price        profit      moid  \\\n",
       "797  0.175353  10.733275  1686.229234  8.378840e-37  6.035861e-38  1.354400   \n",
       "796  0.114053  11.416972  1710.083231  5.863736e-37  3.967666e-38  1.492900   \n",
       "795  0.228619  10.449882  1798.072857  5.764868e-37  4.264148e-38  1.267260   \n",
       "794  0.091589  10.493194  1824.965628  4.843060e-37  3.564270e-38  1.657380   \n",
       "793  0.047021        NaN  1246.942831  2.442248e-37  1.579404e-38  1.161590   \n",
       "..        ...        ...          ...           ...           ...       ...   \n",
       "4    0.254932   4.810807   596.861457  3.761110e-47  1.240732e-47  0.050832   \n",
       "3    0.280145   4.637086   556.545394  3.147010e-47  1.161512e-47  0.013095   \n",
       "2    0.616115   6.488635  1420.176061  9.447480e-48  1.316982e-48  0.003857   \n",
       "1    0.204817   6.020556   504.850024  2.373100e-48  3.986791e-49  0.000744   \n",
       "0    0.598495   6.345949  1406.057351  9.022273e-49  1.320376e-49  0.003416   \n",
       "\n",
       "    diameter  \n",
       "797  167.791  \n",
       "796   148.97  \n",
       "795  148.128  \n",
       "794   139.77  \n",
       "793  111.251  \n",
       "..       ...  \n",
       "4             \n",
       "3       0.33  \n",
       "2             \n",
       "1             \n",
       "0             \n",
       "\n",
       "[798 rows x 13 columns]"
      ]
     },
     "execution_count": 4,
     "metadata": {},
     "output_type": "execute_result"
    }
   ],
   "source": [
    "# some values were redundant and some didnt fill out for every asteroid\n",
    "# These values are the ones we thought may be most useful in our initial run\n",
    "new_df = df[['full_name', 'spec' , 'class' , 'ad' , 'q' , 'a' , 'e' , 'dv' ,'per' , 'price' , 'profit' , 'moid' , 'diameter', 'biop']]\n",
    "new_df2 = df2[['full_name', 'spec' , 'class' , 'ad' , 'q' , 'a' , 'e' , 'dv' ,'per' , 'price' , 'profit' , 'moid' , 'diameter', 'biop']]\n",
    "# new_df2\n",
    "new_df"
   ]
  },
  {
   "cell_type": "code",
   "execution_count": 5,
   "id": "bee641db",
   "metadata": {},
   "outputs": [
    {
     "data": {
      "text/html": [
       "<div>\n",
       "<style scoped>\n",
       "    .dataframe tbody tr th:only-of-type {\n",
       "        vertical-align: middle;\n",
       "    }\n",
       "\n",
       "    .dataframe tbody tr th {\n",
       "        vertical-align: top;\n",
       "    }\n",
       "\n",
       "    .dataframe thead th {\n",
       "        text-align: right;\n",
       "    }\n",
       "</style>\n",
       "<table border=\"1\" class=\"dataframe\">\n",
       "  <thead>\n",
       "    <tr style=\"text-align: right;\">\n",
       "      <th></th>\n",
       "      <th>full_name</th>\n",
       "      <th>spec</th>\n",
       "      <th>class</th>\n",
       "      <th>ad</th>\n",
       "      <th>q</th>\n",
       "      <th>a</th>\n",
       "      <th>e</th>\n",
       "      <th>dv</th>\n",
       "      <th>per</th>\n",
       "      <th>price</th>\n",
       "      <th>profit</th>\n",
       "      <th>moid</th>\n",
       "      <th>diameter</th>\n",
       "    </tr>\n",
       "  </thead>\n",
       "  <tbody>\n",
       "    <tr>\n",
       "      <th>797</th>\n",
       "      <td>532 Herculina (1904 NY)</td>\n",
       "      <td>S</td>\n",
       "      <td>MBA</td>\n",
       "      <td>3.258720</td>\n",
       "      <td>2.286373</td>\n",
       "      <td>2.772546</td>\n",
       "      <td>0.175353</td>\n",
       "      <td>10.733275</td>\n",
       "      <td>1686.229234</td>\n",
       "      <td>8.378840e-37</td>\n",
       "      <td>6.035861e-38</td>\n",
       "      <td>1.35440</td>\n",
       "      <td>167.791</td>\n",
       "    </tr>\n",
       "    <tr>\n",
       "      <th>796</th>\n",
       "      <td>354 Eleonora (1893 A)</td>\n",
       "      <td>Sl</td>\n",
       "      <td>MBA</td>\n",
       "      <td>3.117824</td>\n",
       "      <td>2.479441</td>\n",
       "      <td>2.798633</td>\n",
       "      <td>0.114053</td>\n",
       "      <td>11.416972</td>\n",
       "      <td>1710.083231</td>\n",
       "      <td>5.863736e-37</td>\n",
       "      <td>3.967666e-38</td>\n",
       "      <td>1.49290</td>\n",
       "      <td>148.97</td>\n",
       "    </tr>\n",
       "    <tr>\n",
       "      <th>795</th>\n",
       "      <td>471 Papagena (1901 GN)</td>\n",
       "      <td>S</td>\n",
       "      <td>MBA</td>\n",
       "      <td>3.555410</td>\n",
       "      <td>2.232245</td>\n",
       "      <td>2.893827</td>\n",
       "      <td>0.228619</td>\n",
       "      <td>10.449882</td>\n",
       "      <td>1798.072857</td>\n",
       "      <td>5.764868e-37</td>\n",
       "      <td>4.264148e-38</td>\n",
       "      <td>1.26726</td>\n",
       "      <td>148.128</td>\n",
       "    </tr>\n",
       "    <tr>\n",
       "      <th>794</th>\n",
       "      <td>349 Dembowska (1892 T)</td>\n",
       "      <td>R</td>\n",
       "      <td>MBA</td>\n",
       "      <td>3.190289</td>\n",
       "      <td>2.654931</td>\n",
       "      <td>2.922610</td>\n",
       "      <td>0.091589</td>\n",
       "      <td>10.493194</td>\n",
       "      <td>1824.965628</td>\n",
       "      <td>4.843060e-37</td>\n",
       "      <td>3.564270e-38</td>\n",
       "      <td>1.65738</td>\n",
       "      <td>139.77</td>\n",
       "    </tr>\n",
       "    <tr>\n",
       "      <th>793</th>\n",
       "      <td>40 Harmonia</td>\n",
       "      <td>S</td>\n",
       "      <td>MBA</td>\n",
       "      <td>2.373855</td>\n",
       "      <td>2.160638</td>\n",
       "      <td>2.267247</td>\n",
       "      <td>0.047021</td>\n",
       "      <td>NaN</td>\n",
       "      <td>1246.942831</td>\n",
       "      <td>2.442248e-37</td>\n",
       "      <td>1.579404e-38</td>\n",
       "      <td>1.16159</td>\n",
       "      <td>111.251</td>\n",
       "    </tr>\n",
       "    <tr>\n",
       "      <th>...</th>\n",
       "      <td>...</td>\n",
       "      <td>...</td>\n",
       "      <td>...</td>\n",
       "      <td>...</td>\n",
       "      <td>...</td>\n",
       "      <td>...</td>\n",
       "      <td>...</td>\n",
       "      <td>...</td>\n",
       "      <td>...</td>\n",
       "      <td>...</td>\n",
       "      <td>...</td>\n",
       "      <td>...</td>\n",
       "      <td>...</td>\n",
       "    </tr>\n",
       "    <tr>\n",
       "      <th>991</th>\n",
       "      <td>372 Palma (1893 AH)</td>\n",
       "      <td>B</td>\n",
       "      <td>MBA</td>\n",
       "      <td>3.966001</td>\n",
       "      <td>2.334280</td>\n",
       "      <td>3.150141</td>\n",
       "      <td>0.258992</td>\n",
       "      <td>11.987880</td>\n",
       "      <td>2042.176736</td>\n",
       "      <td>4.065526e+18</td>\n",
       "      <td>2.615080e+17</td>\n",
       "      <td>1.44687</td>\n",
       "      <td>173.642</td>\n",
       "    </tr>\n",
       "    <tr>\n",
       "      <th>992</th>\n",
       "      <td>423 Diotima (1896 DB)</td>\n",
       "      <td>C</td>\n",
       "      <td>MBA</td>\n",
       "      <td>3.176470</td>\n",
       "      <td>2.956412</td>\n",
       "      <td>3.066441</td>\n",
       "      <td>0.035882</td>\n",
       "      <td>11.224330</td>\n",
       "      <td>1961.328629</td>\n",
       "      <td>4.235026e+18</td>\n",
       "      <td>2.908848e+17</td>\n",
       "      <td>1.94249</td>\n",
       "      <td>175.859</td>\n",
       "    </tr>\n",
       "    <tr>\n",
       "      <th>993</th>\n",
       "      <td>702 Alauda (1910 KQ)</td>\n",
       "      <td>B</td>\n",
       "      <td>MBA</td>\n",
       "      <td>3.247375</td>\n",
       "      <td>3.137278</td>\n",
       "      <td>3.192327</td>\n",
       "      <td>0.017244</td>\n",
       "      <td>12.757615</td>\n",
       "      <td>2083.336507</td>\n",
       "      <td>5.408989e+18</td>\n",
       "      <td>3.264933e+17</td>\n",
       "      <td>2.12080</td>\n",
       "      <td>190.98</td>\n",
       "    </tr>\n",
       "    <tr>\n",
       "      <th>994</th>\n",
       "      <td>334 Chicago (1892 L)</td>\n",
       "      <td>C</td>\n",
       "      <td>OMB</td>\n",
       "      <td>3.981728</td>\n",
       "      <td>3.798870</td>\n",
       "      <td>3.890299</td>\n",
       "      <td>0.023502</td>\n",
       "      <td>11.703702</td>\n",
       "      <td>2802.676341</td>\n",
       "      <td>6.115258e+18</td>\n",
       "      <td>4.009727e+17</td>\n",
       "      <td>2.78295</td>\n",
       "      <td>198.77</td>\n",
       "    </tr>\n",
       "    <tr>\n",
       "      <th>995</th>\n",
       "      <td>511 Davida (1903 LU)</td>\n",
       "      <td>C</td>\n",
       "      <td>MBA</td>\n",
       "      <td>3.760305</td>\n",
       "      <td>2.569456</td>\n",
       "      <td>3.164880</td>\n",
       "      <td>0.188135</td>\n",
       "      <td>11.144603</td>\n",
       "      <td>2056.526820</td>\n",
       "      <td>1.538263e+19</td>\n",
       "      <td>1.064011e+18</td>\n",
       "      <td>1.59307</td>\n",
       "      <td>270.327</td>\n",
       "    </tr>\n",
       "  </tbody>\n",
       "</table>\n",
       "<p>1794 rows × 13 columns</p>\n",
       "</div>"
      ],
      "text/plain": [
       "                   full_name spec class        ad         q         a  \\\n",
       "797  532 Herculina (1904 NY)    S   MBA  3.258720  2.286373  2.772546   \n",
       "796    354 Eleonora (1893 A)   Sl   MBA  3.117824  2.479441  2.798633   \n",
       "795   471 Papagena (1901 GN)    S   MBA  3.555410  2.232245  2.893827   \n",
       "794   349 Dembowska (1892 T)    R   MBA  3.190289  2.654931  2.922610   \n",
       "793              40 Harmonia    S   MBA  2.373855  2.160638  2.267247   \n",
       "..                       ...  ...   ...       ...       ...       ...   \n",
       "991      372 Palma (1893 AH)    B   MBA  3.966001  2.334280  3.150141   \n",
       "992    423 Diotima (1896 DB)    C   MBA  3.176470  2.956412  3.066441   \n",
       "993     702 Alauda (1910 KQ)    B   MBA  3.247375  3.137278  3.192327   \n",
       "994     334 Chicago (1892 L)    C   OMB  3.981728  3.798870  3.890299   \n",
       "995     511 Davida (1903 LU)    C   MBA  3.760305  2.569456  3.164880   \n",
       "\n",
       "            e         dv          per         price        profit     moid  \\\n",
       "797  0.175353  10.733275  1686.229234  8.378840e-37  6.035861e-38  1.35440   \n",
       "796  0.114053  11.416972  1710.083231  5.863736e-37  3.967666e-38  1.49290   \n",
       "795  0.228619  10.449882  1798.072857  5.764868e-37  4.264148e-38  1.26726   \n",
       "794  0.091589  10.493194  1824.965628  4.843060e-37  3.564270e-38  1.65738   \n",
       "793  0.047021        NaN  1246.942831  2.442248e-37  1.579404e-38  1.16159   \n",
       "..        ...        ...          ...           ...           ...      ...   \n",
       "991  0.258992  11.987880  2042.176736  4.065526e+18  2.615080e+17  1.44687   \n",
       "992  0.035882  11.224330  1961.328629  4.235026e+18  2.908848e+17  1.94249   \n",
       "993  0.017244  12.757615  2083.336507  5.408989e+18  3.264933e+17  2.12080   \n",
       "994  0.023502  11.703702  2802.676341  6.115258e+18  4.009727e+17  2.78295   \n",
       "995  0.188135  11.144603  2056.526820  1.538263e+19  1.064011e+18  1.59307   \n",
       "\n",
       "    diameter  \n",
       "797  167.791  \n",
       "796   148.97  \n",
       "795  148.128  \n",
       "794   139.77  \n",
       "793  111.251  \n",
       "..       ...  \n",
       "991  173.642  \n",
       "992  175.859  \n",
       "993   190.98  \n",
       "994   198.77  \n",
       "995  270.327  \n",
       "\n",
       "[1794 rows x 13 columns]"
      ]
     },
     "execution_count": 5,
     "metadata": {},
     "output_type": "execute_result"
    }
   ],
   "source": [
    "#we appended these two data frames so that they can be one big data frame\n",
    "merge = [new_df,new_df2]\n",
    "result = pd.concat(merge)\n",
    "result"
   ]
  },
  {
   "cell_type": "code",
   "execution_count": 6,
   "id": "b6b05d36",
   "metadata": {},
   "outputs": [],
   "source": [
    "# AU = Astronomical Units, distance from Earth to the Sun\n",
    "\n",
    "# spec = spectral type = (classification of an asteroid based on color, make up, and its ability to reflect light)\n",
    "\n",
    "# ad = aphelion distance (AU) = (furthest distance of the meteors orbit from the sun)\n",
    "\n",
    "# q = perihelion (AU) = (distance of the meteors orbit from the sun)\n",
    "\n",
    "# a = semi-major axis (AU) = (longest diameter from its obit)\n",
    "\n",
    "# e = eccentricity = (deviation of orbit from circular form)\n",
    "\n",
    "# dv = delta-velocity = (the change in velocity needed to needed for transferring a spacecraft from Earth to an asteroid)\n",
    "\n",
    "# per = period => (how long for 1 revolution around the sun)\n",
    "\n",
    "# moid = (minimum orbit intersection distance)"
   ]
  },
  {
   "cell_type": "code",
   "execution_count": 7,
   "id": "024b8e3b",
   "metadata": {
    "scrolled": true
   },
   "outputs": [
    {
     "data": {
      "text/html": [
       "<div>\n",
       "<style scoped>\n",
       "    .dataframe tbody tr th:only-of-type {\n",
       "        vertical-align: middle;\n",
       "    }\n",
       "\n",
       "    .dataframe tbody tr th {\n",
       "        vertical-align: top;\n",
       "    }\n",
       "\n",
       "    .dataframe thead th {\n",
       "        text-align: right;\n",
       "    }\n",
       "</style>\n",
       "<table border=\"1\" class=\"dataframe\">\n",
       "  <thead>\n",
       "    <tr style=\"text-align: right;\">\n",
       "      <th></th>\n",
       "      <th>full_name</th>\n",
       "      <th>spec</th>\n",
       "      <th>class</th>\n",
       "      <th>ad</th>\n",
       "      <th>q</th>\n",
       "      <th>a</th>\n",
       "      <th>e</th>\n",
       "      <th>dv</th>\n",
       "      <th>per</th>\n",
       "      <th>price</th>\n",
       "      <th>profit</th>\n",
       "      <th>moid</th>\n",
       "      <th>diameter</th>\n",
       "    </tr>\n",
       "  </thead>\n",
       "  <tbody>\n",
       "    <tr>\n",
       "      <th>797</th>\n",
       "      <td>532 Herculina (1904 NY)</td>\n",
       "      <td>S</td>\n",
       "      <td>MBA</td>\n",
       "      <td>3.258720</td>\n",
       "      <td>2.286373</td>\n",
       "      <td>2.772546</td>\n",
       "      <td>0.175353</td>\n",
       "      <td>10.733275</td>\n",
       "      <td>1686.229234</td>\n",
       "      <td>8.378840e-37</td>\n",
       "      <td>6.035861e-38</td>\n",
       "      <td>1.35440</td>\n",
       "      <td>167.791</td>\n",
       "    </tr>\n",
       "    <tr>\n",
       "      <th>796</th>\n",
       "      <td>354 Eleonora (1893 A)</td>\n",
       "      <td>Sl</td>\n",
       "      <td>MBA</td>\n",
       "      <td>3.117824</td>\n",
       "      <td>2.479441</td>\n",
       "      <td>2.798633</td>\n",
       "      <td>0.114053</td>\n",
       "      <td>11.416972</td>\n",
       "      <td>1710.083231</td>\n",
       "      <td>5.863736e-37</td>\n",
       "      <td>3.967666e-38</td>\n",
       "      <td>1.49290</td>\n",
       "      <td>148.97</td>\n",
       "    </tr>\n",
       "    <tr>\n",
       "      <th>795</th>\n",
       "      <td>471 Papagena (1901 GN)</td>\n",
       "      <td>S</td>\n",
       "      <td>MBA</td>\n",
       "      <td>3.555410</td>\n",
       "      <td>2.232245</td>\n",
       "      <td>2.893827</td>\n",
       "      <td>0.228619</td>\n",
       "      <td>10.449882</td>\n",
       "      <td>1798.072857</td>\n",
       "      <td>5.764868e-37</td>\n",
       "      <td>4.264148e-38</td>\n",
       "      <td>1.26726</td>\n",
       "      <td>148.128</td>\n",
       "    </tr>\n",
       "    <tr>\n",
       "      <th>794</th>\n",
       "      <td>349 Dembowska (1892 T)</td>\n",
       "      <td>R</td>\n",
       "      <td>MBA</td>\n",
       "      <td>3.190289</td>\n",
       "      <td>2.654931</td>\n",
       "      <td>2.922610</td>\n",
       "      <td>0.091589</td>\n",
       "      <td>10.493194</td>\n",
       "      <td>1824.965628</td>\n",
       "      <td>4.843060e-37</td>\n",
       "      <td>3.564270e-38</td>\n",
       "      <td>1.65738</td>\n",
       "      <td>139.77</td>\n",
       "    </tr>\n",
       "    <tr>\n",
       "      <th>793</th>\n",
       "      <td>40 Harmonia</td>\n",
       "      <td>S</td>\n",
       "      <td>MBA</td>\n",
       "      <td>2.373855</td>\n",
       "      <td>2.160638</td>\n",
       "      <td>2.267247</td>\n",
       "      <td>0.047021</td>\n",
       "      <td>NaN</td>\n",
       "      <td>1246.942831</td>\n",
       "      <td>2.442248e-37</td>\n",
       "      <td>1.579404e-38</td>\n",
       "      <td>1.16159</td>\n",
       "      <td>111.251</td>\n",
       "    </tr>\n",
       "    <tr>\n",
       "      <th>...</th>\n",
       "      <td>...</td>\n",
       "      <td>...</td>\n",
       "      <td>...</td>\n",
       "      <td>...</td>\n",
       "      <td>...</td>\n",
       "      <td>...</td>\n",
       "      <td>...</td>\n",
       "      <td>...</td>\n",
       "      <td>...</td>\n",
       "      <td>...</td>\n",
       "      <td>...</td>\n",
       "      <td>...</td>\n",
       "      <td>...</td>\n",
       "    </tr>\n",
       "    <tr>\n",
       "      <th>991</th>\n",
       "      <td>372 Palma (1893 AH)</td>\n",
       "      <td>B</td>\n",
       "      <td>MBA</td>\n",
       "      <td>3.966001</td>\n",
       "      <td>2.334280</td>\n",
       "      <td>3.150141</td>\n",
       "      <td>0.258992</td>\n",
       "      <td>11.987880</td>\n",
       "      <td>2042.176736</td>\n",
       "      <td>4.065526e+18</td>\n",
       "      <td>2.615080e+17</td>\n",
       "      <td>1.44687</td>\n",
       "      <td>173.642</td>\n",
       "    </tr>\n",
       "    <tr>\n",
       "      <th>992</th>\n",
       "      <td>423 Diotima (1896 DB)</td>\n",
       "      <td>C</td>\n",
       "      <td>MBA</td>\n",
       "      <td>3.176470</td>\n",
       "      <td>2.956412</td>\n",
       "      <td>3.066441</td>\n",
       "      <td>0.035882</td>\n",
       "      <td>11.224330</td>\n",
       "      <td>1961.328629</td>\n",
       "      <td>4.235026e+18</td>\n",
       "      <td>2.908848e+17</td>\n",
       "      <td>1.94249</td>\n",
       "      <td>175.859</td>\n",
       "    </tr>\n",
       "    <tr>\n",
       "      <th>993</th>\n",
       "      <td>702 Alauda (1910 KQ)</td>\n",
       "      <td>B</td>\n",
       "      <td>MBA</td>\n",
       "      <td>3.247375</td>\n",
       "      <td>3.137278</td>\n",
       "      <td>3.192327</td>\n",
       "      <td>0.017244</td>\n",
       "      <td>12.757615</td>\n",
       "      <td>2083.336507</td>\n",
       "      <td>5.408989e+18</td>\n",
       "      <td>3.264933e+17</td>\n",
       "      <td>2.12080</td>\n",
       "      <td>190.98</td>\n",
       "    </tr>\n",
       "    <tr>\n",
       "      <th>994</th>\n",
       "      <td>334 Chicago (1892 L)</td>\n",
       "      <td>C</td>\n",
       "      <td>OMB</td>\n",
       "      <td>3.981728</td>\n",
       "      <td>3.798870</td>\n",
       "      <td>3.890299</td>\n",
       "      <td>0.023502</td>\n",
       "      <td>11.703702</td>\n",
       "      <td>2802.676341</td>\n",
       "      <td>6.115258e+18</td>\n",
       "      <td>4.009727e+17</td>\n",
       "      <td>2.78295</td>\n",
       "      <td>198.77</td>\n",
       "    </tr>\n",
       "    <tr>\n",
       "      <th>995</th>\n",
       "      <td>511 Davida (1903 LU)</td>\n",
       "      <td>C</td>\n",
       "      <td>MBA</td>\n",
       "      <td>3.760305</td>\n",
       "      <td>2.569456</td>\n",
       "      <td>3.164880</td>\n",
       "      <td>0.188135</td>\n",
       "      <td>11.144603</td>\n",
       "      <td>2056.526820</td>\n",
       "      <td>1.538263e+19</td>\n",
       "      <td>1.064011e+18</td>\n",
       "      <td>1.59307</td>\n",
       "      <td>270.327</td>\n",
       "    </tr>\n",
       "  </tbody>\n",
       "</table>\n",
       "<p>1794 rows × 13 columns</p>\n",
       "</div>"
      ],
      "text/plain": [
       "                   full_name spec class        ad         q         a  \\\n",
       "797  532 Herculina (1904 NY)    S   MBA  3.258720  2.286373  2.772546   \n",
       "796    354 Eleonora (1893 A)   Sl   MBA  3.117824  2.479441  2.798633   \n",
       "795   471 Papagena (1901 GN)    S   MBA  3.555410  2.232245  2.893827   \n",
       "794   349 Dembowska (1892 T)    R   MBA  3.190289  2.654931  2.922610   \n",
       "793              40 Harmonia    S   MBA  2.373855  2.160638  2.267247   \n",
       "..                       ...  ...   ...       ...       ...       ...   \n",
       "991      372 Palma (1893 AH)    B   MBA  3.966001  2.334280  3.150141   \n",
       "992    423 Diotima (1896 DB)    C   MBA  3.176470  2.956412  3.066441   \n",
       "993     702 Alauda (1910 KQ)    B   MBA  3.247375  3.137278  3.192327   \n",
       "994     334 Chicago (1892 L)    C   OMB  3.981728  3.798870  3.890299   \n",
       "995     511 Davida (1903 LU)    C   MBA  3.760305  2.569456  3.164880   \n",
       "\n",
       "            e         dv          per         price        profit     moid  \\\n",
       "797  0.175353  10.733275  1686.229234  8.378840e-37  6.035861e-38  1.35440   \n",
       "796  0.114053  11.416972  1710.083231  5.863736e-37  3.967666e-38  1.49290   \n",
       "795  0.228619  10.449882  1798.072857  5.764868e-37  4.264148e-38  1.26726   \n",
       "794  0.091589  10.493194  1824.965628  4.843060e-37  3.564270e-38  1.65738   \n",
       "793  0.047021        NaN  1246.942831  2.442248e-37  1.579404e-38  1.16159   \n",
       "..        ...        ...          ...           ...           ...      ...   \n",
       "991  0.258992  11.987880  2042.176736  4.065526e+18  2.615080e+17  1.44687   \n",
       "992  0.035882  11.224330  1961.328629  4.235026e+18  2.908848e+17  1.94249   \n",
       "993  0.017244  12.757615  2083.336507  5.408989e+18  3.264933e+17  2.12080   \n",
       "994  0.023502  11.703702  2802.676341  6.115258e+18  4.009727e+17  2.78295   \n",
       "995  0.188135  11.144603  2056.526820  1.538263e+19  1.064011e+18  1.59307   \n",
       "\n",
       "    diameter  \n",
       "797  167.791  \n",
       "796   148.97  \n",
       "795  148.128  \n",
       "794   139.77  \n",
       "793  111.251  \n",
       "..       ...  \n",
       "991  173.642  \n",
       "992  175.859  \n",
       "993   190.98  \n",
       "994   198.77  \n",
       "995  270.327  \n",
       "\n",
       "[1794 rows x 13 columns]"
      ]
     },
     "execution_count": 7,
     "metadata": {},
     "output_type": "execute_result"
    }
   ],
   "source": [
    "# getting rid of empty cells to make it easier to drop\n",
    "m_df = result.replace('', np.nan, inplace=False)\n",
    "result['diameter'] = result['diameter'].fillna(ㅤ)\n",
    "result"
   ]
  },
  {
   "cell_type": "code",
   "execution_count": 8,
   "id": "937a0d16",
   "metadata": {
    "scrolled": true
   },
   "outputs": [],
   "source": [
    "# Drop all null values\n",
    "m_df = result.dropna()\n",
    "\n",
    "\n",
    "m_df.to_csv('asteroids_data.csv', header = True)"
   ]
  },
  {
   "cell_type": "code",
   "execution_count": 9,
   "id": "55cc0278",
   "metadata": {},
   "outputs": [
    {
     "data": {
      "text/html": [
       "<div>\n",
       "<style scoped>\n",
       "    .dataframe tbody tr th:only-of-type {\n",
       "        vertical-align: middle;\n",
       "    }\n",
       "\n",
       "    .dataframe tbody tr th {\n",
       "        vertical-align: top;\n",
       "    }\n",
       "\n",
       "    .dataframe thead th {\n",
       "        text-align: right;\n",
       "    }\n",
       "</style>\n",
       "<table border=\"1\" class=\"dataframe\">\n",
       "  <thead>\n",
       "    <tr style=\"text-align: right;\">\n",
       "      <th></th>\n",
       "      <th>Unnamed: 0</th>\n",
       "      <th>full_name</th>\n",
       "      <th>spec</th>\n",
       "      <th>class</th>\n",
       "      <th>ad</th>\n",
       "      <th>q</th>\n",
       "      <th>a</th>\n",
       "      <th>e</th>\n",
       "      <th>dv</th>\n",
       "      <th>per</th>\n",
       "      <th>price</th>\n",
       "      <th>profit</th>\n",
       "      <th>moid</th>\n",
       "      <th>diameter</th>\n",
       "    </tr>\n",
       "  </thead>\n",
       "  <tbody>\n",
       "    <tr>\n",
       "      <th>0</th>\n",
       "      <td>797</td>\n",
       "      <td>532 Herculina (1904 NY)</td>\n",
       "      <td>S</td>\n",
       "      <td>MBA</td>\n",
       "      <td>3.258720</td>\n",
       "      <td>2.286373</td>\n",
       "      <td>2.772546</td>\n",
       "      <td>0.175353</td>\n",
       "      <td>10.733275</td>\n",
       "      <td>1686.229234</td>\n",
       "      <td>8.378840e-37</td>\n",
       "      <td>6.035861e-38</td>\n",
       "      <td>1.35440</td>\n",
       "      <td>167.791</td>\n",
       "    </tr>\n",
       "    <tr>\n",
       "      <th>1</th>\n",
       "      <td>796</td>\n",
       "      <td>354 Eleonora (1893 A)</td>\n",
       "      <td>Sl</td>\n",
       "      <td>MBA</td>\n",
       "      <td>3.117824</td>\n",
       "      <td>2.479441</td>\n",
       "      <td>2.798633</td>\n",
       "      <td>0.114053</td>\n",
       "      <td>11.416972</td>\n",
       "      <td>1710.083231</td>\n",
       "      <td>5.863736e-37</td>\n",
       "      <td>3.967666e-38</td>\n",
       "      <td>1.49290</td>\n",
       "      <td>148.970</td>\n",
       "    </tr>\n",
       "    <tr>\n",
       "      <th>2</th>\n",
       "      <td>795</td>\n",
       "      <td>471 Papagena (1901 GN)</td>\n",
       "      <td>S</td>\n",
       "      <td>MBA</td>\n",
       "      <td>3.555410</td>\n",
       "      <td>2.232245</td>\n",
       "      <td>2.893827</td>\n",
       "      <td>0.228619</td>\n",
       "      <td>10.449882</td>\n",
       "      <td>1798.072857</td>\n",
       "      <td>5.764868e-37</td>\n",
       "      <td>4.264148e-38</td>\n",
       "      <td>1.26726</td>\n",
       "      <td>148.128</td>\n",
       "    </tr>\n",
       "    <tr>\n",
       "      <th>3</th>\n",
       "      <td>794</td>\n",
       "      <td>349 Dembowska (1892 T)</td>\n",
       "      <td>R</td>\n",
       "      <td>MBA</td>\n",
       "      <td>3.190289</td>\n",
       "      <td>2.654931</td>\n",
       "      <td>2.922610</td>\n",
       "      <td>0.091589</td>\n",
       "      <td>10.493194</td>\n",
       "      <td>1824.965628</td>\n",
       "      <td>4.843060e-37</td>\n",
       "      <td>3.564270e-38</td>\n",
       "      <td>1.65738</td>\n",
       "      <td>139.770</td>\n",
       "    </tr>\n",
       "    <tr>\n",
       "      <th>4</th>\n",
       "      <td>791</td>\n",
       "      <td>674 Rachele (1908 EP)</td>\n",
       "      <td>S</td>\n",
       "      <td>MBA</td>\n",
       "      <td>3.493765</td>\n",
       "      <td>2.351323</td>\n",
       "      <td>2.922544</td>\n",
       "      <td>0.195453</td>\n",
       "      <td>10.483907</td>\n",
       "      <td>1824.903811</td>\n",
       "      <td>1.577649e-37</td>\n",
       "      <td>1.162629e-38</td>\n",
       "      <td>1.38596</td>\n",
       "      <td>96.171</td>\n",
       "    </tr>\n",
       "    <tr>\n",
       "      <th>...</th>\n",
       "      <td>...</td>\n",
       "      <td>...</td>\n",
       "      <td>...</td>\n",
       "      <td>...</td>\n",
       "      <td>...</td>\n",
       "      <td>...</td>\n",
       "      <td>...</td>\n",
       "      <td>...</td>\n",
       "      <td>...</td>\n",
       "      <td>...</td>\n",
       "      <td>...</td>\n",
       "      <td>...</td>\n",
       "      <td>...</td>\n",
       "      <td>...</td>\n",
       "    </tr>\n",
       "    <tr>\n",
       "      <th>1532</th>\n",
       "      <td>991</td>\n",
       "      <td>372 Palma (1893 AH)</td>\n",
       "      <td>B</td>\n",
       "      <td>MBA</td>\n",
       "      <td>3.966001</td>\n",
       "      <td>2.334280</td>\n",
       "      <td>3.150141</td>\n",
       "      <td>0.258992</td>\n",
       "      <td>11.987880</td>\n",
       "      <td>2042.176736</td>\n",
       "      <td>4.065526e+18</td>\n",
       "      <td>2.615080e+17</td>\n",
       "      <td>1.44687</td>\n",
       "      <td>173.642</td>\n",
       "    </tr>\n",
       "    <tr>\n",
       "      <th>1533</th>\n",
       "      <td>992</td>\n",
       "      <td>423 Diotima (1896 DB)</td>\n",
       "      <td>C</td>\n",
       "      <td>MBA</td>\n",
       "      <td>3.176470</td>\n",
       "      <td>2.956412</td>\n",
       "      <td>3.066441</td>\n",
       "      <td>0.035882</td>\n",
       "      <td>11.224330</td>\n",
       "      <td>1961.328629</td>\n",
       "      <td>4.235026e+18</td>\n",
       "      <td>2.908848e+17</td>\n",
       "      <td>1.94249</td>\n",
       "      <td>175.859</td>\n",
       "    </tr>\n",
       "    <tr>\n",
       "      <th>1534</th>\n",
       "      <td>993</td>\n",
       "      <td>702 Alauda (1910 KQ)</td>\n",
       "      <td>B</td>\n",
       "      <td>MBA</td>\n",
       "      <td>3.247375</td>\n",
       "      <td>3.137278</td>\n",
       "      <td>3.192327</td>\n",
       "      <td>0.017244</td>\n",
       "      <td>12.757615</td>\n",
       "      <td>2083.336507</td>\n",
       "      <td>5.408989e+18</td>\n",
       "      <td>3.264933e+17</td>\n",
       "      <td>2.12080</td>\n",
       "      <td>190.980</td>\n",
       "    </tr>\n",
       "    <tr>\n",
       "      <th>1535</th>\n",
       "      <td>994</td>\n",
       "      <td>334 Chicago (1892 L)</td>\n",
       "      <td>C</td>\n",
       "      <td>OMB</td>\n",
       "      <td>3.981728</td>\n",
       "      <td>3.798870</td>\n",
       "      <td>3.890299</td>\n",
       "      <td>0.023502</td>\n",
       "      <td>11.703702</td>\n",
       "      <td>2802.676341</td>\n",
       "      <td>6.115258e+18</td>\n",
       "      <td>4.009727e+17</td>\n",
       "      <td>2.78295</td>\n",
       "      <td>198.770</td>\n",
       "    </tr>\n",
       "    <tr>\n",
       "      <th>1536</th>\n",
       "      <td>995</td>\n",
       "      <td>511 Davida (1903 LU)</td>\n",
       "      <td>C</td>\n",
       "      <td>MBA</td>\n",
       "      <td>3.760305</td>\n",
       "      <td>2.569456</td>\n",
       "      <td>3.164880</td>\n",
       "      <td>0.188135</td>\n",
       "      <td>11.144603</td>\n",
       "      <td>2056.526820</td>\n",
       "      <td>1.538263e+19</td>\n",
       "      <td>1.064011e+18</td>\n",
       "      <td>1.59307</td>\n",
       "      <td>270.327</td>\n",
       "    </tr>\n",
       "  </tbody>\n",
       "</table>\n",
       "<p>1537 rows × 14 columns</p>\n",
       "</div>"
      ],
      "text/plain": [
       "      Unnamed: 0                full_name spec class        ad         q  \\\n",
       "0            797  532 Herculina (1904 NY)    S   MBA  3.258720  2.286373   \n",
       "1            796    354 Eleonora (1893 A)   Sl   MBA  3.117824  2.479441   \n",
       "2            795   471 Papagena (1901 GN)    S   MBA  3.555410  2.232245   \n",
       "3            794   349 Dembowska (1892 T)    R   MBA  3.190289  2.654931   \n",
       "4            791    674 Rachele (1908 EP)    S   MBA  3.493765  2.351323   \n",
       "...          ...                      ...  ...   ...       ...       ...   \n",
       "1532         991      372 Palma (1893 AH)    B   MBA  3.966001  2.334280   \n",
       "1533         992    423 Diotima (1896 DB)    C   MBA  3.176470  2.956412   \n",
       "1534         993     702 Alauda (1910 KQ)    B   MBA  3.247375  3.137278   \n",
       "1535         994     334 Chicago (1892 L)    C   OMB  3.981728  3.798870   \n",
       "1536         995     511 Davida (1903 LU)    C   MBA  3.760305  2.569456   \n",
       "\n",
       "             a         e         dv          per         price        profit  \\\n",
       "0     2.772546  0.175353  10.733275  1686.229234  8.378840e-37  6.035861e-38   \n",
       "1     2.798633  0.114053  11.416972  1710.083231  5.863736e-37  3.967666e-38   \n",
       "2     2.893827  0.228619  10.449882  1798.072857  5.764868e-37  4.264148e-38   \n",
       "3     2.922610  0.091589  10.493194  1824.965628  4.843060e-37  3.564270e-38   \n",
       "4     2.922544  0.195453  10.483907  1824.903811  1.577649e-37  1.162629e-38   \n",
       "...        ...       ...        ...          ...           ...           ...   \n",
       "1532  3.150141  0.258992  11.987880  2042.176736  4.065526e+18  2.615080e+17   \n",
       "1533  3.066441  0.035882  11.224330  1961.328629  4.235026e+18  2.908848e+17   \n",
       "1534  3.192327  0.017244  12.757615  2083.336507  5.408989e+18  3.264933e+17   \n",
       "1535  3.890299  0.023502  11.703702  2802.676341  6.115258e+18  4.009727e+17   \n",
       "1536  3.164880  0.188135  11.144603  2056.526820  1.538263e+19  1.064011e+18   \n",
       "\n",
       "         moid  diameter  \n",
       "0     1.35440   167.791  \n",
       "1     1.49290   148.970  \n",
       "2     1.26726   148.128  \n",
       "3     1.65738   139.770  \n",
       "4     1.38596    96.171  \n",
       "...       ...       ...  \n",
       "1532  1.44687   173.642  \n",
       "1533  1.94249   175.859  \n",
       "1534  2.12080   190.980  \n",
       "1535  2.78295   198.770  \n",
       "1536  1.59307   270.327  \n",
       "\n",
       "[1537 rows x 14 columns]"
      ]
     },
     "execution_count": 9,
     "metadata": {},
     "output_type": "execute_result"
    }
   ],
   "source": [
    "# reading the created csv file and using it for a new dataframe\n",
    "path = 'asteroids_data.csv'\n",
    "nm_df = pd.read_csv(path)\n",
    "nm_df"
   ]
  },
  {
   "cell_type": "code",
   "execution_count": 10,
   "id": "167e88eb",
   "metadata": {},
   "outputs": [],
   "source": [
    "# Creating a row with 0 and 1 as values to be used as our labels or output\n",
    "nm_df['profitable'] = (nm_df['profit'] > 1).astype(int)\n",
    "nm_df['diameter'] = nm_df['diameter'].astype(float)"
   ]
  },
  {
   "cell_type": "code",
   "execution_count": 11,
   "id": "6e5cde53",
   "metadata": {},
   "outputs": [
    {
     "data": {
      "text/html": [
       "<div>\n",
       "<style scoped>\n",
       "    .dataframe tbody tr th:only-of-type {\n",
       "        vertical-align: middle;\n",
       "    }\n",
       "\n",
       "    .dataframe tbody tr th {\n",
       "        vertical-align: top;\n",
       "    }\n",
       "\n",
       "    .dataframe thead th {\n",
       "        text-align: right;\n",
       "    }\n",
       "</style>\n",
       "<table border=\"1\" class=\"dataframe\">\n",
       "  <thead>\n",
       "    <tr style=\"text-align: right;\">\n",
       "      <th></th>\n",
       "      <th>Unnamed: 0</th>\n",
       "      <th>ad</th>\n",
       "      <th>q</th>\n",
       "      <th>a</th>\n",
       "      <th>e</th>\n",
       "      <th>dv</th>\n",
       "      <th>per</th>\n",
       "      <th>moid</th>\n",
       "      <th>diameter</th>\n",
       "    </tr>\n",
       "  </thead>\n",
       "  <tbody>\n",
       "    <tr>\n",
       "      <th>0</th>\n",
       "      <td>797</td>\n",
       "      <td>3.258720</td>\n",
       "      <td>2.286373</td>\n",
       "      <td>2.772546</td>\n",
       "      <td>0.175353</td>\n",
       "      <td>10.733275</td>\n",
       "      <td>1686.229234</td>\n",
       "      <td>1.35440</td>\n",
       "      <td>167.791</td>\n",
       "    </tr>\n",
       "    <tr>\n",
       "      <th>1</th>\n",
       "      <td>796</td>\n",
       "      <td>3.117824</td>\n",
       "      <td>2.479441</td>\n",
       "      <td>2.798633</td>\n",
       "      <td>0.114053</td>\n",
       "      <td>11.416972</td>\n",
       "      <td>1710.083231</td>\n",
       "      <td>1.49290</td>\n",
       "      <td>148.970</td>\n",
       "    </tr>\n",
       "    <tr>\n",
       "      <th>2</th>\n",
       "      <td>795</td>\n",
       "      <td>3.555410</td>\n",
       "      <td>2.232245</td>\n",
       "      <td>2.893827</td>\n",
       "      <td>0.228619</td>\n",
       "      <td>10.449882</td>\n",
       "      <td>1798.072857</td>\n",
       "      <td>1.26726</td>\n",
       "      <td>148.128</td>\n",
       "    </tr>\n",
       "    <tr>\n",
       "      <th>3</th>\n",
       "      <td>794</td>\n",
       "      <td>3.190289</td>\n",
       "      <td>2.654931</td>\n",
       "      <td>2.922610</td>\n",
       "      <td>0.091589</td>\n",
       "      <td>10.493194</td>\n",
       "      <td>1824.965628</td>\n",
       "      <td>1.65738</td>\n",
       "      <td>139.770</td>\n",
       "    </tr>\n",
       "    <tr>\n",
       "      <th>4</th>\n",
       "      <td>791</td>\n",
       "      <td>3.493765</td>\n",
       "      <td>2.351323</td>\n",
       "      <td>2.922544</td>\n",
       "      <td>0.195453</td>\n",
       "      <td>10.483907</td>\n",
       "      <td>1824.903811</td>\n",
       "      <td>1.38596</td>\n",
       "      <td>96.171</td>\n",
       "    </tr>\n",
       "    <tr>\n",
       "      <th>...</th>\n",
       "      <td>...</td>\n",
       "      <td>...</td>\n",
       "      <td>...</td>\n",
       "      <td>...</td>\n",
       "      <td>...</td>\n",
       "      <td>...</td>\n",
       "      <td>...</td>\n",
       "      <td>...</td>\n",
       "      <td>...</td>\n",
       "    </tr>\n",
       "    <tr>\n",
       "      <th>1532</th>\n",
       "      <td>991</td>\n",
       "      <td>3.966001</td>\n",
       "      <td>2.334280</td>\n",
       "      <td>3.150141</td>\n",
       "      <td>0.258992</td>\n",
       "      <td>11.987880</td>\n",
       "      <td>2042.176736</td>\n",
       "      <td>1.44687</td>\n",
       "      <td>173.642</td>\n",
       "    </tr>\n",
       "    <tr>\n",
       "      <th>1533</th>\n",
       "      <td>992</td>\n",
       "      <td>3.176470</td>\n",
       "      <td>2.956412</td>\n",
       "      <td>3.066441</td>\n",
       "      <td>0.035882</td>\n",
       "      <td>11.224330</td>\n",
       "      <td>1961.328629</td>\n",
       "      <td>1.94249</td>\n",
       "      <td>175.859</td>\n",
       "    </tr>\n",
       "    <tr>\n",
       "      <th>1534</th>\n",
       "      <td>993</td>\n",
       "      <td>3.247375</td>\n",
       "      <td>3.137278</td>\n",
       "      <td>3.192327</td>\n",
       "      <td>0.017244</td>\n",
       "      <td>12.757615</td>\n",
       "      <td>2083.336507</td>\n",
       "      <td>2.12080</td>\n",
       "      <td>190.980</td>\n",
       "    </tr>\n",
       "    <tr>\n",
       "      <th>1535</th>\n",
       "      <td>994</td>\n",
       "      <td>3.981728</td>\n",
       "      <td>3.798870</td>\n",
       "      <td>3.890299</td>\n",
       "      <td>0.023502</td>\n",
       "      <td>11.703702</td>\n",
       "      <td>2802.676341</td>\n",
       "      <td>2.78295</td>\n",
       "      <td>198.770</td>\n",
       "    </tr>\n",
       "    <tr>\n",
       "      <th>1536</th>\n",
       "      <td>995</td>\n",
       "      <td>3.760305</td>\n",
       "      <td>2.569456</td>\n",
       "      <td>3.164880</td>\n",
       "      <td>0.188135</td>\n",
       "      <td>11.144603</td>\n",
       "      <td>2056.526820</td>\n",
       "      <td>1.59307</td>\n",
       "      <td>270.327</td>\n",
       "    </tr>\n",
       "  </tbody>\n",
       "</table>\n",
       "<p>1537 rows × 9 columns</p>\n",
       "</div>"
      ],
      "text/plain": [
       "      Unnamed: 0        ad         q         a         e         dv  \\\n",
       "0            797  3.258720  2.286373  2.772546  0.175353  10.733275   \n",
       "1            796  3.117824  2.479441  2.798633  0.114053  11.416972   \n",
       "2            795  3.555410  2.232245  2.893827  0.228619  10.449882   \n",
       "3            794  3.190289  2.654931  2.922610  0.091589  10.493194   \n",
       "4            791  3.493765  2.351323  2.922544  0.195453  10.483907   \n",
       "...          ...       ...       ...       ...       ...        ...   \n",
       "1532         991  3.966001  2.334280  3.150141  0.258992  11.987880   \n",
       "1533         992  3.176470  2.956412  3.066441  0.035882  11.224330   \n",
       "1534         993  3.247375  3.137278  3.192327  0.017244  12.757615   \n",
       "1535         994  3.981728  3.798870  3.890299  0.023502  11.703702   \n",
       "1536         995  3.760305  2.569456  3.164880  0.188135  11.144603   \n",
       "\n",
       "              per     moid  diameter  \n",
       "0     1686.229234  1.35440   167.791  \n",
       "1     1710.083231  1.49290   148.970  \n",
       "2     1798.072857  1.26726   148.128  \n",
       "3     1824.965628  1.65738   139.770  \n",
       "4     1824.903811  1.38596    96.171  \n",
       "...           ...      ...       ...  \n",
       "1532  2042.176736  1.44687   173.642  \n",
       "1533  1961.328629  1.94249   175.859  \n",
       "1534  2083.336507  2.12080   190.980  \n",
       "1535  2802.676341  2.78295   198.770  \n",
       "1536  2056.526820  1.59307   270.327  \n",
       "\n",
       "[1537 rows x 9 columns]"
      ]
     },
     "execution_count": 11,
     "metadata": {},
     "output_type": "execute_result"
    }
   ],
   "source": [
    "# dropping noise and our labels from our X data frame\n",
    "X = nm_df.drop(['full_name','profit','price','spec', 'class','profitable'], axis =1)\n",
    "X"
   ]
  },
  {
   "cell_type": "code",
   "execution_count": 12,
   "id": "2a0a8ff6",
   "metadata": {},
   "outputs": [],
   "source": [
    "# creating our y dataframe with the output\n",
    "y = nm_df['profitable']"
   ]
  },
  {
   "cell_type": "markdown",
   "id": "ffefca2e",
   "metadata": {},
   "source": [
    "### Splitting Model between Train and Test"
   ]
  },
  {
   "cell_type": "code",
   "execution_count": 13,
   "id": "507d71a5",
   "metadata": {},
   "outputs": [
    {
     "data": {
      "text/plain": [
       "(1075, 9)"
      ]
     },
     "execution_count": 13,
     "metadata": {},
     "output_type": "execute_result"
    }
   ],
   "source": [
    "from sklearn.model_selection import train_test_split\n",
    "\n",
    "X_train, X_test, y_train, y_test = train_test_split(X, y, test_size=0.3, stratify=y)\n",
    "X_train.shape"
   ]
  },
  {
   "cell_type": "code",
   "execution_count": 14,
   "id": "5ea5d15c",
   "metadata": {},
   "outputs": [],
   "source": [
    "from sklearn.linear_model import LogisticRegression\n",
    "\n",
    "lr = LogisticRegression(multi_class='multinomial', max_iter=10000)"
   ]
  },
  {
   "cell_type": "markdown",
   "id": "c94cbb9c",
   "metadata": {},
   "source": [
    "## Logisitic Regression"
   ]
  },
  {
   "cell_type": "code",
   "execution_count": 15,
   "id": "ee7c836e",
   "metadata": {
    "scrolled": true
   },
   "outputs": [
    {
     "ename": "NameError",
     "evalue": "name 'ᅠlr' is not defined",
     "output_type": "error",
     "traceback": [
      "\u001b[1;31m---------------------------------------------------------------------------\u001b[0m",
      "\u001b[1;31mNameError\u001b[0m                                 Traceback (most recent call last)",
      "Input \u001b[1;32mIn [15]\u001b[0m, in \u001b[0;36m<cell line: 1>\u001b[1;34m()\u001b[0m\n\u001b[1;32m----> 1\u001b[0m \u001b[43mㅤlr\u001b[49m\u001b[38;5;241m.\u001b[39mfit(X_train, y_train)\n",
      "\u001b[1;31mNameError\u001b[0m: name 'ᅠlr' is not defined"
     ]
    }
   ],
   "source": [
    "ㅤlr.fit(X_train, y_train)"
   ]
  },
  {
   "cell_type": "markdown",
   "id": "4313682f",
   "metadata": {},
   "source": [
    "## Train the model"
   ]
  },
  {
   "cell_type": "code",
   "execution_count": 16,
   "id": "f17f3a64",
   "metadata": {
    "scrolled": true
   },
   "outputs": [
    {
     "data": {
      "text/plain": [
       "0.7413953488372093"
      ]
     },
     "execution_count": 16,
     "metadata": {},
     "output_type": "execute_result"
    }
   ],
   "source": [
    "ㅤy_train_pred_lr = lr.predict(X_train)\n",
    "ㅤnp.mean(y_train == y_train_pred_lr)"
   ]
  },
  {
   "cell_type": "markdown",
   "id": "2630ae7d",
   "metadata": {},
   "source": [
    "### Validation Curve for Logisitic Regression"
   ]
  },
  {
   "cell_type": "code",
   "execution_count": 17,
   "id": "0cbb8e49",
   "metadata": {},
   "outputs": [
    {
     "data": {
      "text/plain": [
       "array([1.00000000e-03, 2.04179592e+00, 4.08259184e+00, 6.12338776e+00,\n",
       "       8.16418367e+00, 1.02049796e+01, 1.22457755e+01, 1.42865714e+01,\n",
       "       1.63273673e+01, 1.83681633e+01, 2.04089592e+01, 2.24497551e+01,\n",
       "       2.44905510e+01, 2.65313469e+01, 2.85721429e+01, 3.06129388e+01,\n",
       "       3.26537347e+01, 3.46945306e+01, 3.67353265e+01, 3.87761224e+01,\n",
       "       4.08169184e+01, 4.28577143e+01, 4.48985102e+01, 4.69393061e+01,\n",
       "       4.89801020e+01, 5.10208980e+01, 5.30616939e+01, 5.51024898e+01,\n",
       "       5.71432857e+01, 5.91840816e+01, 6.12248776e+01, 6.32656735e+01,\n",
       "       6.53064694e+01, 6.73472653e+01, 6.93880612e+01, 7.14288571e+01,\n",
       "       7.34696531e+01, 7.55104490e+01, 7.75512449e+01, 7.95920408e+01,\n",
       "       8.16328367e+01, 8.36736327e+01, 8.57144286e+01, 8.77552245e+01,\n",
       "       8.97960204e+01, 9.18368163e+01, 9.38776122e+01, 9.59184082e+01,\n",
       "       9.79592041e+01, 1.00000000e+02])"
      ]
     },
     "execution_count": 17,
     "metadata": {},
     "output_type": "execute_result"
    }
   ],
   "source": [
    "C_range = np.linspace(0.001, 100, 50)\n",
    "C_range"
   ]
  },
  {
   "cell_type": "code",
   "execution_count": 18,
   "id": "c5fb7e4b",
   "metadata": {},
   "outputs": [],
   "source": [
    "train_scores, val_scores = validation_curve(\n",
    "                estimator=LogisticRegression(max_iter=10000, multi_class='multinomial'), \n",
    "                X=X_train, \n",
    "                y=y_train, \n",
    "                param_name='C', \n",
    "                param_range=C_range,\n",
    "                cv=5, n_jobs=-1)"
   ]
  },
  {
   "cell_type": "code",
   "execution_count": 19,
   "id": "be5909e9",
   "metadata": {},
   "outputs": [
    {
     "data": {
      "image/png": "[encoded data removed]",
      "text/plain": [
       "<Figure size 640x480 with 1 Axes>"
      ]
     },
     "metadata": {},
     "output_type": "display_data"
    }
   ],
   "source": [
    "mean_train_scores = train_scores.mean(axis=1)\n",
    "mean_val_scores = val_scores.mean(axis=1)\n",
    "\n",
    "plt.plot(C_range,mean_train_scores, c='r', label='Training Accuracy')\n",
    "plt.plot(C_range,mean_val_scores, c='b', label='Validation Accuracy')\n",
    "plt.title('Depth Validation Curve for Logistic Regression')\n",
    "plt.xlabel('Max Depth')\n",
    "plt.ylabel('Accuracy')\n",
    "plt.legend()\n",
    "plt.tight_layout()"
   ]
  },
  {
   "cell_type": "markdown",
   "id": "bbcb7b38",
   "metadata": {},
   "source": [
    "### Grid Search"
   ]
  },
  {
   "cell_type": "code",
   "execution_count": 20,
   "id": "c66e4efd",
   "metadata": {},
   "outputs": [],
   "source": [
    "C_range = np.linspace(0.1, 20, 100)\n",
    "lr_grid = {'C':C_range}"
   ]
  },
  {
   "cell_type": "code",
   "execution_count": 21,
   "id": "4d052b4b",
   "metadata": {},
   "outputs": [],
   "source": [
    "lr_gs = GridSearchCV(estimator=LogisticRegression(max_iter=10000, multi_class='multinomial'), \n",
    "                  param_grid=lr_grid, \n",
    "                  scoring='accuracy', \n",
    "                  refit=True,\n",
    "                  cv=5,\n",
    "                  n_jobs=-1)"
   ]
  },
  {
   "cell_type": "code",
   "execution_count": 22,
   "id": "644d21c9",
   "metadata": {},
   "outputs": [
    {
     "name": "stdout",
     "output_type": "stream",
     "text": [
      "Time Elapsed: 4374.037742614746 milliseconds\n"
     ]
    }
   ],
   "source": [
    "start = time.time()\n",
    "lr_gs.fit(X_train, y_train)\n",
    "end = time.time()\n",
    "print(f'Time Elapsed: {(end - start) * 1000} milliseconds')"
   ]
  },
  {
   "cell_type": "code",
   "execution_count": 23,
   "id": "ff9ddbc9",
   "metadata": {},
   "outputs": [
    {
     "data": {
      "text/plain": [
       "{'C': 0.703030303030303}"
      ]
     },
     "execution_count": 23,
     "metadata": {},
     "output_type": "execute_result"
    }
   ],
   "source": [
    "ㅤlr_gs.best_params_"
   ]
  },
  {
   "cell_type": "code",
   "execution_count": 24,
   "id": "d0ffc979",
   "metadata": {},
   "outputs": [
    {
     "data": {
      "text/plain": [
       "0.773953488372093"
      ]
     },
     "execution_count": 24,
     "metadata": {},
     "output_type": "execute_result"
    }
   ],
   "source": [
    "ㅤlr_gs.best_score_"
   ]
  },
  {
   "cell_type": "markdown",
   "id": "1bc96a2c",
   "metadata": {},
   "source": [
    "### Randomized Search"
   ]
  },
  {
   "cell_type": "code",
   "execution_count": 25,
   "id": "d3dc5c07",
   "metadata": {},
   "outputs": [],
   "source": [
    "ㅤlr_dist = {'C': uniform(8, 2)}"
   ]
  },
  {
   "cell_type": "code",
   "execution_count": 26,
   "id": "c2b1ce13",
   "metadata": {},
   "outputs": [],
   "source": [
    "ㅤlr_rs = RandomizedSearchCV(estimator=LogisticRegression(max_iter=10000, multi_class='multinomial'),\n",
    "                                                    param_distributions=lr_dist, n_iter=100,\n",
    "                                                    scoring='accuracy',\n",
    "                                                    refit = True,\n",
    "                                                    cv=5,\n",
    "                                                    n_jobs=-1)"
   ]
  },
  {
   "cell_type": "code",
   "execution_count": 27,
   "id": "093da0b1",
   "metadata": {},
   "outputs": [
    {
     "data": {
      "text/html": [
       "<style>#sk-container-id-2 {color: black;background-color: white;}#sk-container-id-2 pre{padding: 0;}#sk-container-id-2 div.sk-toggleable {background-color: white;}#sk-container-id-2 label.sk-toggleable__label {cursor: pointer;display: block;width: 100%;margin-bottom: 0;padding: 0.3em;box-sizing: border-box;text-align: center;}#sk-container-id-2 label.sk-toggleable__label-arrow:before {content: \"▸\";float: left;margin-right: 0.25em;color: #696969;}#sk-container-id-2 label.sk-toggleable__label-arrow:hover:before {color: black;}#sk-container-id-2 div.sk-estimator:hover label.sk-toggleable__label-arrow:before {color: black;}#sk-container-id-2 div.sk-toggleable__content {max-height: 0;max-width: 0;overflow: hidden;text-align: left;background-color: #f0f8ff;}#sk-container-id-2 div.sk-toggleable__content pre {margin: 0.2em;color: black;border-radius: 0.25em;background-color: #f0f8ff;}#sk-container-id-2 input.sk-toggleable__control:checked~div.sk-toggleable__content {max-height: 200px;max-width: 100%;overflow: auto;}#sk-container-id-2 input.sk-toggleable__control:checked~label.sk-toggleable__label-arrow:before {content: \"▾\";}#sk-container-id-2 div.sk-estimator input.sk-toggleable__control:checked~label.sk-toggleable__label {background-color: #d4ebff;}#sk-container-id-2 div.sk-label input.sk-toggleable__control:checked~label.sk-toggleable__label {background-color: #d4ebff;}#sk-container-id-2 input.sk-hidden--visually {border: 0;clip: rect(1px 1px 1px 1px);clip: rect(1px, 1px, 1px, 1px);height: 1px;margin: -1px;overflow: hidden;padding: 0;position: absolute;width: 1px;}#sk-container-id-2 div.sk-estimator {font-family: monospace;background-color: #f0f8ff;border: 1px dotted black;border-radius: 0.25em;box-sizing: border-box;margin-bottom: 0.5em;}#sk-container-id-2 div.sk-estimator:hover {background-color: #d4ebff;}#sk-container-id-2 div.sk-parallel-item::after {content: \"\";width: 100%;border-bottom: 1px solid gray;flex-grow: 1;}#sk-container-id-2 div.sk-label:hover label.sk-toggleable__label {background-color: #d4ebff;}#sk-container-id-2 div.sk-serial::before {content: \"\";position: absolute;border-left: 1px solid gray;box-sizing: border-box;top: 0;bottom: 0;left: 50%;z-index: 0;}#sk-container-id-2 div.sk-serial {display: flex;flex-direction: column;align-items: center;background-color: white;padding-right: 0.2em;padding-left: 0.2em;position: relative;}#sk-container-id-2 div.sk-item {position: relative;z-index: 1;}#sk-container-id-2 div.sk-parallel {display: flex;align-items: stretch;justify-content: center;background-color: white;position: relative;}#sk-container-id-2 div.sk-item::before, #sk-container-id-2 div.sk-parallel-item::before {content: \"\";position: absolute;border-left: 1px solid gray;box-sizing: border-box;top: 0;bottom: 0;left: 50%;z-index: -1;}#sk-container-id-2 div.sk-parallel-item {display: flex;flex-direction: column;z-index: 1;position: relative;background-color: white;}#sk-container-id-2 div.sk-parallel-item:first-child::after {align-self: flex-end;width: 50%;}#sk-container-id-2 div.sk-parallel-item:last-child::after {align-self: flex-start;width: 50%;}#sk-container-id-2 div.sk-parallel-item:only-child::after {width: 0;}#sk-container-id-2 div.sk-dashed-wrapped {border: 1px dashed gray;margin: 0 0.4em 0.5em 0.4em;box-sizing: border-box;padding-bottom: 0.4em;background-color: white;}#sk-container-id-2 div.sk-label label {font-family: monospace;font-weight: bold;display: inline-block;line-height: 1.2em;}#sk-container-id-2 div.sk-label-container {text-align: center;}#sk-container-id-2 div.sk-container {/* jupyter's `normalize.less` sets `[hidden] { display: none; }` but bootstrap.min.css set `[hidden] { display: none !important; }` so we also need the `!important` here to be able to override the default hidden behavior on the sphinx rendered scikit-learn.org. See: https://github.com/scikit-learn/scikit-learn/issues/21755 */display: inline-block !important;position: relative;}#sk-container-id-2 div.sk-text-repr-fallback {display: none;}</style><div id=\"sk-container-id-2\" class=\"sk-top-container\"><div class=\"sk-text-repr-fallback\"><pre>RandomizedSearchCV(cv=5,\n",
       "                   estimator=LogisticRegression(max_iter=10000,\n",
       "                                                multi_class=&#x27;multinomial&#x27;),\n",
       "                   n_iter=100, n_jobs=-1,\n",
       "                   param_distributions={&#x27;C&#x27;: &lt;scipy.stats._distn_infrastructure.rv_continuous_frozen object at 0x000002E570674F40&gt;},\n",
       "                   scoring=&#x27;accuracy&#x27;)</pre><b>In a Jupyter environment, please rerun this cell to show the HTML representation or trust the notebook. <br />On GitHub, the HTML representation is unable to render, please try loading this page with nbviewer.org.</b></div><div class=\"sk-container\" hidden><div class=\"sk-item sk-dashed-wrapped\"><div class=\"sk-label-container\"><div class=\"sk-label sk-toggleable\"><input class=\"sk-toggleable__control sk-hidden--visually\" id=\"sk-estimator-id-2\" type=\"checkbox\" ><label for=\"sk-estimator-id-2\" class=\"sk-toggleable__label sk-toggleable__label-arrow\">RandomizedSearchCV</label><div class=\"sk-toggleable__content\"><pre>RandomizedSearchCV(cv=5,\n",
       "                   estimator=LogisticRegression(max_iter=10000,\n",
       "                                                multi_class=&#x27;multinomial&#x27;),\n",
       "                   n_iter=100, n_jobs=-1,\n",
       "                   param_distributions={&#x27;C&#x27;: &lt;scipy.stats._distn_infrastructure.rv_continuous_frozen object at 0x000002E570674F40&gt;},\n",
       "                   scoring=&#x27;accuracy&#x27;)</pre></div></div></div><div class=\"sk-parallel\"><div class=\"sk-parallel-item\"><div class=\"sk-item\"><div class=\"sk-label-container\"><div class=\"sk-label sk-toggleable\"><input class=\"sk-toggleable__control sk-hidden--visually\" id=\"sk-estimator-id-3\" type=\"checkbox\" ><label for=\"sk-estimator-id-3\" class=\"sk-toggleable__label sk-toggleable__label-arrow\">estimator: LogisticRegression</label><div class=\"sk-toggleable__content\"><pre>LogisticRegression(max_iter=10000, multi_class=&#x27;multinomial&#x27;)</pre></div></div></div><div class=\"sk-serial\"><div class=\"sk-item\"><div class=\"sk-estimator sk-toggleable\"><input class=\"sk-toggleable__control sk-hidden--visually\" id=\"sk-estimator-id-4\" type=\"checkbox\" ><label for=\"sk-estimator-id-4\" class=\"sk-toggleable__label sk-toggleable__label-arrow\">LogisticRegression</label><div class=\"sk-toggleable__content\"><pre>LogisticRegression(max_iter=10000, multi_class=&#x27;multinomial&#x27;)</pre></div></div></div></div></div></div></div></div></div></div>"
      ],
      "text/plain": [
       "RandomizedSearchCV(cv=5,\n",
       "                   estimator=LogisticRegression(max_iter=10000,\n",
       "                                                multi_class='multinomial'),\n",
       "                   n_iter=100, n_jobs=-1,\n",
       "                   param_distributions={'C': <scipy.stats._distn_infrastructure.rv_continuous_frozen object at 0x000002E570674F40>},\n",
       "                   scoring='accuracy')"
      ]
     },
     "execution_count": 27,
     "metadata": {},
     "output_type": "execute_result"
    }
   ],
   "source": [
    "ㅤlr_rs.fit(X_train, y_train)"
   ]
  },
  {
   "cell_type": "code",
   "execution_count": 28,
   "id": "bcf1b2a0",
   "metadata": {
    "scrolled": true
   },
   "outputs": [
    {
     "name": "stdout",
     "output_type": "stream",
     "text": [
      "{'C': 8.523853110350391} 0.7711627906976745\n",
      "{'C': 8.280325957114947} 0.7711627906976745\n",
      "{'C': 9.808016227593349} 0.7711627906976745\n",
      "{'C': 9.751040900241492} 0.7711627906976745\n",
      "{'C': 8.51738664980737} 0.7702325581395348\n",
      "{'C': 8.266345157735671} 0.7693023255813953\n",
      "{'C': 8.834329511892847} 0.7693023255813953\n",
      "{'C': 8.261236205232183} 0.7674418604651162\n",
      "{'C': 8.274771414867068} 0.7674418604651162\n",
      "{'C': 8.271812191044285} 0.7674418604651162\n"
     ]
    }
   ],
   "source": [
    "ㅤlr_rs_results = lr_rs.cv_results_\n",
    "ㅤlr_rs_rank = lr_rs_results['rank_test_score']\n",
    "ㅤlr_rs_sorted_idx = np.argsort(lr_rs_rank)\n",
    "\n",
    "ㅤfor i in lr_rs_sorted_idx[:10]:\n",
    "    print(lr_rs_results['params'][i], lr_rs_results['mean_test_score'][i])"
   ]
  },
  {
   "cell_type": "markdown",
   "id": "97430b0e",
   "metadata": {},
   "source": [
    "### Learning Curve of the selected model"
   ]
  },
  {
   "cell_type": "code",
   "execution_count": 29,
   "id": "faf21f1c",
   "metadata": {
    "scrolled": true
   },
   "outputs": [
    {
     "data": {
      "text/html": [
       "<style>#sk-container-id-3 {color: black;background-color: white;}#sk-container-id-3 pre{padding: 0;}#sk-container-id-3 div.sk-toggleable {background-color: white;}#sk-container-id-3 label.sk-toggleable__label {cursor: pointer;display: block;width: 100%;margin-bottom: 0;padding: 0.3em;box-sizing: border-box;text-align: center;}#sk-container-id-3 label.sk-toggleable__label-arrow:before {content: \"▸\";float: left;margin-right: 0.25em;color: #696969;}#sk-container-id-3 label.sk-toggleable__label-arrow:hover:before {color: black;}#sk-container-id-3 div.sk-estimator:hover label.sk-toggleable__label-arrow:before {color: black;}#sk-container-id-3 div.sk-toggleable__content {max-height: 0;max-width: 0;overflow: hidden;text-align: left;background-color: #f0f8ff;}#sk-container-id-3 div.sk-toggleable__content pre {margin: 0.2em;color: black;border-radius: 0.25em;background-color: #f0f8ff;}#sk-container-id-3 input.sk-toggleable__control:checked~div.sk-toggleable__content {max-height: 200px;max-width: 100%;overflow: auto;}#sk-container-id-3 input.sk-toggleable__control:checked~label.sk-toggleable__label-arrow:before {content: \"▾\";}#sk-container-id-3 div.sk-estimator input.sk-toggleable__control:checked~label.sk-toggleable__label {background-color: #d4ebff;}#sk-container-id-3 div.sk-label input.sk-toggleable__control:checked~label.sk-toggleable__label {background-color: #d4ebff;}#sk-container-id-3 input.sk-hidden--visually {border: 0;clip: rect(1px 1px 1px 1px);clip: rect(1px, 1px, 1px, 1px);height: 1px;margin: -1px;overflow: hidden;padding: 0;position: absolute;width: 1px;}#sk-container-id-3 div.sk-estimator {font-family: monospace;background-color: #f0f8ff;border: 1px dotted black;border-radius: 0.25em;box-sizing: border-box;margin-bottom: 0.5em;}#sk-container-id-3 div.sk-estimator:hover {background-color: #d4ebff;}#sk-container-id-3 div.sk-parallel-item::after {content: \"\";width: 100%;border-bottom: 1px solid gray;flex-grow: 1;}#sk-container-id-3 div.sk-label:hover label.sk-toggleable__label {background-color: #d4ebff;}#sk-container-id-3 div.sk-serial::before {content: \"\";position: absolute;border-left: 1px solid gray;box-sizing: border-box;top: 0;bottom: 0;left: 50%;z-index: 0;}#sk-container-id-3 div.sk-serial {display: flex;flex-direction: column;align-items: center;background-color: white;padding-right: 0.2em;padding-left: 0.2em;position: relative;}#sk-container-id-3 div.sk-item {position: relative;z-index: 1;}#sk-container-id-3 div.sk-parallel {display: flex;align-items: stretch;justify-content: center;background-color: white;position: relative;}#sk-container-id-3 div.sk-item::before, #sk-container-id-3 div.sk-parallel-item::before {content: \"\";position: absolute;border-left: 1px solid gray;box-sizing: border-box;top: 0;bottom: 0;left: 50%;z-index: -1;}#sk-container-id-3 div.sk-parallel-item {display: flex;flex-direction: column;z-index: 1;position: relative;background-color: white;}#sk-container-id-3 div.sk-parallel-item:first-child::after {align-self: flex-end;width: 50%;}#sk-container-id-3 div.sk-parallel-item:last-child::after {align-self: flex-start;width: 50%;}#sk-container-id-3 div.sk-parallel-item:only-child::after {width: 0;}#sk-container-id-3 div.sk-dashed-wrapped {border: 1px dashed gray;margin: 0 0.4em 0.5em 0.4em;box-sizing: border-box;padding-bottom: 0.4em;background-color: white;}#sk-container-id-3 div.sk-label label {font-family: monospace;font-weight: bold;display: inline-block;line-height: 1.2em;}#sk-container-id-3 div.sk-label-container {text-align: center;}#sk-container-id-3 div.sk-container {/* jupyter's `normalize.less` sets `[hidden] { display: none; }` but bootstrap.min.css set `[hidden] { display: none !important; }` so we also need the `!important` here to be able to override the default hidden behavior on the sphinx rendered scikit-learn.org. See: https://github.com/scikit-learn/scikit-learn/issues/21755 */display: inline-block !important;position: relative;}#sk-container-id-3 div.sk-text-repr-fallback {display: none;}</style><div id=\"sk-container-id-3\" class=\"sk-top-container\"><div class=\"sk-text-repr-fallback\"><pre>LogisticRegression(C=0.703030303030303, max_iter=10000,\n",
       "                   multi_class=&#x27;multinomial&#x27;)</pre><b>In a Jupyter environment, please rerun this cell to show the HTML representation or trust the notebook. <br />On GitHub, the HTML representation is unable to render, please try loading this page with nbviewer.org.</b></div><div class=\"sk-container\" hidden><div class=\"sk-item\"><div class=\"sk-estimator sk-toggleable\"><input class=\"sk-toggleable__control sk-hidden--visually\" id=\"sk-estimator-id-5\" type=\"checkbox\" checked><label for=\"sk-estimator-id-5\" class=\"sk-toggleable__label sk-toggleable__label-arrow\">LogisticRegression</label><div class=\"sk-toggleable__content\"><pre>LogisticRegression(C=0.703030303030303, max_iter=10000,\n",
       "                   multi_class=&#x27;multinomial&#x27;)</pre></div></div></div></div></div>"
      ],
      "text/plain": [
       "LogisticRegression(C=0.703030303030303, max_iter=10000,\n",
       "                   multi_class='multinomial')"
      ]
     },
     "execution_count": 29,
     "metadata": {},
     "output_type": "execute_result"
    }
   ],
   "source": [
    "ㅤbest_lr = lr_rs.best_estimator_ if lr_rs.best_score_ > lr_gs.best_score_ else lr_gs.best_estimator_\n",
    "ㅤbest_lr"
   ]
  },
  {
   "cell_type": "code",
   "execution_count": 30,
   "id": "c1b28936",
   "metadata": {},
   "outputs": [],
   "source": [
    "train_sizes, train_scores, val_scores =\\\n",
    "                learning_curve(estimator=best_lr,\n",
    "                               X=X_train,\n",
    "                               y=y_train,\n",
    "                               train_sizes=np.linspace(0.1, 1.0, 10),\n",
    "                               cv=5,\n",
    "                               n_jobs=1)"
   ]
  },
  {
   "cell_type": "code",
   "execution_count": 31,
   "id": "c0f4e792",
   "metadata": {},
   "outputs": [],
   "source": [
    "ㅤmean_train_scores = train_scores.mean(axis=1)\n",
    "ㅤmean_val_scores = val_scores.mean(axis=1)"
   ]
  },
  {
   "cell_type": "code",
   "execution_count": 32,
   "id": "04957b2a",
   "metadata": {
    "scrolled": true
   },
   "outputs": [
    {
     "data": {
      "image/png": "[encoded data removed]",
      "text/plain": [
       "<Figure size 640x480 with 1 Axes>"
      ]
     },
     "metadata": {},
     "output_type": "display_data"
    }
   ],
   "source": [
    "ㅤplt.plot(train_sizes, mean_train_scores, c='r', label='Training Accuracy')\n",
    "ㅤplt.plot(train_sizes, mean_val_scores, c='b', label='Validation Accuracy')\n",
    "ㅤplt.title('Learning Curve for Selected Logistic Regression Model')\n",
    "ㅤplt.xlabel('Size of training set')\n",
    "ㅤplt.ylabel('Accuracy')\n",
    "ㅤplt.legend()\n",
    "ㅤplt.tight_layout()"
   ]
  },
  {
   "cell_type": "markdown",
   "id": "adfb8c53",
   "metadata": {},
   "source": [
    "## Test the model"
   ]
  },
  {
   "cell_type": "code",
   "execution_count": 33,
   "id": "de4c441c",
   "metadata": {},
   "outputs": [
    {
     "data": {
      "text/plain": [
       "0.7467532467532467"
      ]
     },
     "execution_count": 33,
     "metadata": {},
     "output_type": "execute_result"
    }
   ],
   "source": [
    "y_test_pred_lr = lr.predict(X_test)\n",
    "np.mean(y_test == y_test_pred_lr)"
   ]
  },
  {
   "cell_type": "markdown",
   "id": "ff3424d9",
   "metadata": {},
   "source": [
    "# Linear SVM"
   ]
  },
  {
   "cell_type": "code",
   "execution_count": 34,
   "id": "e6f446c2",
   "metadata": {},
   "outputs": [],
   "source": [
    "from sklearn.svm import SVC"
   ]
  },
  {
   "cell_type": "markdown",
   "id": "5a90255d",
   "metadata": {},
   "source": [
    "## Validation Curve"
   ]
  },
  {
   "cell_type": "code",
   "execution_count": 35,
   "id": "24d74095",
   "metadata": {},
   "outputs": [],
   "source": [
    "svm_lin = SVC(kernel='linear')"
   ]
  },
  {
   "cell_type": "markdown",
   "id": "e5f3fd79",
   "metadata": {},
   "source": [
    "### Train the model"
   ]
  },
  {
   "cell_type": "code",
   "execution_count": 36,
   "id": "9fe05600",
   "metadata": {},
   "outputs": [
    {
     "data": {
      "text/html": [
       "<style>#sk-container-id-4 {color: black;background-color: white;}#sk-container-id-4 pre{padding: 0;}#sk-container-id-4 div.sk-toggleable {background-color: white;}#sk-container-id-4 label.sk-toggleable__label {cursor: pointer;display: block;width: 100%;margin-bottom: 0;padding: 0.3em;box-sizing: border-box;text-align: center;}#sk-container-id-4 label.sk-toggleable__label-arrow:before {content: \"▸\";float: left;margin-right: 0.25em;color: #696969;}#sk-container-id-4 label.sk-toggleable__label-arrow:hover:before {color: black;}#sk-container-id-4 div.sk-estimator:hover label.sk-toggleable__label-arrow:before {color: black;}#sk-container-id-4 div.sk-toggleable__content {max-height: 0;max-width: 0;overflow: hidden;text-align: left;background-color: #f0f8ff;}#sk-container-id-4 div.sk-toggleable__content pre {margin: 0.2em;color: black;border-radius: 0.25em;background-color: #f0f8ff;}#sk-container-id-4 input.sk-toggleable__control:checked~div.sk-toggleable__content {max-height: 200px;max-width: 100%;overflow: auto;}#sk-container-id-4 input.sk-toggleable__control:checked~label.sk-toggleable__label-arrow:before {content: \"▾\";}#sk-container-id-4 div.sk-estimator input.sk-toggleable__control:checked~label.sk-toggleable__label {background-color: #d4ebff;}#sk-container-id-4 div.sk-label input.sk-toggleable__control:checked~label.sk-toggleable__label {background-color: #d4ebff;}#sk-container-id-4 input.sk-hidden--visually {border: 0;clip: rect(1px 1px 1px 1px);clip: rect(1px, 1px, 1px, 1px);height: 1px;margin: -1px;overflow: hidden;padding: 0;position: absolute;width: 1px;}#sk-container-id-4 div.sk-estimator {font-family: monospace;background-color: #f0f8ff;border: 1px dotted black;border-radius: 0.25em;box-sizing: border-box;margin-bottom: 0.5em;}#sk-container-id-4 div.sk-estimator:hover {background-color: #d4ebff;}#sk-container-id-4 div.sk-parallel-item::after {content: \"\";width: 100%;border-bottom: 1px solid gray;flex-grow: 1;}#sk-container-id-4 div.sk-label:hover label.sk-toggleable__label {background-color: #d4ebff;}#sk-container-id-4 div.sk-serial::before {content: \"\";position: absolute;border-left: 1px solid gray;box-sizing: border-box;top: 0;bottom: 0;left: 50%;z-index: 0;}#sk-container-id-4 div.sk-serial {display: flex;flex-direction: column;align-items: center;background-color: white;padding-right: 0.2em;padding-left: 0.2em;position: relative;}#sk-container-id-4 div.sk-item {position: relative;z-index: 1;}#sk-container-id-4 div.sk-parallel {display: flex;align-items: stretch;justify-content: center;background-color: white;position: relative;}#sk-container-id-4 div.sk-item::before, #sk-container-id-4 div.sk-parallel-item::before {content: \"\";position: absolute;border-left: 1px solid gray;box-sizing: border-box;top: 0;bottom: 0;left: 50%;z-index: -1;}#sk-container-id-4 div.sk-parallel-item {display: flex;flex-direction: column;z-index: 1;position: relative;background-color: white;}#sk-container-id-4 div.sk-parallel-item:first-child::after {align-self: flex-end;width: 50%;}#sk-container-id-4 div.sk-parallel-item:last-child::after {align-self: flex-start;width: 50%;}#sk-container-id-4 div.sk-parallel-item:only-child::after {width: 0;}#sk-container-id-4 div.sk-dashed-wrapped {border: 1px dashed gray;margin: 0 0.4em 0.5em 0.4em;box-sizing: border-box;padding-bottom: 0.4em;background-color: white;}#sk-container-id-4 div.sk-label label {font-family: monospace;font-weight: bold;display: inline-block;line-height: 1.2em;}#sk-container-id-4 div.sk-label-container {text-align: center;}#sk-container-id-4 div.sk-container {/* jupyter's `normalize.less` sets `[hidden] { display: none; }` but bootstrap.min.css set `[hidden] { display: none !important; }` so we also need the `!important` here to be able to override the default hidden behavior on the sphinx rendered scikit-learn.org. See: https://github.com/scikit-learn/scikit-learn/issues/21755 */display: inline-block !important;position: relative;}#sk-container-id-4 div.sk-text-repr-fallback {display: none;}</style><div id=\"sk-container-id-4\" class=\"sk-top-container\"><div class=\"sk-text-repr-fallback\"><pre>SVC(kernel=&#x27;linear&#x27;)</pre><b>In a Jupyter environment, please rerun this cell to show the HTML representation or trust the notebook. <br />On GitHub, the HTML representation is unable to render, please try loading this page with nbviewer.org.</b></div><div class=\"sk-container\" hidden><div class=\"sk-item\"><div class=\"sk-estimator sk-toggleable\"><input class=\"sk-toggleable__control sk-hidden--visually\" id=\"sk-estimator-id-6\" type=\"checkbox\" checked><label for=\"sk-estimator-id-6\" class=\"sk-toggleable__label sk-toggleable__label-arrow\">SVC</label><div class=\"sk-toggleable__content\"><pre>SVC(kernel=&#x27;linear&#x27;)</pre></div></div></div></div></div>"
      ],
      "text/plain": [
       "SVC(kernel='linear')"
      ]
     },
     "execution_count": 36,
     "metadata": {},
     "output_type": "execute_result"
    }
   ],
   "source": [
    "svm_lin.fit(X_train,y_train)"
   ]
  },
  {
   "cell_type": "code",
   "execution_count": 37,
   "id": "0bc90133",
   "metadata": {},
   "outputs": [
    {
     "data": {
      "text/plain": [
       "0.7972093023255814"
      ]
     },
     "execution_count": 37,
     "metadata": {},
     "output_type": "execute_result"
    }
   ],
   "source": [
    "y_train_pred_svm_lin = svm_lin.predict(X_train)\n",
    "np.mean(y_train == y_train_pred_svm_lin)"
   ]
  },
  {
   "cell_type": "code",
   "execution_count": 38,
   "id": "16ad9ca2",
   "metadata": {},
   "outputs": [
    {
     "data": {
      "text/plain": [
       "array([1.00000000e-03, 2.04179592e+00, 4.08259184e+00, 6.12338776e+00,\n",
       "       8.16418367e+00, 1.02049796e+01, 1.22457755e+01, 1.42865714e+01,\n",
       "       1.63273673e+01, 1.83681633e+01, 2.04089592e+01, 2.24497551e+01,\n",
       "       2.44905510e+01, 2.65313469e+01, 2.85721429e+01, 3.06129388e+01,\n",
       "       3.26537347e+01, 3.46945306e+01, 3.67353265e+01, 3.87761224e+01,\n",
       "       4.08169184e+01, 4.28577143e+01, 4.48985102e+01, 4.69393061e+01,\n",
       "       4.89801020e+01, 5.10208980e+01, 5.30616939e+01, 5.51024898e+01,\n",
       "       5.71432857e+01, 5.91840816e+01, 6.12248776e+01, 6.32656735e+01,\n",
       "       6.53064694e+01, 6.73472653e+01, 6.93880612e+01, 7.14288571e+01,\n",
       "       7.34696531e+01, 7.55104490e+01, 7.75512449e+01, 7.95920408e+01,\n",
       "       8.16328367e+01, 8.36736327e+01, 8.57144286e+01, 8.77552245e+01,\n",
       "       8.97960204e+01, 9.18368163e+01, 9.38776122e+01, 9.59184082e+01,\n",
       "       9.79592041e+01, 1.00000000e+02])"
      ]
     },
     "execution_count": 38,
     "metadata": {},
     "output_type": "execute_result"
    }
   ],
   "source": [
    "C_range = param_range = np.linspace(0.001, 100, 50)\n",
    "C_range"
   ]
  },
  {
   "cell_type": "code",
   "execution_count": 39,
   "id": "fc78f065",
   "metadata": {},
   "outputs": [],
   "source": [
    "train_scores, val_scores = validation_curve(\n",
    "                estimator=SVC(max_iter=10000, kernel='linear',random_state=1), \n",
    "                X=X_train, \n",
    "                y=y_train, \n",
    "                param_name='C', \n",
    "                param_range=C_range,\n",
    "                cv=5, n_jobs=-1)"
   ]
  },
  {
   "cell_type": "code",
   "execution_count": null,
   "id": "91be3c1d",
   "metadata": {},
   "outputs": [],
   "source": [
    "mean_train_scores = train_scores.mean(axis=1)\n",
    "mean_val_scores = val_scores.mean(axis=1)\n",
    "\n",
    "plt.plot(C_range,mean_train_scores, c='r', label='Training Accuracy')\n",
    "plt.plot(C_range,mean_val_scores, c='b', label='Validation Accuracy')\n",
    "plt.title('Depth Validation Curve for Linear SVM')\n",
    "plt.xlabel('Max Depth')\n",
    "plt.ylabel('Accuracy')\n",
    "plt.legend()\n",
    "plt.tight_layout()"
   ]
  },
  {
   "cell_type": "markdown",
   "id": "6607e2f3",
   "metadata": {},
   "source": [
    "### Grid Search"
   ]
  },
  {
   "cell_type": "code",
   "execution_count": 41,
   "id": "eb11d8a7",
   "metadata": {},
   "outputs": [],
   "source": [
    "C_range = np.linspace(0.1, 20, 100)\n",
    "svm_grid = {'C':C_range}"
   ]
  },
  {
   "cell_type": "code",
   "execution_count": 42,
   "id": "e245ccf0",
   "metadata": {},
   "outputs": [],
   "source": [
    "svm_gs = GridSearchCV(estimator=SVC(max_iter=10000, kernel='linear'), \n",
    "                  param_grid=svm_grid, \n",
    "                  scoring='accuracy', \n",
    "                  refit=True,\n",
    "                  cv=5,\n",
    "                  n_jobs=-1)"
   ]
  },
  {
   "cell_type": "code",
   "execution_count": 43,
   "id": "fc1f4fe9",
   "metadata": {},
   "outputs": [
    {
     "name": "stdout",
     "output_type": "stream",
     "text": [
      "Time Elapsed: 7809.358596801758 milliseconds\n"
     ]
    },
    {
     "name": "stderr",
     "output_type": "stream",
     "text": [
      "C:\\Users\\marku\\anaconda3\\envs\\ai\\lib\\site-packages\\sklearn\\svm\\_base.py:301: ConvergenceWarning: Solver terminated early (max_iter=10000).  Consider pre-processing your data with StandardScaler or MinMaxScaler.\n",
      "  warnings.warn(\n"
     ]
    }
   ],
   "source": [
    "import time\n",
    "start = time.time()\n",
    "svm_gs.fit(X_train, y_train)\n",
    "end = time.time()\n",
    "print(f'Time Elapsed: {(end - start) * 1000} milliseconds')"
   ]
  },
  {
   "cell_type": "code",
   "execution_count": 44,
   "id": "9c871b87",
   "metadata": {},
   "outputs": [
    {
     "data": {
      "text/plain": [
       "{'C': 0.502020202020202}"
      ]
     },
     "execution_count": 44,
     "metadata": {},
     "output_type": "execute_result"
    }
   ],
   "source": [
    "svm_gs.best_params_"
   ]
  },
  {
   "cell_type": "code",
   "execution_count": 45,
   "id": "91138b9b",
   "metadata": {},
   "outputs": [
    {
     "data": {
      "text/plain": [
       "0.5599999999999999"
      ]
     },
     "execution_count": 45,
     "metadata": {},
     "output_type": "execute_result"
    }
   ],
   "source": [
    "svm_gs.best_score_"
   ]
  },
  {
   "cell_type": "code",
   "execution_count": 46,
   "id": "776c7bef",
   "metadata": {},
   "outputs": [
    {
     "name": "stdout",
     "output_type": "stream",
     "text": [
      "{'C': 0.502020202020202} 0.5599999999999999\n",
      "{'C': 1.3060606060606061} 0.5497674418604651\n",
      "{'C': 4.924242424242424} 0.5404651162790698\n",
      "{'C': 0.1} 0.5367441860465116\n",
      "{'C': 2.311111111111111} 0.533953488372093\n",
      "{'C': 3.7181818181818183} 0.5330232558139535\n",
      "{'C': 0.703030303030303} 0.532093023255814\n",
      "{'C': 3.1151515151515152} 0.5293023255813953\n",
      "{'C': 3.316161616161616} 0.5246511627906977\n",
      "{'C': 2.512121212121212} 0.5209302325581395\n"
     ]
    }
   ],
   "source": [
    "svm_gs_results = svm_gs.cv_results_\n",
    "svm_gs_rank = svm_gs_results['rank_test_score']\n",
    "svm_gs_sorted_idx = np.argsort(svm_gs_rank)\n",
    "\n",
    "for i in svm_gs_sorted_idx[:10]:\n",
    "    print(svm_gs_results['params'][i], svm_gs_results['mean_test_score'][i])"
   ]
  },
  {
   "cell_type": "markdown",
   "id": "620806fd",
   "metadata": {},
   "source": [
    "### Randomized Search"
   ]
  },
  {
   "cell_type": "code",
   "execution_count": 47,
   "id": "dc3ba0c8",
   "metadata": {},
   "outputs": [],
   "source": [
    "svm_dist = {'C': uniform(8, 2)}"
   ]
  },
  {
   "cell_type": "code",
   "execution_count": 48,
   "id": "33b2ae99",
   "metadata": {},
   "outputs": [],
   "source": [
    "svm_rs = RandomizedSearchCV(estimator=SVC(max_iter=10000),\n",
    "                                                    param_distributions=svm_dist, n_iter=100,\n",
    "                                                    scoring='accuracy',\n",
    "                                                    refit = True,\n",
    "                                                    cv=5,\n",
    "                                                    n_jobs=-1)"
   ]
  },
  {
   "cell_type": "code",
   "execution_count": 49,
   "id": "53379c5d",
   "metadata": {},
   "outputs": [
    {
     "name": "stdout",
     "output_type": "stream",
     "text": [
      "Time Elapsed: 8390.66743850708 milliseconds\n"
     ]
    }
   ],
   "source": [
    "import time\n",
    "start = time.time()\n",
    "svm_rs.fit(X_train, y_train)\n",
    "end = time.time()\n",
    "print(f'Time Elapsed: {(end - start) * 1000} milliseconds')"
   ]
  },
  {
   "cell_type": "code",
   "execution_count": 50,
   "id": "ab61858d",
   "metadata": {},
   "outputs": [
    {
     "name": "stdout",
     "output_type": "stream",
     "text": [
      "{'C': 8.093364617327216} 0.5888372093023255\n",
      "{'C': 8.263987490627413} 0.587906976744186\n",
      "{'C': 8.340034534038088} 0.587906976744186\n",
      "{'C': 9.781059395778062} 0.587906976744186\n",
      "{'C': 8.413088914930675} 0.587906976744186\n",
      "{'C': 8.240057590935116} 0.587906976744186\n",
      "{'C': 8.332499502503742} 0.587906976744186\n",
      "{'C': 8.259161142996799} 0.587906976744186\n",
      "{'C': 8.206997416411616} 0.587906976744186\n",
      "{'C': 8.33327829755749} 0.587906976744186\n"
     ]
    }
   ],
   "source": [
    "svm_rs_results = svm_rs.cv_results_\n",
    "svm_rs_rank = svm_rs_results['rank_test_score']\n",
    "svm_rs_sorted_idx = np.argsort(svm_rs_rank)\n",
    "\n",
    "for i in svm_rs_sorted_idx[:10]:\n",
    "    print(svm_rs_results['params'][i], svm_rs_results['mean_test_score'][i])"
   ]
  },
  {
   "cell_type": "markdown",
   "id": "f1ddcd95",
   "metadata": {},
   "source": [
    "### Learning Curve"
   ]
  },
  {
   "cell_type": "code",
   "execution_count": 51,
   "id": "243b33b3",
   "metadata": {},
   "outputs": [
    {
     "data": {
      "text/html": [
       "<style>#sk-container-id-5 {color: black;background-color: white;}#sk-container-id-5 pre{padding: 0;}#sk-container-id-5 div.sk-toggleable {background-color: white;}#sk-container-id-5 label.sk-toggleable__label {cursor: pointer;display: block;width: 100%;margin-bottom: 0;padding: 0.3em;box-sizing: border-box;text-align: center;}#sk-container-id-5 label.sk-toggleable__label-arrow:before {content: \"▸\";float: left;margin-right: 0.25em;color: #696969;}#sk-container-id-5 label.sk-toggleable__label-arrow:hover:before {color: black;}#sk-container-id-5 div.sk-estimator:hover label.sk-toggleable__label-arrow:before {color: black;}#sk-container-id-5 div.sk-toggleable__content {max-height: 0;max-width: 0;overflow: hidden;text-align: left;background-color: #f0f8ff;}#sk-container-id-5 div.sk-toggleable__content pre {margin: 0.2em;color: black;border-radius: 0.25em;background-color: #f0f8ff;}#sk-container-id-5 input.sk-toggleable__control:checked~div.sk-toggleable__content {max-height: 200px;max-width: 100%;overflow: auto;}#sk-container-id-5 input.sk-toggleable__control:checked~label.sk-toggleable__label-arrow:before {content: \"▾\";}#sk-container-id-5 div.sk-estimator input.sk-toggleable__control:checked~label.sk-toggleable__label {background-color: #d4ebff;}#sk-container-id-5 div.sk-label input.sk-toggleable__control:checked~label.sk-toggleable__label {background-color: #d4ebff;}#sk-container-id-5 input.sk-hidden--visually {border: 0;clip: rect(1px 1px 1px 1px);clip: rect(1px, 1px, 1px, 1px);height: 1px;margin: -1px;overflow: hidden;padding: 0;position: absolute;width: 1px;}#sk-container-id-5 div.sk-estimator {font-family: monospace;background-color: #f0f8ff;border: 1px dotted black;border-radius: 0.25em;box-sizing: border-box;margin-bottom: 0.5em;}#sk-container-id-5 div.sk-estimator:hover {background-color: #d4ebff;}#sk-container-id-5 div.sk-parallel-item::after {content: \"\";width: 100%;border-bottom: 1px solid gray;flex-grow: 1;}#sk-container-id-5 div.sk-label:hover label.sk-toggleable__label {background-color: #d4ebff;}#sk-container-id-5 div.sk-serial::before {content: \"\";position: absolute;border-left: 1px solid gray;box-sizing: border-box;top: 0;bottom: 0;left: 50%;z-index: 0;}#sk-container-id-5 div.sk-serial {display: flex;flex-direction: column;align-items: center;background-color: white;padding-right: 0.2em;padding-left: 0.2em;position: relative;}#sk-container-id-5 div.sk-item {position: relative;z-index: 1;}#sk-container-id-5 div.sk-parallel {display: flex;align-items: stretch;justify-content: center;background-color: white;position: relative;}#sk-container-id-5 div.sk-item::before, #sk-container-id-5 div.sk-parallel-item::before {content: \"\";position: absolute;border-left: 1px solid gray;box-sizing: border-box;top: 0;bottom: 0;left: 50%;z-index: -1;}#sk-container-id-5 div.sk-parallel-item {display: flex;flex-direction: column;z-index: 1;position: relative;background-color: white;}#sk-container-id-5 div.sk-parallel-item:first-child::after {align-self: flex-end;width: 50%;}#sk-container-id-5 div.sk-parallel-item:last-child::after {align-self: flex-start;width: 50%;}#sk-container-id-5 div.sk-parallel-item:only-child::after {width: 0;}#sk-container-id-5 div.sk-dashed-wrapped {border: 1px dashed gray;margin: 0 0.4em 0.5em 0.4em;box-sizing: border-box;padding-bottom: 0.4em;background-color: white;}#sk-container-id-5 div.sk-label label {font-family: monospace;font-weight: bold;display: inline-block;line-height: 1.2em;}#sk-container-id-5 div.sk-label-container {text-align: center;}#sk-container-id-5 div.sk-container {/* jupyter's `normalize.less` sets `[hidden] { display: none; }` but bootstrap.min.css set `[hidden] { display: none !important; }` so we also need the `!important` here to be able to override the default hidden behavior on the sphinx rendered scikit-learn.org. See: https://github.com/scikit-learn/scikit-learn/issues/21755 */display: inline-block !important;position: relative;}#sk-container-id-5 div.sk-text-repr-fallback {display: none;}</style><div id=\"sk-container-id-5\" class=\"sk-top-container\"><div class=\"sk-text-repr-fallback\"><pre>SVC(C=8.093364617327216, max_iter=10000)</pre><b>In a Jupyter environment, please rerun this cell to show the HTML representation or trust the notebook. <br />On GitHub, the HTML representation is unable to render, please try loading this page with nbviewer.org.</b></div><div class=\"sk-container\" hidden><div class=\"sk-item\"><div class=\"sk-estimator sk-toggleable\"><input class=\"sk-toggleable__control sk-hidden--visually\" id=\"sk-estimator-id-7\" type=\"checkbox\" checked><label for=\"sk-estimator-id-7\" class=\"sk-toggleable__label sk-toggleable__label-arrow\">SVC</label><div class=\"sk-toggleable__content\"><pre>SVC(C=8.093364617327216, max_iter=10000)</pre></div></div></div></div></div>"
      ],
      "text/plain": [
       "SVC(C=8.093364617327216, max_iter=10000)"
      ]
     },
     "execution_count": 51,
     "metadata": {},
     "output_type": "execute_result"
    }
   ],
   "source": [
    "best_svm = svm_rs.best_estimator_ if svm_rs.best_score_ > svm_gs.best_score_ else svm_gs.best_estimator_\n",
    "best_svm"
   ]
  },
  {
   "cell_type": "code",
   "execution_count": 52,
   "id": "403380b6",
   "metadata": {},
   "outputs": [],
   "source": [
    "train_sizes, train_scores, val_scores =\\\n",
    "                learning_curve(estimator=best_svm,\n",
    "                               X=X_train,\n",
    "                               y=y_train,\n",
    "                               train_sizes=np.linspace(0.1, 1.0, 10),\n",
    "                               cv=5,\n",
    "                               n_jobs=1)"
   ]
  },
  {
   "cell_type": "code",
   "execution_count": 53,
   "id": "4620dd68",
   "metadata": {},
   "outputs": [],
   "source": [
    "mean_train_scores = train_scores.mean(axis=1)\n",
    "mean_val_scores = val_scores.mean(axis=1)"
   ]
  },
  {
   "cell_type": "code",
   "execution_count": 54,
   "id": "34c019b3",
   "metadata": {},
   "outputs": [
    {
     "data": {
      "image/png": "[encoded data removed]",
      "text/plain": [
       "<Figure size 640x480 with 1 Axes>"
      ]
     },
     "metadata": {},
     "output_type": "display_data"
    }
   ],
   "source": [
    "plt.plot(train_sizes, mean_train_scores, c='r', label='Training Accuracy')\n",
    "plt.plot(train_sizes, mean_val_scores, c='b', label='Validation Accuracy')\n",
    "plt.title('Learning Curve for Selected Linear SVM Model')\n",
    "plt.xlabel('Size of training set')\n",
    "plt.ylabel('Accuracy')\n",
    "plt.legend()\n",
    "plt.tight_layout()"
   ]
  },
  {
   "cell_type": "markdown",
   "id": "fb83b679",
   "metadata": {},
   "source": [
    "### Test"
   ]
  },
  {
   "cell_type": "code",
   "execution_count": 55,
   "id": "771af1e4",
   "metadata": {},
   "outputs": [
    {
     "data": {
      "text/plain": [
       "0.5606060606060606"
      ]
     },
     "execution_count": 55,
     "metadata": {},
     "output_type": "execute_result"
    }
   ],
   "source": [
    "y_test_pred_svm = best_svm.predict(X_test)\n",
    "np.mean(y_test == y_test_pred_svm)"
   ]
  },
  {
   "cell_type": "markdown",
   "id": "98860316",
   "metadata": {},
   "source": [
    "# Gaussian SVM"
   ]
  },
  {
   "cell_type": "code",
   "execution_count": 56,
   "id": "ba0bef13",
   "metadata": {},
   "outputs": [],
   "source": [
    "svm_gauss = SVC(kernel='rbf', gamma=0.1)"
   ]
  },
  {
   "cell_type": "markdown",
   "id": "57ec87cc",
   "metadata": {},
   "source": [
    "### Train the model"
   ]
  },
  {
   "cell_type": "code",
   "execution_count": 57,
   "id": "437dcad9",
   "metadata": {},
   "outputs": [
    {
     "data": {
      "text/html": [
       "<style>#sk-container-id-6 {color: black;background-color: white;}#sk-container-id-6 pre{padding: 0;}#sk-container-id-6 div.sk-toggleable {background-color: white;}#sk-container-id-6 label.sk-toggleable__label {cursor: pointer;display: block;width: 100%;margin-bottom: 0;padding: 0.3em;box-sizing: border-box;text-align: center;}#sk-container-id-6 label.sk-toggleable__label-arrow:before {content: \"▸\";float: left;margin-right: 0.25em;color: #696969;}#sk-container-id-6 label.sk-toggleable__label-arrow:hover:before {color: black;}#sk-container-id-6 div.sk-estimator:hover label.sk-toggleable__label-arrow:before {color: black;}#sk-container-id-6 div.sk-toggleable__content {max-height: 0;max-width: 0;overflow: hidden;text-align: left;background-color: #f0f8ff;}#sk-container-id-6 div.sk-toggleable__content pre {margin: 0.2em;color: black;border-radius: 0.25em;background-color: #f0f8ff;}#sk-container-id-6 input.sk-toggleable__control:checked~div.sk-toggleable__content {max-height: 200px;max-width: 100%;overflow: auto;}#sk-container-id-6 input.sk-toggleable__control:checked~label.sk-toggleable__label-arrow:before {content: \"▾\";}#sk-container-id-6 div.sk-estimator input.sk-toggleable__control:checked~label.sk-toggleable__label {background-color: #d4ebff;}#sk-container-id-6 div.sk-label input.sk-toggleable__control:checked~label.sk-toggleable__label {background-color: #d4ebff;}#sk-container-id-6 input.sk-hidden--visually {border: 0;clip: rect(1px 1px 1px 1px);clip: rect(1px, 1px, 1px, 1px);height: 1px;margin: -1px;overflow: hidden;padding: 0;position: absolute;width: 1px;}#sk-container-id-6 div.sk-estimator {font-family: monospace;background-color: #f0f8ff;border: 1px dotted black;border-radius: 0.25em;box-sizing: border-box;margin-bottom: 0.5em;}#sk-container-id-6 div.sk-estimator:hover {background-color: #d4ebff;}#sk-container-id-6 div.sk-parallel-item::after {content: \"\";width: 100%;border-bottom: 1px solid gray;flex-grow: 1;}#sk-container-id-6 div.sk-label:hover label.sk-toggleable__label {background-color: #d4ebff;}#sk-container-id-6 div.sk-serial::before {content: \"\";position: absolute;border-left: 1px solid gray;box-sizing: border-box;top: 0;bottom: 0;left: 50%;z-index: 0;}#sk-container-id-6 div.sk-serial {display: flex;flex-direction: column;align-items: center;background-color: white;padding-right: 0.2em;padding-left: 0.2em;position: relative;}#sk-container-id-6 div.sk-item {position: relative;z-index: 1;}#sk-container-id-6 div.sk-parallel {display: flex;align-items: stretch;justify-content: center;background-color: white;position: relative;}#sk-container-id-6 div.sk-item::before, #sk-container-id-6 div.sk-parallel-item::before {content: \"\";position: absolute;border-left: 1px solid gray;box-sizing: border-box;top: 0;bottom: 0;left: 50%;z-index: -1;}#sk-container-id-6 div.sk-parallel-item {display: flex;flex-direction: column;z-index: 1;position: relative;background-color: white;}#sk-container-id-6 div.sk-parallel-item:first-child::after {align-self: flex-end;width: 50%;}#sk-container-id-6 div.sk-parallel-item:last-child::after {align-self: flex-start;width: 50%;}#sk-container-id-6 div.sk-parallel-item:only-child::after {width: 0;}#sk-container-id-6 div.sk-dashed-wrapped {border: 1px dashed gray;margin: 0 0.4em 0.5em 0.4em;box-sizing: border-box;padding-bottom: 0.4em;background-color: white;}#sk-container-id-6 div.sk-label label {font-family: monospace;font-weight: bold;display: inline-block;line-height: 1.2em;}#sk-container-id-6 div.sk-label-container {text-align: center;}#sk-container-id-6 div.sk-container {/* jupyter's `normalize.less` sets `[hidden] { display: none; }` but bootstrap.min.css set `[hidden] { display: none !important; }` so we also need the `!important` here to be able to override the default hidden behavior on the sphinx rendered scikit-learn.org. See: https://github.com/scikit-learn/scikit-learn/issues/21755 */display: inline-block !important;position: relative;}#sk-container-id-6 div.sk-text-repr-fallback {display: none;}</style><div id=\"sk-container-id-6\" class=\"sk-top-container\"><div class=\"sk-text-repr-fallback\"><pre>SVC(gamma=0.1)</pre><b>In a Jupyter environment, please rerun this cell to show the HTML representation or trust the notebook. <br />On GitHub, the HTML representation is unable to render, please try loading this page with nbviewer.org.</b></div><div class=\"sk-container\" hidden><div class=\"sk-item\"><div class=\"sk-estimator sk-toggleable\"><input class=\"sk-toggleable__control sk-hidden--visually\" id=\"sk-estimator-id-8\" type=\"checkbox\" checked><label for=\"sk-estimator-id-8\" class=\"sk-toggleable__label sk-toggleable__label-arrow\">SVC</label><div class=\"sk-toggleable__content\"><pre>SVC(gamma=0.1)</pre></div></div></div></div></div>"
      ],
      "text/plain": [
       "SVC(gamma=0.1)"
      ]
     },
     "execution_count": 57,
     "metadata": {},
     "output_type": "execute_result"
    }
   ],
   "source": [
    "svm_gauss.fit(X_train,y_train)"
   ]
  },
  {
   "cell_type": "code",
   "execution_count": 58,
   "id": "53e6f7cd",
   "metadata": {},
   "outputs": [
    {
     "data": {
      "text/plain": [
       "1.0"
      ]
     },
     "execution_count": 58,
     "metadata": {},
     "output_type": "execute_result"
    }
   ],
   "source": [
    "y_pred_svm_gauss = svm_gauss.predict(X_train)\n",
    "np.mean(y_train == y_pred_svm_gauss)"
   ]
  },
  {
   "cell_type": "markdown",
   "id": "150cbc07",
   "metadata": {},
   "source": [
    "## Validation Curve"
   ]
  },
  {
   "cell_type": "code",
   "execution_count": 59,
   "id": "218b208d",
   "metadata": {},
   "outputs": [
    {
     "data": {
      "text/plain": [
       "array([1.000e-04, 1.020e-02, 2.030e-02, 3.040e-02, 4.050e-02, 5.060e-02,\n",
       "       6.070e-02, 7.080e-02, 8.090e-02, 9.100e-02, 1.011e-01, 1.112e-01,\n",
       "       1.213e-01, 1.314e-01, 1.415e-01, 1.516e-01, 1.617e-01, 1.718e-01,\n",
       "       1.819e-01, 1.920e-01, 2.021e-01, 2.122e-01, 2.223e-01, 2.324e-01,\n",
       "       2.425e-01, 2.526e-01, 2.627e-01, 2.728e-01, 2.829e-01, 2.930e-01,\n",
       "       3.031e-01, 3.132e-01, 3.233e-01, 3.334e-01, 3.435e-01, 3.536e-01,\n",
       "       3.637e-01, 3.738e-01, 3.839e-01, 3.940e-01, 4.041e-01, 4.142e-01,\n",
       "       4.243e-01, 4.344e-01, 4.445e-01, 4.546e-01, 4.647e-01, 4.748e-01,\n",
       "       4.849e-01, 4.950e-01, 5.051e-01, 5.152e-01, 5.253e-01, 5.354e-01,\n",
       "       5.455e-01, 5.556e-01, 5.657e-01, 5.758e-01, 5.859e-01, 5.960e-01,\n",
       "       6.061e-01, 6.162e-01, 6.263e-01, 6.364e-01, 6.465e-01, 6.566e-01,\n",
       "       6.667e-01, 6.768e-01, 6.869e-01, 6.970e-01, 7.071e-01, 7.172e-01,\n",
       "       7.273e-01, 7.374e-01, 7.475e-01, 7.576e-01, 7.677e-01, 7.778e-01,\n",
       "       7.879e-01, 7.980e-01, 8.081e-01, 8.182e-01, 8.283e-01, 8.384e-01,\n",
       "       8.485e-01, 8.586e-01, 8.687e-01, 8.788e-01, 8.889e-01, 8.990e-01,\n",
       "       9.091e-01, 9.192e-01, 9.293e-01, 9.394e-01, 9.495e-01, 9.596e-01,\n",
       "       9.697e-01, 9.798e-01, 9.899e-01, 1.000e+00])"
      ]
     },
     "execution_count": 59,
     "metadata": {},
     "output_type": "execute_result"
    }
   ],
   "source": [
    "g_range = np.linspace(0.0001, 1, 100)\n",
    "g_range"
   ]
  },
  {
   "cell_type": "code",
   "execution_count": 60,
   "id": "4098b2dd",
   "metadata": {},
   "outputs": [],
   "source": [
    "train_scores, val_scores = validation_curve(\n",
    "                estimator=SVC(max_iter=10000), \n",
    "                X=X_train, \n",
    "                y=y_train, \n",
    "                param_name='gamma', \n",
    "                param_range=g_range,\n",
    "                cv=5, n_jobs=-1)"
   ]
  },
  {
   "cell_type": "code",
   "execution_count": null,
   "id": "ae7bca50",
   "metadata": {},
   "outputs": [],
   "source": [
    "mean_train_scores = train_scores.mean(axis=1)\n",
    "mean_val_scores = val_scores.mean(axis=1)\n",
    "\n",
    "plt.plot(C_range,mean_train_scores, c='r', label='Training Accuracy')\n",
    "plt.plot(C_range,mean_val_scores, c='b', label='Validation Accuracy')\n",
    "plt.title('Depth Validation Curve for Gaussian SVM')\n",
    "plt.xlabel('Max Depth')\n",
    "plt.ylabel('Accuracy')\n",
    "plt.legend()\n",
    "plt.tight_layout()"
   ]
  },
  {
   "cell_type": "markdown",
   "id": "958a2682",
   "metadata": {},
   "source": [
    "### Grid Search"
   ]
  },
  {
   "cell_type": "code",
   "execution_count": 62,
   "id": "fb479290",
   "metadata": {},
   "outputs": [],
   "source": [
    "g_range = np.linspace(0.001, 1, 50)\n",
    "gamma = np.logspace(-9,3,13)\n",
    "g_svm_grid = {'C':g_range, 'gamma':gamma}\n",
    "# (0.1, 1, 1)"
   ]
  },
  {
   "cell_type": "code",
   "execution_count": 63,
   "id": "246f8642",
   "metadata": {},
   "outputs": [],
   "source": [
    "g_svm_gs = GridSearchCV(estimator=SVC(max_iter=10000), \n",
    "                  param_grid=g_svm_grid, \n",
    "                  scoring='accuracy', \n",
    "                  refit=True,\n",
    "                  cv=5,\n",
    "                  n_jobs=-1)"
   ]
  },
  {
   "cell_type": "code",
   "execution_count": 64,
   "id": "bc96b24f",
   "metadata": {},
   "outputs": [
    {
     "name": "stdout",
     "output_type": "stream",
     "text": [
      "Time Elapsed: 83940.04678726196 milliseconds\n"
     ]
    }
   ],
   "source": [
    "import time\n",
    "start = time.time()\n",
    "g_svm_gs.fit(X_train, y_train)\n",
    "end = time.time()\n",
    "print(f'Time Elapsed: {(end - start) * 1000} milliseconds')"
   ]
  },
  {
   "cell_type": "code",
   "execution_count": 65,
   "id": "84004123",
   "metadata": {},
   "outputs": [
    {
     "data": {
      "text/plain": [
       "{'C': 1.0, 'gamma': 0.0001}"
      ]
     },
     "execution_count": 65,
     "metadata": {},
     "output_type": "execute_result"
    }
   ],
   "source": [
    "g_svm_gs.best_params_"
   ]
  },
  {
   "cell_type": "code",
   "execution_count": 66,
   "id": "cd0efbd9",
   "metadata": {},
   "outputs": [
    {
     "data": {
      "text/plain": [
       "0.7376744186046512"
      ]
     },
     "execution_count": 66,
     "metadata": {},
     "output_type": "execute_result"
    }
   ],
   "source": [
    "g_svm_gs.best_score_"
   ]
  },
  {
   "cell_type": "code",
   "execution_count": 67,
   "id": "12fdd5f9",
   "metadata": {},
   "outputs": [
    {
     "name": "stdout",
     "output_type": "stream",
     "text": [
      "{'C': 1.0, 'gamma': 0.0001} 0.7376744186046512\n",
      "{'C': 0.9796122448979593, 'gamma': 0.0001} 0.7367441860465116\n",
      "{'C': 0.9388367346938776, 'gamma': 0.0001} 0.7367441860465116\n",
      "{'C': 0.9592244897959185, 'gamma': 0.0001} 0.7367441860465116\n",
      "{'C': 0.9184489795918368, 'gamma': 0.0001} 0.7367441860465116\n",
      "{'C': 0.898061224489796, 'gamma': 0.0001} 0.7358139534883722\n",
      "{'C': 0.8776734693877551, 'gamma': 0.0001} 0.7339534883720931\n",
      "{'C': 0.8572857142857143, 'gamma': 0.0001} 0.7339534883720931\n",
      "{'C': 0.8368979591836735, 'gamma': 0.0001} 0.7330232558139536\n",
      "{'C': 0.775734693877551, 'gamma': 0.0001} 0.7330232558139536\n"
     ]
    }
   ],
   "source": [
    "g_svm_gs_results = g_svm_gs.cv_results_\n",
    "g_svm_gs_rank = g_svm_gs_results['rank_test_score']\n",
    "g_svm_gs_sorted_idx = np.argsort(g_svm_gs_rank)\n",
    "\n",
    "for i in g_svm_gs_sorted_idx[:10]:\n",
    "    print(g_svm_gs_results['params'][i], g_svm_gs_results['mean_test_score'][i])"
   ]
  },
  {
   "cell_type": "markdown",
   "id": "40ee283e",
   "metadata": {},
   "source": [
    "### Randomized Search"
   ]
  },
  {
   "cell_type": "code",
   "execution_count": 68,
   "id": "f733d193",
   "metadata": {},
   "outputs": [],
   "source": [
    "g_svm_dist = {'C': uniform(8, 2), 'gamma':uniform(0.001, 1)}"
   ]
  },
  {
   "cell_type": "code",
   "execution_count": 69,
   "id": "8d94e211",
   "metadata": {},
   "outputs": [],
   "source": [
    "g_svm_rs = RandomizedSearchCV(estimator=SVC(max_iter=10000),\n",
    "                                                    param_distributions=g_svm_dist, n_iter=100,\n",
    "                                                    scoring='accuracy',\n",
    "                                                    refit = True,\n",
    "                                                    cv=5,\n",
    "                                                    n_jobs=-1)"
   ]
  },
  {
   "cell_type": "code",
   "execution_count": 70,
   "id": "d47c459c",
   "metadata": {},
   "outputs": [
    {
     "name": "stdout",
     "output_type": "stream",
     "text": [
      "Time Elapsed: 19848.8552570343 milliseconds\n"
     ]
    }
   ],
   "source": [
    "import time\n",
    "start = time.time()\n",
    "g_svm_rs.fit(X_train, y_train)\n",
    "end = time.time()\n",
    "print(f'Time Elapsed: {(end - start) * 1000} milliseconds')"
   ]
  },
  {
   "cell_type": "code",
   "execution_count": 71,
   "id": "90ec28db",
   "metadata": {},
   "outputs": [
    {
     "name": "stdout",
     "output_type": "stream",
     "text": [
      "{'C': 8.89984802521916, 'gamma': 0.009423939890841893} 0.6493023255813954\n",
      "{'C': 8.048169616452723, 'gamma': 0.014647512352453318} 0.6269767441860464\n",
      "{'C': 9.077506944226316, 'gamma': 0.017134370949655753} 0.6158139534883721\n",
      "{'C': 9.20954046908884, 'gamma': 0.05630627087649265} 0.5711627906976744\n",
      "{'C': 8.810033713327039, 'gamma': 0.054177825395050894} 0.5702325581395349\n",
      "{'C': 8.803093721263386, 'gamma': 0.0595254752880896} 0.5674418604651162\n",
      "{'C': 9.974266549749606, 'gamma': 0.0758866353189821} 0.5618604651162791\n",
      "{'C': 9.241987488902629, 'gamma': 0.08643663722744621} 0.5581395348837209\n",
      "{'C': 9.437551757913171, 'gamma': 0.09079751060907815} 0.5581395348837208\n",
      "{'C': 8.435240180751924, 'gamma': 0.11210318303647915} 0.5562790697674418\n"
     ]
    }
   ],
   "source": [
    "g_svm_rs_results = g_svm_rs.cv_results_\n",
    "g_svm_rs_rank = g_svm_rs_results['rank_test_score']\n",
    "g_svm_rs_sorted_idx = np.argsort(g_svm_rs_rank)\n",
    "\n",
    "for i in g_svm_rs_sorted_idx[:10]:\n",
    "    print(g_svm_rs_results['params'][i], g_svm_rs_results['mean_test_score'][i])"
   ]
  },
  {
   "cell_type": "markdown",
   "id": "61823875",
   "metadata": {},
   "source": [
    "### Learning Curve"
   ]
  },
  {
   "cell_type": "code",
   "execution_count": 72,
   "id": "2ffaa003",
   "metadata": {},
   "outputs": [
    {
     "data": {
      "text/html": [
       "<style>#sk-container-id-7 {color: black;background-color: white;}#sk-container-id-7 pre{padding: 0;}#sk-container-id-7 div.sk-toggleable {background-color: white;}#sk-container-id-7 label.sk-toggleable__label {cursor: pointer;display: block;width: 100%;margin-bottom: 0;padding: 0.3em;box-sizing: border-box;text-align: center;}#sk-container-id-7 label.sk-toggleable__label-arrow:before {content: \"▸\";float: left;margin-right: 0.25em;color: #696969;}#sk-container-id-7 label.sk-toggleable__label-arrow:hover:before {color: black;}#sk-container-id-7 div.sk-estimator:hover label.sk-toggleable__label-arrow:before {color: black;}#sk-container-id-7 div.sk-toggleable__content {max-height: 0;max-width: 0;overflow: hidden;text-align: left;background-color: #f0f8ff;}#sk-container-id-7 div.sk-toggleable__content pre {margin: 0.2em;color: black;border-radius: 0.25em;background-color: #f0f8ff;}#sk-container-id-7 input.sk-toggleable__control:checked~div.sk-toggleable__content {max-height: 200px;max-width: 100%;overflow: auto;}#sk-container-id-7 input.sk-toggleable__control:checked~label.sk-toggleable__label-arrow:before {content: \"▾\";}#sk-container-id-7 div.sk-estimator input.sk-toggleable__control:checked~label.sk-toggleable__label {background-color: #d4ebff;}#sk-container-id-7 div.sk-label input.sk-toggleable__control:checked~label.sk-toggleable__label {background-color: #d4ebff;}#sk-container-id-7 input.sk-hidden--visually {border: 0;clip: rect(1px 1px 1px 1px);clip: rect(1px, 1px, 1px, 1px);height: 1px;margin: -1px;overflow: hidden;padding: 0;position: absolute;width: 1px;}#sk-container-id-7 div.sk-estimator {font-family: monospace;background-color: #f0f8ff;border: 1px dotted black;border-radius: 0.25em;box-sizing: border-box;margin-bottom: 0.5em;}#sk-container-id-7 div.sk-estimator:hover {background-color: #d4ebff;}#sk-container-id-7 div.sk-parallel-item::after {content: \"\";width: 100%;border-bottom: 1px solid gray;flex-grow: 1;}#sk-container-id-7 div.sk-label:hover label.sk-toggleable__label {background-color: #d4ebff;}#sk-container-id-7 div.sk-serial::before {content: \"\";position: absolute;border-left: 1px solid gray;box-sizing: border-box;top: 0;bottom: 0;left: 50%;z-index: 0;}#sk-container-id-7 div.sk-serial {display: flex;flex-direction: column;align-items: center;background-color: white;padding-right: 0.2em;padding-left: 0.2em;position: relative;}#sk-container-id-7 div.sk-item {position: relative;z-index: 1;}#sk-container-id-7 div.sk-parallel {display: flex;align-items: stretch;justify-content: center;background-color: white;position: relative;}#sk-container-id-7 div.sk-item::before, #sk-container-id-7 div.sk-parallel-item::before {content: \"\";position: absolute;border-left: 1px solid gray;box-sizing: border-box;top: 0;bottom: 0;left: 50%;z-index: -1;}#sk-container-id-7 div.sk-parallel-item {display: flex;flex-direction: column;z-index: 1;position: relative;background-color: white;}#sk-container-id-7 div.sk-parallel-item:first-child::after {align-self: flex-end;width: 50%;}#sk-container-id-7 div.sk-parallel-item:last-child::after {align-self: flex-start;width: 50%;}#sk-container-id-7 div.sk-parallel-item:only-child::after {width: 0;}#sk-container-id-7 div.sk-dashed-wrapped {border: 1px dashed gray;margin: 0 0.4em 0.5em 0.4em;box-sizing: border-box;padding-bottom: 0.4em;background-color: white;}#sk-container-id-7 div.sk-label label {font-family: monospace;font-weight: bold;display: inline-block;line-height: 1.2em;}#sk-container-id-7 div.sk-label-container {text-align: center;}#sk-container-id-7 div.sk-container {/* jupyter's `normalize.less` sets `[hidden] { display: none; }` but bootstrap.min.css set `[hidden] { display: none !important; }` so we also need the `!important` here to be able to override the default hidden behavior on the sphinx rendered scikit-learn.org. See: https://github.com/scikit-learn/scikit-learn/issues/21755 */display: inline-block !important;position: relative;}#sk-container-id-7 div.sk-text-repr-fallback {display: none;}</style><div id=\"sk-container-id-7\" class=\"sk-top-container\"><div class=\"sk-text-repr-fallback\"><pre>SVC(gamma=0.0001, max_iter=10000)</pre><b>In a Jupyter environment, please rerun this cell to show the HTML representation or trust the notebook. <br />On GitHub, the HTML representation is unable to render, please try loading this page with nbviewer.org.</b></div><div class=\"sk-container\" hidden><div class=\"sk-item\"><div class=\"sk-estimator sk-toggleable\"><input class=\"sk-toggleable__control sk-hidden--visually\" id=\"sk-estimator-id-9\" type=\"checkbox\" checked><label for=\"sk-estimator-id-9\" class=\"sk-toggleable__label sk-toggleable__label-arrow\">SVC</label><div class=\"sk-toggleable__content\"><pre>SVC(gamma=0.0001, max_iter=10000)</pre></div></div></div></div></div>"
      ],
      "text/plain": [
       "SVC(gamma=0.0001, max_iter=10000)"
      ]
     },
     "execution_count": 72,
     "metadata": {},
     "output_type": "execute_result"
    }
   ],
   "source": [
    "best_g_svm = g_svm_rs.best_estimator_ if g_svm_rs.best_score_ > g_svm_gs.best_score_ else g_svm_gs.best_estimator_\n",
    "best_g_svm"
   ]
  },
  {
   "cell_type": "code",
   "execution_count": 73,
   "id": "cbaadbc0",
   "metadata": {},
   "outputs": [],
   "source": [
    "train_sizes, train_scores, val_scores =\\\n",
    "                learning_curve(estimator=best_g_svm,\n",
    "                               X=X_train,\n",
    "                               y=y_train,\n",
    "                               train_sizes=np.linspace(0.1, 1.0, 10),\n",
    "                               cv=5,\n",
    "                               n_jobs=1)"
   ]
  },
  {
   "cell_type": "code",
   "execution_count": 74,
   "id": "135fd29e",
   "metadata": {},
   "outputs": [],
   "source": [
    "mean_train_scores = train_scores.mean(axis=1)\n",
    "mean_val_scores = val_scores.mean(axis=1)"
   ]
  },
  {
   "cell_type": "code",
   "execution_count": 75,
   "id": "f6935e03",
   "metadata": {},
   "outputs": [
    {
     "data": {
      "image/png": "[encoded data removed]",
      "text/plain": [
       "<Figure size 640x480 with 1 Axes>"
      ]
     },
     "metadata": {},
     "output_type": "display_data"
    }
   ],
   "source": [
    "plt.plot(train_sizes, mean_train_scores, c='r', label='Training Accuracy')\n",
    "plt.plot(train_sizes, mean_val_scores, c='b', label='Validation Accuracy')\n",
    "plt.title('Learning Curve for Selected Gaussian SVM Model')\n",
    "plt.xlabel('Size of training set')\n",
    "plt.ylabel('Accuracy')\n",
    "plt.legend()\n",
    "plt.tight_layout()"
   ]
  },
  {
   "cell_type": "markdown",
   "id": "13b5c724",
   "metadata": {},
   "source": [
    "### Test"
   ]
  },
  {
   "cell_type": "code",
   "execution_count": 76,
   "id": "b8bdb08f",
   "metadata": {
    "scrolled": true
   },
   "outputs": [
    {
     "data": {
      "text/plain": [
       "0.7770562770562771"
      ]
     },
     "execution_count": 76,
     "metadata": {},
     "output_type": "execute_result"
    }
   ],
   "source": [
    "y_test_pred_g_svm = best_g_svm.predict(X_test)\n",
    "np.mean(y_test == y_test_pred_g_svm)"
   ]
  },
  {
   "cell_type": "markdown",
   "id": "5eb1b744",
   "metadata": {},
   "source": [
    "# K Nearest Neighbors"
   ]
  },
  {
   "cell_type": "code",
   "execution_count": 77,
   "id": "404d88ec",
   "metadata": {},
   "outputs": [],
   "source": [
    "from sklearn.neighbors import KNeighborsClassifier"
   ]
  },
  {
   "cell_type": "code",
   "execution_count": 78,
   "id": "156cd9bb",
   "metadata": {},
   "outputs": [],
   "source": [
    "knn = KNeighborsClassifier()"
   ]
  },
  {
   "cell_type": "markdown",
   "id": "72bab8f0",
   "metadata": {},
   "source": [
    "### Train the model"
   ]
  },
  {
   "cell_type": "code",
   "execution_count": 79,
   "id": "477eca90",
   "metadata": {},
   "outputs": [
    {
     "data": {
      "text/html": [
       "<style>#sk-container-id-8 {color: black;background-color: white;}#sk-container-id-8 pre{padding: 0;}#sk-container-id-8 div.sk-toggleable {background-color: white;}#sk-container-id-8 label.sk-toggleable__label {cursor: pointer;display: block;width: 100%;margin-bottom: 0;padding: 0.3em;box-sizing: border-box;text-align: center;}#sk-container-id-8 label.sk-toggleable__label-arrow:before {content: \"▸\";float: left;margin-right: 0.25em;color: #696969;}#sk-container-id-8 label.sk-toggleable__label-arrow:hover:before {color: black;}#sk-container-id-8 div.sk-estimator:hover label.sk-toggleable__label-arrow:before {color: black;}#sk-container-id-8 div.sk-toggleable__content {max-height: 0;max-width: 0;overflow: hidden;text-align: left;background-color: #f0f8ff;}#sk-container-id-8 div.sk-toggleable__content pre {margin: 0.2em;color: black;border-radius: 0.25em;background-color: #f0f8ff;}#sk-container-id-8 input.sk-toggleable__control:checked~div.sk-toggleable__content {max-height: 200px;max-width: 100%;overflow: auto;}#sk-container-id-8 input.sk-toggleable__control:checked~label.sk-toggleable__label-arrow:before {content: \"▾\";}#sk-container-id-8 div.sk-estimator input.sk-toggleable__control:checked~label.sk-toggleable__label {background-color: #d4ebff;}#sk-container-id-8 div.sk-label input.sk-toggleable__control:checked~label.sk-toggleable__label {background-color: #d4ebff;}#sk-container-id-8 input.sk-hidden--visually {border: 0;clip: rect(1px 1px 1px 1px);clip: rect(1px, 1px, 1px, 1px);height: 1px;margin: -1px;overflow: hidden;padding: 0;position: absolute;width: 1px;}#sk-container-id-8 div.sk-estimator {font-family: monospace;background-color: #f0f8ff;border: 1px dotted black;border-radius: 0.25em;box-sizing: border-box;margin-bottom: 0.5em;}#sk-container-id-8 div.sk-estimator:hover {background-color: #d4ebff;}#sk-container-id-8 div.sk-parallel-item::after {content: \"\";width: 100%;border-bottom: 1px solid gray;flex-grow: 1;}#sk-container-id-8 div.sk-label:hover label.sk-toggleable__label {background-color: #d4ebff;}#sk-container-id-8 div.sk-serial::before {content: \"\";position: absolute;border-left: 1px solid gray;box-sizing: border-box;top: 0;bottom: 0;left: 50%;z-index: 0;}#sk-container-id-8 div.sk-serial {display: flex;flex-direction: column;align-items: center;background-color: white;padding-right: 0.2em;padding-left: 0.2em;position: relative;}#sk-container-id-8 div.sk-item {position: relative;z-index: 1;}#sk-container-id-8 div.sk-parallel {display: flex;align-items: stretch;justify-content: center;background-color: white;position: relative;}#sk-container-id-8 div.sk-item::before, #sk-container-id-8 div.sk-parallel-item::before {content: \"\";position: absolute;border-left: 1px solid gray;box-sizing: border-box;top: 0;bottom: 0;left: 50%;z-index: -1;}#sk-container-id-8 div.sk-parallel-item {display: flex;flex-direction: column;z-index: 1;position: relative;background-color: white;}#sk-container-id-8 div.sk-parallel-item:first-child::after {align-self: flex-end;width: 50%;}#sk-container-id-8 div.sk-parallel-item:last-child::after {align-self: flex-start;width: 50%;}#sk-container-id-8 div.sk-parallel-item:only-child::after {width: 0;}#sk-container-id-8 div.sk-dashed-wrapped {border: 1px dashed gray;margin: 0 0.4em 0.5em 0.4em;box-sizing: border-box;padding-bottom: 0.4em;background-color: white;}#sk-container-id-8 div.sk-label label {font-family: monospace;font-weight: bold;display: inline-block;line-height: 1.2em;}#sk-container-id-8 div.sk-label-container {text-align: center;}#sk-container-id-8 div.sk-container {/* jupyter's `normalize.less` sets `[hidden] { display: none; }` but bootstrap.min.css set `[hidden] { display: none !important; }` so we also need the `!important` here to be able to override the default hidden behavior on the sphinx rendered scikit-learn.org. See: https://github.com/scikit-learn/scikit-learn/issues/21755 */display: inline-block !important;position: relative;}#sk-container-id-8 div.sk-text-repr-fallback {display: none;}</style><div id=\"sk-container-id-8\" class=\"sk-top-container\"><div class=\"sk-text-repr-fallback\"><pre>KNeighborsClassifier()</pre><b>In a Jupyter environment, please rerun this cell to show the HTML representation or trust the notebook. <br />On GitHub, the HTML representation is unable to render, please try loading this page with nbviewer.org.</b></div><div class=\"sk-container\" hidden><div class=\"sk-item\"><div class=\"sk-estimator sk-toggleable\"><input class=\"sk-toggleable__control sk-hidden--visually\" id=\"sk-estimator-id-10\" type=\"checkbox\" checked><label for=\"sk-estimator-id-10\" class=\"sk-toggleable__label sk-toggleable__label-arrow\">KNeighborsClassifier</label><div class=\"sk-toggleable__content\"><pre>KNeighborsClassifier()</pre></div></div></div></div></div>"
      ],
      "text/plain": [
       "KNeighborsClassifier()"
      ]
     },
     "execution_count": 79,
     "metadata": {},
     "output_type": "execute_result"
    }
   ],
   "source": [
    "knn.fit(X_train,y_train)"
   ]
  },
  {
   "cell_type": "code",
   "execution_count": 80,
   "id": "baf77bdb",
   "metadata": {},
   "outputs": [
    {
     "data": {
      "text/plain": [
       "0.8167441860465117"
      ]
     },
     "execution_count": 80,
     "metadata": {},
     "output_type": "execute_result"
    }
   ],
   "source": [
    "y_pred_knn = knn.predict(X_train)\n",
    "np.mean(y_train == y_pred_knn)"
   ]
  },
  {
   "cell_type": "markdown",
   "id": "86a9e9b9",
   "metadata": {},
   "source": [
    "## Validation Curve"
   ]
  },
  {
   "cell_type": "code",
   "execution_count": 81,
   "id": "ba9561ac",
   "metadata": {},
   "outputs": [
    {
     "data": {
      "text/plain": [
       "range(5, 31)"
      ]
     },
     "execution_count": 81,
     "metadata": {},
     "output_type": "execute_result"
    }
   ],
   "source": [
    "n_range = range(5,31)\n",
    "n_range"
   ]
  },
  {
   "cell_type": "code",
   "execution_count": 82,
   "id": "d69d9d5a",
   "metadata": {},
   "outputs": [],
   "source": [
    "train_scores, val_scores = validation_curve(\n",
    "                estimator=KNeighborsClassifier(), \n",
    "                X=X_train, \n",
    "                y=y_train, \n",
    "                param_name='n_neighbors', \n",
    "                param_range=n_range,\n",
    "                cv=5, n_jobs=-1)"
   ]
  },
  {
   "cell_type": "code",
   "execution_count": 83,
   "id": "ab9b9589",
   "metadata": {},
   "outputs": [],
   "source": [
    "mean_train_scores = train_scores.mean(axis=1)\n",
    "mean_val_scores = val_scores.mean(axis=1)"
   ]
  },
  {
   "cell_type": "code",
   "execution_count": 84,
   "id": "0259f1be",
   "metadata": {},
   "outputs": [
    {
     "data": {
      "image/png": "[encoded data removed]",
      "text/plain": [
       "<Figure size 640x480 with 1 Axes>"
      ]
     },
     "metadata": {},
     "output_type": "display_data"
    }
   ],
   "source": [
    "plt.plot(n_range,mean_train_scores, c='r', label='Training Accuracy')\n",
    "plt.plot(n_range,mean_val_scores, c='b', label='Validation Accuracy')\n",
    "plt.title('Depth Validation Curve for Linear SVM')\n",
    "plt.ylabel('Accuracy')\n",
    "plt.xlabel('Neighbors')\n",
    "plt.legend()\n",
    "plt.tight_layout()"
   ]
  },
  {
   "cell_type": "markdown",
   "id": "97310ecc",
   "metadata": {},
   "source": [
    "### Grid Search"
   ]
  },
  {
   "cell_type": "code",
   "execution_count": 85,
   "id": "c49469f3",
   "metadata": {},
   "outputs": [],
   "source": [
    "knn_grid = {'n_neighbors':n_range, 'weights': ('uniform', 'distance')}"
   ]
  },
  {
   "cell_type": "code",
   "execution_count": 86,
   "id": "935143af",
   "metadata": {},
   "outputs": [],
   "source": [
    "knn_gs = GridSearchCV(estimator=KNeighborsClassifier(), \n",
    "                  param_grid=knn_grid, \n",
    "                  scoring='accuracy', \n",
    "                  refit=True,\n",
    "                  cv=5,\n",
    "                  n_jobs=-1)"
   ]
  },
  {
   "cell_type": "code",
   "execution_count": 87,
   "id": "5a0999e6",
   "metadata": {},
   "outputs": [
    {
     "name": "stdout",
     "output_type": "stream",
     "text": [
      "Time Elapsed: 742.0790195465088 milliseconds\n"
     ]
    }
   ],
   "source": [
    "import time\n",
    "start = time.time()\n",
    "knn_gs.fit(X_train, y_train)\n",
    "end = time.time()\n",
    "print(f'Time Elapsed: {(end - start) * 1000} milliseconds')"
   ]
  },
  {
   "cell_type": "code",
   "execution_count": 88,
   "id": "13728726",
   "metadata": {},
   "outputs": [
    {
     "data": {
      "text/plain": [
       "{'n_neighbors': 19, 'weights': 'distance'}"
      ]
     },
     "execution_count": 88,
     "metadata": {},
     "output_type": "execute_result"
    }
   ],
   "source": [
    "knn_gs.best_params_"
   ]
  },
  {
   "cell_type": "code",
   "execution_count": 89,
   "id": "3f7cdc58",
   "metadata": {},
   "outputs": [
    {
     "data": {
      "text/plain": [
       "0.7283720930232558"
      ]
     },
     "execution_count": 89,
     "metadata": {},
     "output_type": "execute_result"
    }
   ],
   "source": [
    "knn_gs.best_score_"
   ]
  },
  {
   "cell_type": "code",
   "execution_count": 90,
   "id": "1d922765",
   "metadata": {},
   "outputs": [
    {
     "name": "stdout",
     "output_type": "stream",
     "text": [
      "{'n_neighbors': 19, 'weights': 'distance'} 0.7283720930232558\n",
      "{'n_neighbors': 27, 'weights': 'distance'} 0.7255813953488373\n",
      "{'n_neighbors': 25, 'weights': 'distance'} 0.7255813953488373\n",
      "{'n_neighbors': 18, 'weights': 'distance'} 0.7255813953488371\n",
      "{'n_neighbors': 26, 'weights': 'distance'} 0.7246511627906976\n",
      "{'n_neighbors': 10, 'weights': 'distance'} 0.7237209302325581\n",
      "{'n_neighbors': 8, 'weights': 'distance'} 0.7237209302325581\n",
      "{'n_neighbors': 14, 'weights': 'distance'} 0.723720930232558\n",
      "{'n_neighbors': 13, 'weights': 'distance'} 0.7227906976744185\n",
      "{'n_neighbors': 17, 'weights': 'distance'} 0.7227906976744185\n"
     ]
    }
   ],
   "source": [
    "knn_gs_results = knn_gs.cv_results_\n",
    "knn_gs_rank = knn_gs_results['rank_test_score']\n",
    "knn_gs_sorted_idx = np.argsort(knn_gs_rank)\n",
    "\n",
    "for i in knn_gs_sorted_idx[:10]:\n",
    "    print(knn_gs_results['params'][i], knn_gs_results['mean_test_score'][i])"
   ]
  },
  {
   "cell_type": "markdown",
   "id": "16999fa7",
   "metadata": {},
   "source": [
    "### Randomized Search"
   ]
  },
  {
   "cell_type": "code",
   "execution_count": 91,
   "id": "b8adcdb7",
   "metadata": {},
   "outputs": [],
   "source": [
    "import random\n",
    "weights = ['uniform', 'distance']\n",
    "knn_dist = {'n_neighbors':n_range, 'weights':weights }"
   ]
  },
  {
   "cell_type": "code",
   "execution_count": 92,
   "id": "01fa31f6",
   "metadata": {},
   "outputs": [],
   "source": [
    "knn_rs = RandomizedSearchCV(estimator=KNeighborsClassifier(),\n",
    "                            param_distributions=knn_dist, n_iter=100,\n",
    "                            scoring='accuracy',\n",
    "                            refit = True,\n",
    "                            cv=5,\n",
    "                            n_jobs=-1)"
   ]
  },
  {
   "cell_type": "code",
   "execution_count": 93,
   "id": "6b7fab89",
   "metadata": {},
   "outputs": [
    {
     "name": "stderr",
     "output_type": "stream",
     "text": [
      "C:\\Users\\marku\\anaconda3\\envs\\ai\\lib\\site-packages\\sklearn\\model_selection\\_search.py:306: UserWarning: The total space of parameters 52 is smaller than n_iter=100. Running 52 iterations. For exhaustive searches, use GridSearchCV.\n",
      "  warnings.warn(\n"
     ]
    },
    {
     "name": "stdout",
     "output_type": "stream",
     "text": [
      "Time Elapsed: 802.2260665893555 milliseconds\n"
     ]
    }
   ],
   "source": [
    "import time\n",
    "start = time.time()\n",
    "knn_rs.fit(X_train, y_train)\n",
    "end = time.time()\n",
    "print(f'Time Elapsed: {(end - start) * 1000} milliseconds')"
   ]
  },
  {
   "cell_type": "code",
   "execution_count": 94,
   "id": "9272df67",
   "metadata": {},
   "outputs": [
    {
     "name": "stdout",
     "output_type": "stream",
     "text": [
      "{'weights': 'distance', 'n_neighbors': 19} 0.7283720930232558\n",
      "{'weights': 'distance', 'n_neighbors': 27} 0.7255813953488373\n",
      "{'weights': 'distance', 'n_neighbors': 25} 0.7255813953488373\n",
      "{'weights': 'distance', 'n_neighbors': 18} 0.7255813953488371\n",
      "{'weights': 'distance', 'n_neighbors': 26} 0.7246511627906976\n",
      "{'weights': 'distance', 'n_neighbors': 10} 0.7237209302325581\n",
      "{'weights': 'distance', 'n_neighbors': 8} 0.7237209302325581\n",
      "{'weights': 'distance', 'n_neighbors': 14} 0.723720930232558\n",
      "{'weights': 'distance', 'n_neighbors': 13} 0.7227906976744185\n",
      "{'weights': 'distance', 'n_neighbors': 17} 0.7227906976744185\n"
     ]
    }
   ],
   "source": [
    "knn_rs_results = knn_rs.cv_results_\n",
    "knn_rs_rank = knn_rs_results['rank_test_score']\n",
    "knn_rs_sorted_idx = np.argsort(knn_rs_rank)\n",
    "\n",
    "for i in knn_rs_sorted_idx[:10]:\n",
    "    print(knn_rs_results['params'][i], knn_rs_results['mean_test_score'][i])"
   ]
  },
  {
   "cell_type": "markdown",
   "id": "bf961912",
   "metadata": {},
   "source": [
    "### Learning Curve"
   ]
  },
  {
   "cell_type": "code",
   "execution_count": 95,
   "id": "f23d340e",
   "metadata": {},
   "outputs": [
    {
     "data": {
      "text/html": [
       "<style>#sk-container-id-9 {color: black;background-color: white;}#sk-container-id-9 pre{padding: 0;}#sk-container-id-9 div.sk-toggleable {background-color: white;}#sk-container-id-9 label.sk-toggleable__label {cursor: pointer;display: block;width: 100%;margin-bottom: 0;padding: 0.3em;box-sizing: border-box;text-align: center;}#sk-container-id-9 label.sk-toggleable__label-arrow:before {content: \"▸\";float: left;margin-right: 0.25em;color: #696969;}#sk-container-id-9 label.sk-toggleable__label-arrow:hover:before {color: black;}#sk-container-id-9 div.sk-estimator:hover label.sk-toggleable__label-arrow:before {color: black;}#sk-container-id-9 div.sk-toggleable__content {max-height: 0;max-width: 0;overflow: hidden;text-align: left;background-color: #f0f8ff;}#sk-container-id-9 div.sk-toggleable__content pre {margin: 0.2em;color: black;border-radius: 0.25em;background-color: #f0f8ff;}#sk-container-id-9 input.sk-toggleable__control:checked~div.sk-toggleable__content {max-height: 200px;max-width: 100%;overflow: auto;}#sk-container-id-9 input.sk-toggleable__control:checked~label.sk-toggleable__label-arrow:before {content: \"▾\";}#sk-container-id-9 div.sk-estimator input.sk-toggleable__control:checked~label.sk-toggleable__label {background-color: #d4ebff;}#sk-container-id-9 div.sk-label input.sk-toggleable__control:checked~label.sk-toggleable__label {background-color: #d4ebff;}#sk-container-id-9 input.sk-hidden--visually {border: 0;clip: rect(1px 1px 1px 1px);clip: rect(1px, 1px, 1px, 1px);height: 1px;margin: -1px;overflow: hidden;padding: 0;position: absolute;width: 1px;}#sk-container-id-9 div.sk-estimator {font-family: monospace;background-color: #f0f8ff;border: 1px dotted black;border-radius: 0.25em;box-sizing: border-box;margin-bottom: 0.5em;}#sk-container-id-9 div.sk-estimator:hover {background-color: #d4ebff;}#sk-container-id-9 div.sk-parallel-item::after {content: \"\";width: 100%;border-bottom: 1px solid gray;flex-grow: 1;}#sk-container-id-9 div.sk-label:hover label.sk-toggleable__label {background-color: #d4ebff;}#sk-container-id-9 div.sk-serial::before {content: \"\";position: absolute;border-left: 1px solid gray;box-sizing: border-box;top: 0;bottom: 0;left: 50%;z-index: 0;}#sk-container-id-9 div.sk-serial {display: flex;flex-direction: column;align-items: center;background-color: white;padding-right: 0.2em;padding-left: 0.2em;position: relative;}#sk-container-id-9 div.sk-item {position: relative;z-index: 1;}#sk-container-id-9 div.sk-parallel {display: flex;align-items: stretch;justify-content: center;background-color: white;position: relative;}#sk-container-id-9 div.sk-item::before, #sk-container-id-9 div.sk-parallel-item::before {content: \"\";position: absolute;border-left: 1px solid gray;box-sizing: border-box;top: 0;bottom: 0;left: 50%;z-index: -1;}#sk-container-id-9 div.sk-parallel-item {display: flex;flex-direction: column;z-index: 1;position: relative;background-color: white;}#sk-container-id-9 div.sk-parallel-item:first-child::after {align-self: flex-end;width: 50%;}#sk-container-id-9 div.sk-parallel-item:last-child::after {align-self: flex-start;width: 50%;}#sk-container-id-9 div.sk-parallel-item:only-child::after {width: 0;}#sk-container-id-9 div.sk-dashed-wrapped {border: 1px dashed gray;margin: 0 0.4em 0.5em 0.4em;box-sizing: border-box;padding-bottom: 0.4em;background-color: white;}#sk-container-id-9 div.sk-label label {font-family: monospace;font-weight: bold;display: inline-block;line-height: 1.2em;}#sk-container-id-9 div.sk-label-container {text-align: center;}#sk-container-id-9 div.sk-container {/* jupyter's `normalize.less` sets `[hidden] { display: none; }` but bootstrap.min.css set `[hidden] { display: none !important; }` so we also need the `!important` here to be able to override the default hidden behavior on the sphinx rendered scikit-learn.org. See: https://github.com/scikit-learn/scikit-learn/issues/21755 */display: inline-block !important;position: relative;}#sk-container-id-9 div.sk-text-repr-fallback {display: none;}</style><div id=\"sk-container-id-9\" class=\"sk-top-container\"><div class=\"sk-text-repr-fallback\"><pre>KNeighborsClassifier(n_neighbors=19, weights=&#x27;distance&#x27;)</pre><b>In a Jupyter environment, please rerun this cell to show the HTML representation or trust the notebook. <br />On GitHub, the HTML representation is unable to render, please try loading this page with nbviewer.org.</b></div><div class=\"sk-container\" hidden><div class=\"sk-item\"><div class=\"sk-estimator sk-toggleable\"><input class=\"sk-toggleable__control sk-hidden--visually\" id=\"sk-estimator-id-11\" type=\"checkbox\" checked><label for=\"sk-estimator-id-11\" class=\"sk-toggleable__label sk-toggleable__label-arrow\">KNeighborsClassifier</label><div class=\"sk-toggleable__content\"><pre>KNeighborsClassifier(n_neighbors=19, weights=&#x27;distance&#x27;)</pre></div></div></div></div></div>"
      ],
      "text/plain": [
       "KNeighborsClassifier(n_neighbors=19, weights='distance')"
      ]
     },
     "execution_count": 95,
     "metadata": {},
     "output_type": "execute_result"
    }
   ],
   "source": [
    "best_knn = knn_rs.best_estimator_ if knn_rs.best_score_ > knn_gs.best_score_ else knn_gs.best_estimator_\n",
    "best_knn"
   ]
  },
  {
   "cell_type": "code",
   "execution_count": 96,
   "id": "f8396c32",
   "metadata": {},
   "outputs": [],
   "source": [
    "train_sizes, train_scores, val_scores =\\\n",
    "                learning_curve(estimator=best_knn,\n",
    "                               X=X_train,\n",
    "                               y=y_train,\n",
    "                               train_sizes=np.linspace(0.1, 1.0, 10),\n",
    "                               cv=5,\n",
    "                               n_jobs=1)"
   ]
  },
  {
   "cell_type": "code",
   "execution_count": 97,
   "id": "0d2e0038",
   "metadata": {},
   "outputs": [],
   "source": [
    "mean_train_scores = train_scores.mean(axis=1)\n",
    "mean_val_scores = val_scores.mean(axis=1)"
   ]
  },
  {
   "cell_type": "code",
   "execution_count": 98,
   "id": "e0948cb0",
   "metadata": {},
   "outputs": [
    {
     "data": {
      "image/png": "[encoded data removed]",
      "text/plain": [
       "<Figure size 640x480 with 1 Axes>"
      ]
     },
     "metadata": {},
     "output_type": "display_data"
    }
   ],
   "source": [
    "plt.plot(train_sizes, mean_train_scores, c='r', label='Training Accuracy')\n",
    "plt.plot(train_sizes, mean_val_scores, c='b', label='Validation Accuracy')\n",
    "plt.title('Learning Curve for Selected KNN Model')\n",
    "plt.xlabel('Size of training set')\n",
    "plt.ylabel('Accuracy')\n",
    "plt.legend()\n",
    "plt.tight_layout()"
   ]
  },
  {
   "cell_type": "markdown",
   "id": "a8d61093",
   "metadata": {},
   "source": [
    "### Test"
   ]
  },
  {
   "cell_type": "code",
   "execution_count": 99,
   "id": "92266320",
   "metadata": {},
   "outputs": [
    {
     "data": {
      "text/plain": [
       "0.7662337662337663"
      ]
     },
     "execution_count": 99,
     "metadata": {},
     "output_type": "execute_result"
    }
   ],
   "source": [
    "y_test_pred_knn = best_knn.predict(X_test)\n",
    "np.mean(y_test == y_test_pred_knn)"
   ]
  },
  {
   "cell_type": "markdown",
   "id": "2f5ed244",
   "metadata": {},
   "source": [
    "## Random Forest"
   ]
  },
  {
   "cell_type": "code",
   "execution_count": 100,
   "id": "b22c094a",
   "metadata": {},
   "outputs": [],
   "source": [
    "from sklearn.ensemble import RandomForestClassifier"
   ]
  },
  {
   "cell_type": "code",
   "execution_count": 101,
   "id": "7e5fb8bc",
   "metadata": {},
   "outputs": [
    {
     "data": {
      "text/html": [
       "<style>#sk-container-id-10 {color: black;background-color: white;}#sk-container-id-10 pre{padding: 0;}#sk-container-id-10 div.sk-toggleable {background-color: white;}#sk-container-id-10 label.sk-toggleable__label {cursor: pointer;display: block;width: 100%;margin-bottom: 0;padding: 0.3em;box-sizing: border-box;text-align: center;}#sk-container-id-10 label.sk-toggleable__label-arrow:before {content: \"▸\";float: left;margin-right: 0.25em;color: #696969;}#sk-container-id-10 label.sk-toggleable__label-arrow:hover:before {color: black;}#sk-container-id-10 div.sk-estimator:hover label.sk-toggleable__label-arrow:before {color: black;}#sk-container-id-10 div.sk-toggleable__content {max-height: 0;max-width: 0;overflow: hidden;text-align: left;background-color: #f0f8ff;}#sk-container-id-10 div.sk-toggleable__content pre {margin: 0.2em;color: black;border-radius: 0.25em;background-color: #f0f8ff;}#sk-container-id-10 input.sk-toggleable__control:checked~div.sk-toggleable__content {max-height: 200px;max-width: 100%;overflow: auto;}#sk-container-id-10 input.sk-toggleable__control:checked~label.sk-toggleable__label-arrow:before {content: \"▾\";}#sk-container-id-10 div.sk-estimator input.sk-toggleable__control:checked~label.sk-toggleable__label {background-color: #d4ebff;}#sk-container-id-10 div.sk-label input.sk-toggleable__control:checked~label.sk-toggleable__label {background-color: #d4ebff;}#sk-container-id-10 input.sk-hidden--visually {border: 0;clip: rect(1px 1px 1px 1px);clip: rect(1px, 1px, 1px, 1px);height: 1px;margin: -1px;overflow: hidden;padding: 0;position: absolute;width: 1px;}#sk-container-id-10 div.sk-estimator {font-family: monospace;background-color: #f0f8ff;border: 1px dotted black;border-radius: 0.25em;box-sizing: border-box;margin-bottom: 0.5em;}#sk-container-id-10 div.sk-estimator:hover {background-color: #d4ebff;}#sk-container-id-10 div.sk-parallel-item::after {content: \"\";width: 100%;border-bottom: 1px solid gray;flex-grow: 1;}#sk-container-id-10 div.sk-label:hover label.sk-toggleable__label {background-color: #d4ebff;}#sk-container-id-10 div.sk-serial::before {content: \"\";position: absolute;border-left: 1px solid gray;box-sizing: border-box;top: 0;bottom: 0;left: 50%;z-index: 0;}#sk-container-id-10 div.sk-serial {display: flex;flex-direction: column;align-items: center;background-color: white;padding-right: 0.2em;padding-left: 0.2em;position: relative;}#sk-container-id-10 div.sk-item {position: relative;z-index: 1;}#sk-container-id-10 div.sk-parallel {display: flex;align-items: stretch;justify-content: center;background-color: white;position: relative;}#sk-container-id-10 div.sk-item::before, #sk-container-id-10 div.sk-parallel-item::before {content: \"\";position: absolute;border-left: 1px solid gray;box-sizing: border-box;top: 0;bottom: 0;left: 50%;z-index: -1;}#sk-container-id-10 div.sk-parallel-item {display: flex;flex-direction: column;z-index: 1;position: relative;background-color: white;}#sk-container-id-10 div.sk-parallel-item:first-child::after {align-self: flex-end;width: 50%;}#sk-container-id-10 div.sk-parallel-item:last-child::after {align-self: flex-start;width: 50%;}#sk-container-id-10 div.sk-parallel-item:only-child::after {width: 0;}#sk-container-id-10 div.sk-dashed-wrapped {border: 1px dashed gray;margin: 0 0.4em 0.5em 0.4em;box-sizing: border-box;padding-bottom: 0.4em;background-color: white;}#sk-container-id-10 div.sk-label label {font-family: monospace;font-weight: bold;display: inline-block;line-height: 1.2em;}#sk-container-id-10 div.sk-label-container {text-align: center;}#sk-container-id-10 div.sk-container {/* jupyter's `normalize.less` sets `[hidden] { display: none; }` but bootstrap.min.css set `[hidden] { display: none !important; }` so we also need the `!important` here to be able to override the default hidden behavior on the sphinx rendered scikit-learn.org. See: https://github.com/scikit-learn/scikit-learn/issues/21755 */display: inline-block !important;position: relative;}#sk-container-id-10 div.sk-text-repr-fallback {display: none;}</style><div id=\"sk-container-id-10\" class=\"sk-top-container\"><div class=\"sk-text-repr-fallback\"><pre>RandomForestClassifier(n_estimators=25, n_jobs=2)</pre><b>In a Jupyter environment, please rerun this cell to show the HTML representation or trust the notebook. <br />On GitHub, the HTML representation is unable to render, please try loading this page with nbviewer.org.</b></div><div class=\"sk-container\" hidden><div class=\"sk-item\"><div class=\"sk-estimator sk-toggleable\"><input class=\"sk-toggleable__control sk-hidden--visually\" id=\"sk-estimator-id-12\" type=\"checkbox\" checked><label for=\"sk-estimator-id-12\" class=\"sk-toggleable__label sk-toggleable__label-arrow\">RandomForestClassifier</label><div class=\"sk-toggleable__content\"><pre>RandomForestClassifier(n_estimators=25, n_jobs=2)</pre></div></div></div></div></div>"
      ],
      "text/plain": [
       "RandomForestClassifier(n_estimators=25, n_jobs=2)"
      ]
     },
     "execution_count": 101,
     "metadata": {},
     "output_type": "execute_result"
    }
   ],
   "source": [
    "rf = RandomForestClassifier(criterion='gini',n_estimators=25,n_jobs=2)\n",
    "rf.fit(X_train, y_train)"
   ]
  },
  {
   "cell_type": "markdown",
   "id": "ebf73e95",
   "metadata": {},
   "source": [
    "### Train the model"
   ]
  },
  {
   "cell_type": "code",
   "execution_count": 102,
   "id": "8ffef0c1",
   "metadata": {},
   "outputs": [
    {
     "data": {
      "text/plain": [
       "1.0"
      ]
     },
     "execution_count": 102,
     "metadata": {},
     "output_type": "execute_result"
    }
   ],
   "source": [
    "y_train_pred_rf = rf.predict(X_train)\n",
    "np.mean(y_train == y_train_pred_rf)"
   ]
  },
  {
   "cell_type": "markdown",
   "id": "5ca97d2e",
   "metadata": {},
   "source": [
    "## Depth Validation Curve"
   ]
  },
  {
   "cell_type": "code",
   "execution_count": 103,
   "id": "11213653",
   "metadata": {},
   "outputs": [],
   "source": [
    "depth_range = np.arange(5, 31)"
   ]
  },
  {
   "cell_type": "code",
   "execution_count": 104,
   "id": "55d931f7",
   "metadata": {},
   "outputs": [],
   "source": [
    "train_scores, val_scores = validation_curve(\n",
    "                estimator=RandomForestClassifier(), \n",
    "                X=X_train, \n",
    "                y=y_train, \n",
    "                param_name='max_depth', \n",
    "                param_range=depth_range,\n",
    "                cv=5, n_jobs=-1)"
   ]
  },
  {
   "cell_type": "code",
   "execution_count": 105,
   "id": "92b9e237",
   "metadata": {},
   "outputs": [],
   "source": [
    "mean_train_scores = train_scores.mean(axis=1)\n",
    "mean_val_scores = val_scores.mean(axis=1)"
   ]
  },
  {
   "cell_type": "code",
   "execution_count": 106,
   "id": "4ed99546",
   "metadata": {},
   "outputs": [
    {
     "data": {
      "image/png": "[encoded data removed]",
      "text/plain": [
       "<Figure size 640x480 with 1 Axes>"
      ]
     },
     "metadata": {},
     "output_type": "display_data"
    }
   ],
   "source": [
    "plt.plot(depth_range,mean_train_scores, c='r', label='Training Accuracy')\n",
    "plt.plot(depth_range,mean_val_scores, c='b', label='Validation Accuracy')\n",
    "plt.title('Depth Validation Curve for Random Forest')\n",
    "plt.xlabel('Max Depth')\n",
    "plt.ylabel('Accuracy')\n",
    "plt.legend()\n",
    "plt.tight_layout()"
   ]
  },
  {
   "cell_type": "markdown",
   "id": "06a306fc",
   "metadata": {},
   "source": [
    "## n_estimators Validation Curves"
   ]
  },
  {
   "cell_type": "code",
   "execution_count": 107,
   "id": "fceac81c",
   "metadata": {},
   "outputs": [],
   "source": [
    "n_trees_range = np.arange(10,210,10)"
   ]
  },
  {
   "cell_type": "code",
   "execution_count": 108,
   "id": "e2853579",
   "metadata": {},
   "outputs": [],
   "source": [
    "train_scores, val_scores = validation_curve(\n",
    "                estimator=RandomForestClassifier(), \n",
    "                X=X_train, \n",
    "                y=y_train, \n",
    "                param_name='n_estimators', \n",
    "                param_range=n_trees_range,\n",
    "                cv=5, n_jobs=-1)"
   ]
  },
  {
   "cell_type": "code",
   "execution_count": 109,
   "id": "d840cd4d",
   "metadata": {},
   "outputs": [],
   "source": [
    "mean_train_scores = train_scores.mean(axis=1)\n",
    "mean_val_scores = val_scores.mean(axis=1)"
   ]
  },
  {
   "cell_type": "code",
   "execution_count": null,
   "id": "2c116379",
   "metadata": {},
   "outputs": [],
   "source": [
    "plt.plot(n_trees_range,mean_train_scores, c='r', label='Training Accuracy')\n",
    "plt.plot(n_trees_range,mean_val_scores, c='b', label='Validation Accuracy')\n",
    "plt.title('n_estimators Validation Curve for Random Forest')\n",
    "plt.xlabel('Number of Trees')\n",
    "plt.ylabel('Accuracy')\n",
    "plt.legend()\n",
    "plt.tight_layout()"
   ]
  },
  {
   "cell_type": "code",
   "execution_count": null,
   "id": "bc866f46",
   "metadata": {},
   "outputs": [],
   "source": []
  },
  {
   "cell_type": "markdown",
   "id": "6842c1d7",
   "metadata": {},
   "source": [
    "### Grid Search"
   ]
  },
  {
   "cell_type": "code",
   "execution_count": 111,
   "id": "89ea576f",
   "metadata": {},
   "outputs": [
    {
     "data": {
      "text/plain": [
       "{'max_depth': array([ 5,  6,  7,  8,  9, 10, 11, 12, 13, 14, 15, 16, 17, 18, 19, 20, 21,\n",
       "        22, 23, 24, 25, 26, 27, 28, 29, 30]),\n",
       " 'n_estimators': array([ 30,  40,  50,  60,  70,  80,  90, 100, 110, 120, 130, 140, 150,\n",
       "        160, 170, 180, 190])}"
      ]
     },
     "execution_count": 111,
     "metadata": {},
     "output_type": "execute_result"
    }
   ],
   "source": [
    "depth_range = np.arange(5, 31)\n",
    "n_trees_range = np.arange(30,200,10)\n",
    "rf_grid = {'max_depth': depth_range, 'n_estimators':n_trees_range}\n",
    "rf_grid"
   ]
  },
  {
   "cell_type": "code",
   "execution_count": 112,
   "id": "1e09d654",
   "metadata": {},
   "outputs": [],
   "source": [
    "rf_gs = GridSearchCV(estimator=RandomForestClassifier(), \n",
    "                  param_grid=rf_grid, \n",
    "                  scoring='accuracy', \n",
    "                  refit=True,\n",
    "                  cv=5,\n",
    "                  n_jobs=-1)"
   ]
  },
  {
   "cell_type": "code",
   "execution_count": 113,
   "id": "113d0312",
   "metadata": {},
   "outputs": [
    {
     "name": "stdout",
     "output_type": "stream",
     "text": [
      "Time Elapsed: 190512.75205612183 milliseconds\n"
     ]
    }
   ],
   "source": [
    "ㅤstart = time.time()\n",
    "ㅤrf_gs.fit(X_train, y_train)\n",
    "ㅤend = time.time()\n",
    "ㅤprint(f'Time Elapsed: {(end - start) * 1000} milliseconds')"
   ]
  },
  {
   "cell_type": "code",
   "execution_count": 114,
   "id": "7cb70f9a",
   "metadata": {},
   "outputs": [
    {
     "data": {
      "text/plain": [
       "{'max_depth': 19, 'n_estimators': 160}"
      ]
     },
     "execution_count": 114,
     "metadata": {},
     "output_type": "execute_result"
    }
   ],
   "source": [
    "ㅤrf_gs.best_params_"
   ]
  },
  {
   "cell_type": "code",
   "execution_count": 115,
   "id": "0f6d4ee1",
   "metadata": {},
   "outputs": [
    {
     "data": {
      "text/plain": [
       "0.8548837209302327"
      ]
     },
     "execution_count": 115,
     "metadata": {},
     "output_type": "execute_result"
    }
   ],
   "source": [
    "ㅤrf_gs.best_score_"
   ]
  },
  {
   "cell_type": "code",
   "execution_count": 116,
   "id": "bbf48a55",
   "metadata": {},
   "outputs": [
    {
     "data": {
      "text/html": [
       "<style>#sk-container-id-11 {color: black;background-color: white;}#sk-container-id-11 pre{padding: 0;}#sk-container-id-11 div.sk-toggleable {background-color: white;}#sk-container-id-11 label.sk-toggleable__label {cursor: pointer;display: block;width: 100%;margin-bottom: 0;padding: 0.3em;box-sizing: border-box;text-align: center;}#sk-container-id-11 label.sk-toggleable__label-arrow:before {content: \"▸\";float: left;margin-right: 0.25em;color: #696969;}#sk-container-id-11 label.sk-toggleable__label-arrow:hover:before {color: black;}#sk-container-id-11 div.sk-estimator:hover label.sk-toggleable__label-arrow:before {color: black;}#sk-container-id-11 div.sk-toggleable__content {max-height: 0;max-width: 0;overflow: hidden;text-align: left;background-color: #f0f8ff;}#sk-container-id-11 div.sk-toggleable__content pre {margin: 0.2em;color: black;border-radius: 0.25em;background-color: #f0f8ff;}#sk-container-id-11 input.sk-toggleable__control:checked~div.sk-toggleable__content {max-height: 200px;max-width: 100%;overflow: auto;}#sk-container-id-11 input.sk-toggleable__control:checked~label.sk-toggleable__label-arrow:before {content: \"▾\";}#sk-container-id-11 div.sk-estimator input.sk-toggleable__control:checked~label.sk-toggleable__label {background-color: #d4ebff;}#sk-container-id-11 div.sk-label input.sk-toggleable__control:checked~label.sk-toggleable__label {background-color: #d4ebff;}#sk-container-id-11 input.sk-hidden--visually {border: 0;clip: rect(1px 1px 1px 1px);clip: rect(1px, 1px, 1px, 1px);height: 1px;margin: -1px;overflow: hidden;padding: 0;position: absolute;width: 1px;}#sk-container-id-11 div.sk-estimator {font-family: monospace;background-color: #f0f8ff;border: 1px dotted black;border-radius: 0.25em;box-sizing: border-box;margin-bottom: 0.5em;}#sk-container-id-11 div.sk-estimator:hover {background-color: #d4ebff;}#sk-container-id-11 div.sk-parallel-item::after {content: \"\";width: 100%;border-bottom: 1px solid gray;flex-grow: 1;}#sk-container-id-11 div.sk-label:hover label.sk-toggleable__label {background-color: #d4ebff;}#sk-container-id-11 div.sk-serial::before {content: \"\";position: absolute;border-left: 1px solid gray;box-sizing: border-box;top: 0;bottom: 0;left: 50%;z-index: 0;}#sk-container-id-11 div.sk-serial {display: flex;flex-direction: column;align-items: center;background-color: white;padding-right: 0.2em;padding-left: 0.2em;position: relative;}#sk-container-id-11 div.sk-item {position: relative;z-index: 1;}#sk-container-id-11 div.sk-parallel {display: flex;align-items: stretch;justify-content: center;background-color: white;position: relative;}#sk-container-id-11 div.sk-item::before, #sk-container-id-11 div.sk-parallel-item::before {content: \"\";position: absolute;border-left: 1px solid gray;box-sizing: border-box;top: 0;bottom: 0;left: 50%;z-index: -1;}#sk-container-id-11 div.sk-parallel-item {display: flex;flex-direction: column;z-index: 1;position: relative;background-color: white;}#sk-container-id-11 div.sk-parallel-item:first-child::after {align-self: flex-end;width: 50%;}#sk-container-id-11 div.sk-parallel-item:last-child::after {align-self: flex-start;width: 50%;}#sk-container-id-11 div.sk-parallel-item:only-child::after {width: 0;}#sk-container-id-11 div.sk-dashed-wrapped {border: 1px dashed gray;margin: 0 0.4em 0.5em 0.4em;box-sizing: border-box;padding-bottom: 0.4em;background-color: white;}#sk-container-id-11 div.sk-label label {font-family: monospace;font-weight: bold;display: inline-block;line-height: 1.2em;}#sk-container-id-11 div.sk-label-container {text-align: center;}#sk-container-id-11 div.sk-container {/* jupyter's `normalize.less` sets `[hidden] { display: none; }` but bootstrap.min.css set `[hidden] { display: none !important; }` so we also need the `!important` here to be able to override the default hidden behavior on the sphinx rendered scikit-learn.org. See: https://github.com/scikit-learn/scikit-learn/issues/21755 */display: inline-block !important;position: relative;}#sk-container-id-11 div.sk-text-repr-fallback {display: none;}</style><div id=\"sk-container-id-11\" class=\"sk-top-container\"><div class=\"sk-text-repr-fallback\"><pre>RandomForestClassifier(max_depth=19, n_estimators=160)</pre><b>In a Jupyter environment, please rerun this cell to show the HTML representation or trust the notebook. <br />On GitHub, the HTML representation is unable to render, please try loading this page with nbviewer.org.</b></div><div class=\"sk-container\" hidden><div class=\"sk-item\"><div class=\"sk-estimator sk-toggleable\"><input class=\"sk-toggleable__control sk-hidden--visually\" id=\"sk-estimator-id-13\" type=\"checkbox\" checked><label for=\"sk-estimator-id-13\" class=\"sk-toggleable__label sk-toggleable__label-arrow\">RandomForestClassifier</label><div class=\"sk-toggleable__content\"><pre>RandomForestClassifier(max_depth=19, n_estimators=160)</pre></div></div></div></div></div>"
      ],
      "text/plain": [
       "RandomForestClassifier(max_depth=19, n_estimators=160)"
      ]
     },
     "execution_count": 116,
     "metadata": {},
     "output_type": "execute_result"
    }
   ],
   "source": [
    "ㅤbest_rf = rf_gs.best_estimator_\n",
    "ㅤbest_rf"
   ]
  },
  {
   "cell_type": "markdown",
   "id": "036c1a45",
   "metadata": {},
   "source": [
    "### Randomized Search"
   ]
  },
  {
   "cell_type": "code",
   "execution_count": 117,
   "id": "d472f1b3",
   "metadata": {},
   "outputs": [],
   "source": [
    "ㅤrf_dist = {'n_estimators': np.arange(1, 101)}"
   ]
  },
  {
   "cell_type": "code",
   "execution_count": 118,
   "id": "92590391",
   "metadata": {},
   "outputs": [],
   "source": [
    "ㅤrf_rs = RandomizedSearchCV(estimator=RandomForestClassifier(criterion='gini',n_estimators=25,n_jobs=2),\n",
    "                                                    param_distributions=rf_dist, n_iter=100,\n",
    "                                                    scoring='accuracy',\n",
    "                                                    refit = True,\n",
    "                                                    cv=5,\n",
    "                                                    n_jobs=-1)"
   ]
  },
  {
   "cell_type": "code",
   "execution_count": 119,
   "id": "07b324f1",
   "metadata": {},
   "outputs": [
    {
     "name": "stdout",
     "output_type": "stream",
     "text": [
      "Time Elapsed: 22447.037935256958 milliseconds\n"
     ]
    }
   ],
   "source": [
    "ㅤstart = time.time()\n",
    "ㅤrf_rs.fit(X_train, y_train)\n",
    "ㅤend = time.time()\n",
    "ㅤprint(f'Time Elapsed: {(end - start) * 1000} milliseconds')"
   ]
  },
  {
   "cell_type": "code",
   "execution_count": 120,
   "id": "333d4f7e",
   "metadata": {},
   "outputs": [
    {
     "name": "stdout",
     "output_type": "stream",
     "text": [
      "{'n_estimators': 45} 0.8520930232558139\n",
      "{'n_estimators': 66} 0.8520930232558139\n",
      "{'n_estimators': 68} 0.8502325581395349\n",
      "{'n_estimators': 90} 0.8502325581395349\n",
      "{'n_estimators': 58} 0.8502325581395347\n",
      "{'n_estimators': 99} 0.8493023255813954\n",
      "{'n_estimators': 88} 0.8493023255813954\n",
      "{'n_estimators': 78} 0.8493023255813954\n",
      "{'n_estimators': 57} 0.8493023255813952\n",
      "{'n_estimators': 86} 0.8483720930232559\n"
     ]
    }
   ],
   "source": [
    "ㅤrf_rs_results = rf_rs.cv_results_\n",
    "ㅤrf_rs_rank = rf_rs_results['rank_test_score']\n",
    "ㅤrf_rs_sorted_idx = np.argsort(rf_rs_rank)\n",
    "\n",
    "ㅤfor i in rf_rs_sorted_idx[:10]:\n",
    "    print(rf_rs_results['params'][i], rf_rs_results['mean_test_score'][i])"
   ]
  },
  {
   "cell_type": "markdown",
   "id": "0d9d113a",
   "metadata": {},
   "source": [
    "### Learning Curve"
   ]
  },
  {
   "cell_type": "code",
   "execution_count": 121,
   "id": "b85160fb",
   "metadata": {},
   "outputs": [
    {
     "data": {
      "text/html": [
       "<style>#sk-container-id-12 {color: black;background-color: white;}#sk-container-id-12 pre{padding: 0;}#sk-container-id-12 div.sk-toggleable {background-color: white;}#sk-container-id-12 label.sk-toggleable__label {cursor: pointer;display: block;width: 100%;margin-bottom: 0;padding: 0.3em;box-sizing: border-box;text-align: center;}#sk-container-id-12 label.sk-toggleable__label-arrow:before {content: \"▸\";float: left;margin-right: 0.25em;color: #696969;}#sk-container-id-12 label.sk-toggleable__label-arrow:hover:before {color: black;}#sk-container-id-12 div.sk-estimator:hover label.sk-toggleable__label-arrow:before {color: black;}#sk-container-id-12 div.sk-toggleable__content {max-height: 0;max-width: 0;overflow: hidden;text-align: left;background-color: #f0f8ff;}#sk-container-id-12 div.sk-toggleable__content pre {margin: 0.2em;color: black;border-radius: 0.25em;background-color: #f0f8ff;}#sk-container-id-12 input.sk-toggleable__control:checked~div.sk-toggleable__content {max-height: 200px;max-width: 100%;overflow: auto;}#sk-container-id-12 input.sk-toggleable__control:checked~label.sk-toggleable__label-arrow:before {content: \"▾\";}#sk-container-id-12 div.sk-estimator input.sk-toggleable__control:checked~label.sk-toggleable__label {background-color: #d4ebff;}#sk-container-id-12 div.sk-label input.sk-toggleable__control:checked~label.sk-toggleable__label {background-color: #d4ebff;}#sk-container-id-12 input.sk-hidden--visually {border: 0;clip: rect(1px 1px 1px 1px);clip: rect(1px, 1px, 1px, 1px);height: 1px;margin: -1px;overflow: hidden;padding: 0;position: absolute;width: 1px;}#sk-container-id-12 div.sk-estimator {font-family: monospace;background-color: #f0f8ff;border: 1px dotted black;border-radius: 0.25em;box-sizing: border-box;margin-bottom: 0.5em;}#sk-container-id-12 div.sk-estimator:hover {background-color: #d4ebff;}#sk-container-id-12 div.sk-parallel-item::after {content: \"\";width: 100%;border-bottom: 1px solid gray;flex-grow: 1;}#sk-container-id-12 div.sk-label:hover label.sk-toggleable__label {background-color: #d4ebff;}#sk-container-id-12 div.sk-serial::before {content: \"\";position: absolute;border-left: 1px solid gray;box-sizing: border-box;top: 0;bottom: 0;left: 50%;z-index: 0;}#sk-container-id-12 div.sk-serial {display: flex;flex-direction: column;align-items: center;background-color: white;padding-right: 0.2em;padding-left: 0.2em;position: relative;}#sk-container-id-12 div.sk-item {position: relative;z-index: 1;}#sk-container-id-12 div.sk-parallel {display: flex;align-items: stretch;justify-content: center;background-color: white;position: relative;}#sk-container-id-12 div.sk-item::before, #sk-container-id-12 div.sk-parallel-item::before {content: \"\";position: absolute;border-left: 1px solid gray;box-sizing: border-box;top: 0;bottom: 0;left: 50%;z-index: -1;}#sk-container-id-12 div.sk-parallel-item {display: flex;flex-direction: column;z-index: 1;position: relative;background-color: white;}#sk-container-id-12 div.sk-parallel-item:first-child::after {align-self: flex-end;width: 50%;}#sk-container-id-12 div.sk-parallel-item:last-child::after {align-self: flex-start;width: 50%;}#sk-container-id-12 div.sk-parallel-item:only-child::after {width: 0;}#sk-container-id-12 div.sk-dashed-wrapped {border: 1px dashed gray;margin: 0 0.4em 0.5em 0.4em;box-sizing: border-box;padding-bottom: 0.4em;background-color: white;}#sk-container-id-12 div.sk-label label {font-family: monospace;font-weight: bold;display: inline-block;line-height: 1.2em;}#sk-container-id-12 div.sk-label-container {text-align: center;}#sk-container-id-12 div.sk-container {/* jupyter's `normalize.less` sets `[hidden] { display: none; }` but bootstrap.min.css set `[hidden] { display: none !important; }` so we also need the `!important` here to be able to override the default hidden behavior on the sphinx rendered scikit-learn.org. See: https://github.com/scikit-learn/scikit-learn/issues/21755 */display: inline-block !important;position: relative;}#sk-container-id-12 div.sk-text-repr-fallback {display: none;}</style><div id=\"sk-container-id-12\" class=\"sk-top-container\"><div class=\"sk-text-repr-fallback\"><pre>RandomForestClassifier(max_depth=19, n_estimators=160)</pre><b>In a Jupyter environment, please rerun this cell to show the HTML representation or trust the notebook. <br />On GitHub, the HTML representation is unable to render, please try loading this page with nbviewer.org.</b></div><div class=\"sk-container\" hidden><div class=\"sk-item\"><div class=\"sk-estimator sk-toggleable\"><input class=\"sk-toggleable__control sk-hidden--visually\" id=\"sk-estimator-id-14\" type=\"checkbox\" checked><label for=\"sk-estimator-id-14\" class=\"sk-toggleable__label sk-toggleable__label-arrow\">RandomForestClassifier</label><div class=\"sk-toggleable__content\"><pre>RandomForestClassifier(max_depth=19, n_estimators=160)</pre></div></div></div></div></div>"
      ],
      "text/plain": [
       "RandomForestClassifier(max_depth=19, n_estimators=160)"
      ]
     },
     "execution_count": 121,
     "metadata": {},
     "output_type": "execute_result"
    }
   ],
   "source": [
    "ㅤbest_rf = rf_rs.best_estimator_ if rf_rs.best_score_ > rf_gs.best_score_ else rf_gs.best_estimator_\n",
    "ㅤbest_rf"
   ]
  },
  {
   "cell_type": "code",
   "execution_count": 122,
   "id": "92d59a5f",
   "metadata": {},
   "outputs": [],
   "source": [
    "train_sizes, train_scores, val_scores =\\\n",
    "                learning_curve(estimator=best_rf,\n",
    "                               X=X_train,\n",
    "                               y=y_train,\n",
    "                               train_sizes=np.linspace(0.1, 1.0, 10),\n",
    "                               cv=5,\n",
    "                               n_jobs=1)"
   ]
  },
  {
   "cell_type": "code",
   "execution_count": 123,
   "id": "a4ec18fe",
   "metadata": {},
   "outputs": [],
   "source": [
    "mean_train_scores = train_scores.mean(axis=1)\n",
    "mean_val_scores = val_scores.mean(axis=1)"
   ]
  },
  {
   "cell_type": "code",
   "execution_count": 124,
   "id": "880650d6",
   "metadata": {},
   "outputs": [
    {
     "data": {
      "image/png": "[encoded data removed]",
      "text/plain": [
       "<Figure size 640x480 with 1 Axes>"
      ]
     },
     "metadata": {},
     "output_type": "display_data"
    }
   ],
   "source": [
    "plt.plot(train_sizes, mean_train_scores, c='r', label='Training Accuracy')\n",
    "plt.plot(train_sizes, mean_val_scores, c='b', label='Validation Accuracy')\n",
    "plt.title('Learning Curve for Selected Random Forest Model')\n",
    "plt.xlabel('Size of training set')\n",
    "plt.ylabel('Accuracy')\n",
    "plt.legend()\n",
    "plt.tight_layout()"
   ]
  },
  {
   "cell_type": "markdown",
   "id": "010d640d",
   "metadata": {},
   "source": [
    "### Test the selected model"
   ]
  },
  {
   "cell_type": "code",
   "execution_count": 125,
   "id": "555e2dbb",
   "metadata": {},
   "outputs": [
    {
     "data": {
      "text/plain": [
       "0.8722943722943723"
      ]
     },
     "execution_count": 125,
     "metadata": {},
     "output_type": "execute_result"
    }
   ],
   "source": [
    "y_test_pred_rf = best_rf.predict(X_test)\n",
    "np.mean(y_test = = y_test_pred_rf)"
   ]
  },
  {
   "cell_type": "markdown",
   "id": "f52b3b89",
   "metadata": {},
   "source": [
    "## Feature importance"
   ]
  },
  {
   "cell_type": "code",
   "execution_count": 127,
   "id": "7439d9ca",
   "metadata": {},
   "outputs": [],
   "source": [
    "# Training a Random Forest Classifier model and printing the score\n",
    "rf = RandomForestClassifier(random_state=1, n_estimators=100).fit(X_train, y_train)"
   ]
  },
  {
   "cell_type": "code",
   "execution_count": 129,
   "id": "e704c728",
   "metadata": {},
   "outputs": [
    {
     "data": {
      "image/png": "[encoded data removed]",
      "text/plain": [
       "<Figure size 1000x1000 with 1 Axes>"
      ]
     },
     "metadata": {},
     "output_type": "display_data"
    }
   ],
   "source": [
    "# Figuring out which parameters were the most important so we can make an improved model\n",
    "feature_importances = rf.feature_importances_\n",
    "features = sorted(zip(X.columns, rf.feature_importances _), key = lambda x: x[1])\n",
    "cols = [f[0] for f in features]\n",
    "width = [f[1] for f in features]\n",
    "\n",
    "# Creating the graph \n",
    "fig, ax = plt.subplots()\n",
    "\n",
    "fig.set_size_inches(10,10)\n",
    "plt.margins(y=0.001)\n",
    "\n",
    "ax.barh(y=cols, width=width)\n",
    "plt.xlabel('Importance')\n",
    "plt.ylabel('Parameter')\n",
    "plt.show()"
   ]
  },
  {
   "cell_type": "code",
   "execution_count": null,
   "id": "72d974cf",
   "metadata": {},
   "outputs": [],
   "source": []
  }
 ],
 "metadata": {
  "kernelspec": {
   "display_name": "Python 3 (ipykernel)",
   "language": "python",
   "name": "python3"
  },
  "language_info": {
   "codemirror_mode": {
    "name": "ipython",
    "version": 3
   },
   "file_extension": ".py",
   "mimetype": "text/x-python",
   "name": "python",
   "nbconvert_exporter": "python",
   "pygments_lexer": "ipython3",
   "version": "3.9.7"
  }
 },
 "nbformat": 4,
 "nbformat_minor": 5
}
